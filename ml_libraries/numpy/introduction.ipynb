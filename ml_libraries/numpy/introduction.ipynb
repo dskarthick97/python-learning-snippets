{
 "cells": [
  {
   "cell_type": "markdown",
   "id": "855ed2dc",
   "metadata": {},
   "source": [
    "# I. Numpy\n",
    "\n",
    "---\n",
    "\n",
    "A general purpose array processing package which provides high-performance, homogenous, multi-dimensional array object, and tools for working with arrays.\n",
    "\n",
    "\n",
    "It is a fundamental package for `scientific computing` in Python. It contains other things:\n",
    "- a powerful N-dimensional array object\n",
    "\n",
    "\n",
    "- sophisticated (broadcasting) functions\n",
    "\n",
    "\n",
    "- tools for integrating C/C++ and Fortran code\n",
    "\n",
    "\n",
    "- useful linear algebra, Fourier transform, and random number capabilities\n",
    "\n",
    "Besides it scientific uses, `Numpy` can also be used as an efficient multi-dimensional container of generic data. Arbitrary data types can be defined. This allows Numpy to seamlessly and speedily integrate with a wide variety of databases."
   ]
  },
  {
   "attachments": {
    "numpy.drawio.png": {
     "image/png": "[encoded data removed]"
    }
   },
   "cell_type": "markdown",
   "id": "219ce816",
   "metadata": {},
   "source": [
    "# II. Numpy Arrays\n",
    "\n",
    "---\n",
    "\n",
    "Numpy's main object is homogenous multi-dimensional array\n",
    "- It is a table of elements (usually numbers), all of the same type, indexed by a tuple of positive integers\n",
    "\n",
    "\n",
    "- Dimensions are called `axes`. The number of axes is `rank`\n",
    "\n",
    "\n",
    "- Numpy's array class is called **ndarray**. It is also known by the alias **array**\n",
    "\n",
    "![numpy.drawio.png](attachment:numpy.drawio.png)"
   ]
  },
  {
   "cell_type": "markdown",
   "id": "41d91e73",
   "metadata": {},
   "source": [
    "For example:\n",
    "\n",
    "[ [ 1, 2, 3 ]\n",
    "  [ 4, 5, 6 ] ]\n",
    "\n",
    "This array has:\n",
    "- rank = 2 (as it is 2-dimensional or it has 2 axes)\n",
    "\n",
    "\n",
    "- first dimension(axis) length = 2, second dimension has length = 3\n",
    "\n",
    "\n",
    "- overall shape can be expressed as: (2, 3)"
   ]
  },
  {
   "cell_type": "code",
   "execution_count": 1,
   "id": "49986767",
   "metadata": {},
   "outputs": [],
   "source": [
    "import numpy as np"
   ]
  },
  {
   "cell_type": "code",
   "execution_count": 2,
   "id": "df288da0",
   "metadata": {},
   "outputs": [],
   "source": [
    "lst = [[1, 2, 3], [4, 5, 6]]"
   ]
  },
  {
   "cell_type": "code",
   "execution_count": 3,
   "id": "5bf2e3ce",
   "metadata": {},
   "outputs": [
    {
     "data": {
      "text/plain": [
       "array([[1, 2, 3],\n",
       "       [4, 5, 6]])"
      ]
     },
     "execution_count": 3,
     "metadata": {},
     "output_type": "execute_result"
    }
   ],
   "source": [
    "arr = np.array(lst)\n",
    "arr"
   ]
  },
  {
   "cell_type": "code",
   "execution_count": 4,
   "id": "78dba1e9",
   "metadata": {},
   "outputs": [
    {
     "data": {
      "text/plain": [
       "numpy.ndarray"
      ]
     },
     "execution_count": 4,
     "metadata": {},
     "output_type": "execute_result"
    }
   ],
   "source": [
    "type(arr)"
   ]
  },
  {
   "cell_type": "code",
   "execution_count": 5,
   "id": "ca64c468",
   "metadata": {},
   "outputs": [
    {
     "data": {
      "text/plain": [
       "(2, 3)"
      ]
     },
     "execution_count": 5,
     "metadata": {},
     "output_type": "execute_result"
    }
   ],
   "source": [
    "arr.shape"
   ]
  },
  {
   "cell_type": "code",
   "execution_count": 6,
   "id": "70d068d7",
   "metadata": {},
   "outputs": [
    {
     "data": {
      "text/plain": [
       "dtype('int32')"
      ]
     },
     "execution_count": 6,
     "metadata": {},
     "output_type": "execute_result"
    }
   ],
   "source": [
    "arr.dtype  # data type of the array"
   ]
  },
  {
   "cell_type": "code",
   "execution_count": 7,
   "id": "9217e86a",
   "metadata": {},
   "outputs": [],
   "source": [
    "# Numpy arrays are homogenous\n",
    "\n",
    "float_lst = [[1, 2, 3.0], [4, 5, 6]]"
   ]
  },
  {
   "cell_type": "code",
   "execution_count": 8,
   "id": "ecd70089",
   "metadata": {},
   "outputs": [
    {
     "data": {
      "text/plain": [
       "array([[1., 2., 3.],\n",
       "       [4., 5., 6.]])"
      ]
     },
     "execution_count": 8,
     "metadata": {},
     "output_type": "execute_result"
    }
   ],
   "source": [
    "float_arr = np.array(float_lst)\n",
    "float_arr"
   ]
  },
  {
   "cell_type": "code",
   "execution_count": 9,
   "id": "5ee65d60",
   "metadata": {},
   "outputs": [
    {
     "data": {
      "text/plain": [
       "numpy.ndarray"
      ]
     },
     "execution_count": 9,
     "metadata": {},
     "output_type": "execute_result"
    }
   ],
   "source": [
    "type(float_arr)"
   ]
  },
  {
   "cell_type": "code",
   "execution_count": 10,
   "id": "628f3059",
   "metadata": {},
   "outputs": [
    {
     "data": {
      "text/plain": [
       "(2, 3)"
      ]
     },
     "execution_count": 10,
     "metadata": {},
     "output_type": "execute_result"
    }
   ],
   "source": [
    "float_arr.shape"
   ]
  },
  {
   "cell_type": "code",
   "execution_count": 11,
   "id": "65b464fa",
   "metadata": {},
   "outputs": [
    {
     "data": {
      "text/plain": [
       "dtype('float64')"
      ]
     },
     "execution_count": 11,
     "metadata": {},
     "output_type": "execute_result"
    }
   ],
   "source": [
    "float_arr.dtype"
   ]
  },
  {
   "cell_type": "code",
   "execution_count": 14,
   "id": "f66b45b9",
   "metadata": {},
   "outputs": [
    {
     "data": {
      "text/plain": [
       "array([[1.+0.j, 2.+0.j, 3.+0.j],\n",
       "       [4.+0.j, 5.+0.j, 6.+0.j]])"
      ]
     },
     "execution_count": 14,
     "metadata": {},
     "output_type": "execute_result"
    }
   ],
   "source": [
    "# we can override the type of an array while creating\n",
    "\n",
    "overridden_arr = np.array(float_lst, dtype=\"complex\")\n",
    "overridden_arr"
   ]
  },
  {
   "cell_type": "code",
   "execution_count": 16,
   "id": "e31d967e",
   "metadata": {},
   "outputs": [
    {
     "data": {
      "text/plain": [
       "dtype('complex128')"
      ]
     },
     "execution_count": 16,
     "metadata": {},
     "output_type": "execute_result"
    }
   ],
   "source": [
    "overridden_arr.dtype"
   ]
  },
  {
   "cell_type": "markdown",
   "id": "762fa6b5",
   "metadata": {},
   "source": [
    "# III. Array creation\n",
    "\n",
    "---\n",
    "\n",
    "There are various ways to create arrays in NumPy.\n",
    "\n",
    "### case - I\n",
    "Can create array from a regular Python **list** or **tuple** using the **array** function. The type of the resulting array is deduced from the type of the elements in the sequences."
   ]
  },
  {
   "cell_type": "code",
   "execution_count": 2,
   "id": "46021726",
   "metadata": {},
   "outputs": [
    {
     "data": {
      "text/plain": [
       "array([[1, 2, 3],\n",
       "       [4, 5, 6]])"
      ]
     },
     "execution_count": 2,
     "metadata": {},
     "output_type": "execute_result"
    }
   ],
   "source": [
    "# basic way of creating an numpy array\n",
    "\n",
    "lst = [[1, 2, 3], [4, 5, 6]]\n",
    "nump_arr = np.array(lst)\n",
    "nump_arr"
   ]
  },
  {
   "cell_type": "markdown",
   "id": "95e423fa",
   "metadata": {},
   "source": [
    "### case - II\n",
    "Often, the elements of an array are originally unknown, but its size is known. Hence, NumPy offers several functions to create arrays with **initial placeholder content**. These minimize the necessity of growing arrays, an expensive operation. **For example**: np.zeros, np.ones, np.full, np.empty, np.random.random, np.random.randint etc."
   ]
  },
  {
   "cell_type": "code",
   "execution_count": 3,
   "id": "75a9d053",
   "metadata": {},
   "outputs": [
    {
     "data": {
      "text/plain": [
       "array([[0., 0., 0., 0.],\n",
       "       [0., 0., 0., 0.],\n",
       "       [0., 0., 0., 0.],\n",
       "       [0., 0., 0., 0.]])"
      ]
     },
     "execution_count": 3,
     "metadata": {},
     "output_type": "execute_result"
    }
   ],
   "source": [
    "np.zeros((4, 4))  # here the length is known but the actual array elements are unknown."
   ]
  },
  {
   "cell_type": "code",
   "execution_count": 4,
   "id": "b3d3f267",
   "metadata": {},
   "outputs": [
    {
     "data": {
      "text/plain": [
       "array([[0, 0, 0, 0],\n",
       "       [0, 0, 0, 0],\n",
       "       [0, 0, 0, 0],\n",
       "       [0, 0, 0, 0]])"
      ]
     },
     "execution_count": 4,
     "metadata": {},
     "output_type": "execute_result"
    }
   ],
   "source": [
    "np.zeros((4, 4), dtype=\"int\")"
   ]
  },
  {
   "cell_type": "code",
   "execution_count": 6,
   "id": "336ee73f",
   "metadata": {},
   "outputs": [
    {
     "data": {
      "text/plain": [
       "array([[1, 1, 1, 1],\n",
       "       [1, 1, 1, 1],\n",
       "       [1, 1, 1, 1],\n",
       "       [1, 1, 1, 1]])"
      ]
     },
     "execution_count": 6,
     "metadata": {},
     "output_type": "execute_result"
    }
   ],
   "source": [
    "np.ones((4, 4), dtype=\"int\")"
   ]
  },
  {
   "cell_type": "code",
   "execution_count": 8,
   "id": "68de16d7",
   "metadata": {},
   "outputs": [
    {
     "data": {
      "text/plain": [
       "array([[18, 18, 18],\n",
       "       [18, 18, 18],\n",
       "       [18, 18, 18]])"
      ]
     },
     "execution_count": 8,
     "metadata": {},
     "output_type": "execute_result"
    }
   ],
   "source": [
    "np.full((3, 3), 18)  # can fill any element"
   ]
  },
  {
   "cell_type": "code",
   "execution_count": 11,
   "id": "0366ccf4",
   "metadata": {},
   "outputs": [
    {
     "data": {
      "text/plain": [
       "array([[0.29002612, 0.60147361],\n",
       "       [0.83016883, 0.90494548]])"
      ]
     },
     "execution_count": 11,
     "metadata": {},
     "output_type": "execute_result"
    }
   ],
   "source": [
    "np.random.random((2, 2))  # filled with random numbers"
   ]
  },
  {
   "cell_type": "code",
   "execution_count": 12,
   "id": "857d3ddf",
   "metadata": {},
   "outputs": [
    {
     "data": {
      "text/plain": [
       "array([[5, 3, 2],\n",
       "       [1, 3, 2],\n",
       "       [1, 7, 8]])"
      ]
     },
     "execution_count": 12,
     "metadata": {},
     "output_type": "execute_result"
    }
   ],
   "source": [
    "np.random.randint(1, 10, (3, 3))  # filled with random integers"
   ]
  },
  {
   "cell_type": "markdown",
   "id": "f364e2fb",
   "metadata": {},
   "source": [
    "### case - III\n",
    "To create sequences of numbers, NumPy provides a function analogous to range that returns arrays instead of lists.\n",
    "\n",
    "- **arange:** returns evenly spaced values within a given interval. **step** size is specified.\n",
    "\n",
    "\n",
    "- **linspace:** returns evenly spaced values within a given interval. **num** no. of elements are returned."
   ]
  },
  {
   "cell_type": "code",
   "execution_count": 14,
   "id": "f3776b50",
   "metadata": {},
   "outputs": [
    {
     "data": {
      "text/plain": [
       "array([0, 1, 2, 3, 4, 5, 6, 7, 8, 9])"
      ]
     },
     "execution_count": 14,
     "metadata": {},
     "output_type": "execute_result"
    }
   ],
   "source": [
    "np.array(list(range(10)))"
   ]
  },
  {
   "cell_type": "code",
   "execution_count": 15,
   "id": "abfa098e",
   "metadata": {},
   "outputs": [
    {
     "data": {
      "text/plain": [
       "array([0, 1, 2, 3, 4, 5, 6, 7, 8, 9])"
      ]
     },
     "execution_count": 15,
     "metadata": {},
     "output_type": "execute_result"
    }
   ],
   "source": [
    "np.arange(10)"
   ]
  },
  {
   "cell_type": "code",
   "execution_count": 16,
   "id": "714770a3",
   "metadata": {},
   "outputs": [
    {
     "ename": "TypeError",
     "evalue": "'float' object cannot be interpreted as an integer",
     "output_type": "error",
     "traceback": [
      "\u001b[1;31m---------------------------------------------------------------------------\u001b[0m",
      "\u001b[1;31mTypeError\u001b[0m                                 Traceback (most recent call last)",
      "Input \u001b[1;32mIn [16]\u001b[0m, in \u001b[0;36m<cell line: 4>\u001b[1;34m()\u001b[0m\n\u001b[0;32m      1\u001b[0m \u001b[38;5;66;03m# the difference between using a range and arange is step interval\u001b[39;00m\n\u001b[0;32m      2\u001b[0m \n\u001b[0;32m      3\u001b[0m \u001b[38;5;66;03m# range - only integer is accepted as step value\u001b[39;00m\n\u001b[1;32m----> 4\u001b[0m \u001b[38;5;28mlist\u001b[39m(\u001b[38;5;28;43mrange\u001b[39;49m\u001b[43m(\u001b[49m\u001b[38;5;241;43m1\u001b[39;49m\u001b[43m,\u001b[49m\u001b[43m \u001b[49m\u001b[38;5;241;43m10\u001b[39;49m\u001b[43m,\u001b[49m\u001b[43m \u001b[49m\u001b[38;5;241;43m0.5\u001b[39;49m\u001b[43m)\u001b[49m)\n",
      "\u001b[1;31mTypeError\u001b[0m: 'float' object cannot be interpreted as an integer"
     ]
    }
   ],
   "source": [
    "# the difference between using a range and arange is step interval\n",
    "\n",
    "# range - only integer is accepted as step value\n",
    "list(range(1, 10, 0.5))"
   ]
  },
  {
   "cell_type": "code",
   "execution_count": 17,
   "id": "b9fbb272",
   "metadata": {},
   "outputs": [
    {
     "data": {
      "text/plain": [
       "array([1. , 1.5, 2. , 2.5, 3. , 3.5, 4. , 4.5, 5. , 5.5, 6. , 6.5, 7. ,\n",
       "       7.5, 8. , 8.5, 9. , 9.5])"
      ]
     },
     "execution_count": 17,
     "metadata": {},
     "output_type": "execute_result"
    }
   ],
   "source": [
    "# arange - can accept float value as well as step value\n",
    "\n",
    "np.arange(1, 10, 0.5)"
   ]
  },
  {
   "cell_type": "code",
   "execution_count": 19,
   "id": "a58acbe2",
   "metadata": {},
   "outputs": [
    {
     "data": {
      "text/plain": [
       "array([ 1.        ,  1.47368421,  1.94736842,  2.42105263,  2.89473684,\n",
       "        3.36842105,  3.84210526,  4.31578947,  4.78947368,  5.26315789,\n",
       "        5.73684211,  6.21052632,  6.68421053,  7.15789474,  7.63157895,\n",
       "        8.10526316,  8.57894737,  9.05263158,  9.52631579, 10.        ])"
      ]
     },
     "execution_count": 19,
     "metadata": {},
     "output_type": "execute_result"
    }
   ],
   "source": [
    "# 20 elements equally spaced between 1 and 10\n",
    "\n",
    "np.linspace(1, 10, 20)"
   ]
  },
  {
   "cell_type": "markdown",
   "id": "d620d9b4",
   "metadata": {},
   "source": [
    "# IV. Array Reshaping\n",
    "\n",
    "---\n",
    "\n",
    "We can use **reshape** method to reshape an array. Consider an array with shape (a1, a2, a3, ..., aN). We can reshape and convert it into another array with shape (b1, b2, b3, ....., bM). The only required condition is:\n",
    "\n",
    "a1 x a2 x a3 .... x aN = b1 x b2 x b3 .... x bM\n",
    "\n",
    "(i.e original size of array remains unchanged.)"
   ]
  },
  {
   "cell_type": "code",
   "execution_count": 2,
   "id": "6ebea76f",
   "metadata": {},
   "outputs": [
    {
     "data": {
      "text/plain": [
       "array([[1, 2, 3, 4, 5, 6, 7, 8]])"
      ]
     },
     "execution_count": 2,
     "metadata": {},
     "output_type": "execute_result"
    }
   ],
   "source": [
    "nump_arr = np.array([[1, 2, 3, 4, 5, 6, 7, 8]])\n",
    "nump_arr"
   ]
  },
  {
   "cell_type": "code",
   "execution_count": 3,
   "id": "b5a045c3",
   "metadata": {},
   "outputs": [
    {
     "data": {
      "text/plain": [
       "(1, 8)"
      ]
     },
     "execution_count": 3,
     "metadata": {},
     "output_type": "execute_result"
    }
   ],
   "source": [
    "nump_arr.shape"
   ]
  },
  {
   "cell_type": "markdown",
   "id": "0e2ee9ba",
   "metadata": {},
   "source": [
    "**NOTE:** (1, 8) array can be reshaped into (2, 4), (4, 2), 3D array of (2, 2, 2), 4D array of (1, 2, 2, 2). Can be reshaped into any dimensional array, but the only condition is that the shape of original array should be equal to shape of the reshaped array.\n",
    "\n",
    "> shape(original array) == shape(reshaped array)"
   ]
  },
  {
   "cell_type": "code",
   "execution_count": 4,
   "id": "e6c1fe9d",
   "metadata": {},
   "outputs": [
    {
     "data": {
      "text/plain": [
       "array([[1, 2, 3, 4],\n",
       "       [5, 6, 7, 8]])"
      ]
     },
     "execution_count": 4,
     "metadata": {},
     "output_type": "execute_result"
    }
   ],
   "source": [
    "nump_arr.reshape((2, 4))  # called as row major order"
   ]
  },
  {
   "cell_type": "code",
   "execution_count": 5,
   "id": "e7488451",
   "metadata": {},
   "outputs": [
    {
     "data": {
      "text/plain": [
       "array([[1, 2, 3, 4, 5, 6, 7, 8]])"
      ]
     },
     "execution_count": 5,
     "metadata": {},
     "output_type": "execute_result"
    }
   ],
   "source": [
    "nump_arr"
   ]
  },
  {
   "attachments": {
    "numpy_reshape.png": {
     "image/png": "[encoded data removed]"
    }
   },
   "cell_type": "markdown",
   "id": "0aa9b38c",
   "metadata": {},
   "source": [
    "![numpy_reshape.png](attachment:numpy_reshape.png)"
   ]
  },
  {
   "cell_type": "code",
   "execution_count": 36,
   "id": "f5d8055e",
   "metadata": {},
   "outputs": [
    {
     "data": {
      "text/plain": [
       "array([[1, 2, 3, 4],\n",
       "       [5, 6, 7, 8]])"
      ]
     },
     "execution_count": 36,
     "metadata": {},
     "output_type": "execute_result"
    }
   ],
   "source": [
    "nump_arr.reshape((2, 4), order=\"C\")  # row major order -- default behavior"
   ]
  },
  {
   "cell_type": "code",
   "execution_count": 35,
   "id": "68ecef30",
   "metadata": {},
   "outputs": [
    {
     "data": {
      "text/plain": [
       "array([[1, 3, 5, 7],\n",
       "       [2, 4, 6, 8]])"
      ]
     },
     "execution_count": 35,
     "metadata": {},
     "output_type": "execute_result"
    }
   ],
   "source": [
    "nump_arr.reshape((2, 4), order=\"F\")  # column major order"
   ]
  },
  {
   "cell_type": "markdown",
   "id": "0e7c7e6e",
   "metadata": {},
   "source": [
    "# V. Array Flattening\n",
    "\n",
    "---\n",
    "\n",
    "Converts multi-dimensional array into a simple one-dimensional array. This is called as `collapsing` or `flattening` of array."
   ]
  },
  {
   "cell_type": "code",
   "execution_count": 37,
   "id": "2e01167a",
   "metadata": {},
   "outputs": [],
   "source": [
    "unflattend_arr = np.array([[1, 2, 3], [4, 5, 6]])"
   ]
  },
  {
   "cell_type": "code",
   "execution_count": 39,
   "id": "d7032578",
   "metadata": {},
   "outputs": [
    {
     "data": {
      "text/plain": [
       "array([1, 2, 3, 4, 5, 6])"
      ]
     },
     "execution_count": 39,
     "metadata": {},
     "output_type": "execute_result"
    }
   ],
   "source": [
    "unflattend_arr.flatten()  # flattens the array by row major order"
   ]
  },
  {
   "cell_type": "code",
   "execution_count": 42,
   "id": "4a0d86ca",
   "metadata": {},
   "outputs": [
    {
     "data": {
      "text/plain": [
       "array([1, 4, 2, 5, 3, 6])"
      ]
     },
     "execution_count": 42,
     "metadata": {},
     "output_type": "execute_result"
    }
   ],
   "source": [
    "unflattend_arr.flatten(order=\"F\")   # flattens the array by column major order"
   ]
  },
  {
   "cell_type": "code",
   "execution_count": 50,
   "id": "bd687895",
   "metadata": {},
   "outputs": [
    {
     "data": {
      "text/plain": [
       "array([[1, 2, 3, 4, 5, 6]])"
      ]
     },
     "execution_count": 50,
     "metadata": {},
     "output_type": "execute_result"
    }
   ],
   "source": [
    "# we can flatten the array without using the flatten method\n",
    "\n",
    "unflattend_arr.reshape((1, 6))"
   ]
  },
  {
   "cell_type": "markdown",
   "id": "a2cef976",
   "metadata": {},
   "source": [
    "# VI. Array Indexing\n",
    "\n",
    "---\n",
    "\n",
    "Knowing the basics of array indexing is important for analysing and manipulating the array object. NumPy offers many ways to do array indexing.\n",
    "\n",
    "- **Positive tuple indexing**"
   ]
  },
  {
   "cell_type": "code",
   "execution_count": 51,
   "id": "bca869a5",
   "metadata": {},
   "outputs": [],
   "source": [
    "nump_arr = np.array([[-1, 2, 0, 4], [4, -0.5, 6, 0], [2.6, 0, 7, 8], [3, -7, 4, 2.0]])"
   ]
  },
  {
   "cell_type": "code",
   "execution_count": 55,
   "id": "9b1507d4",
   "metadata": {},
   "outputs": [
    {
     "data": {
      "text/plain": [
       "array([[-1. ,  2. ,  0. ,  4. ],\n",
       "       [ 4. , -0.5,  6. ,  0. ],\n",
       "       [ 2.6,  0. ,  7. ,  8. ],\n",
       "       [ 3. , -7. ,  4. ,  2. ]])"
      ]
     },
     "execution_count": 55,
     "metadata": {},
     "output_type": "execute_result"
    }
   ],
   "source": [
    "nump_arr"
   ]
  },
  {
   "cell_type": "code",
   "execution_count": 54,
   "id": "cc4da99d",
   "metadata": {},
   "outputs": [
    {
     "data": {
      "text/plain": [
       "dtype('float64')"
      ]
     },
     "execution_count": 54,
     "metadata": {},
     "output_type": "execute_result"
    }
   ],
   "source": [
    "nump_arr.dtype"
   ]
  },
  {
   "cell_type": "code",
   "execution_count": 57,
   "id": "0196cb2c",
   "metadata": {},
   "outputs": [
    {
     "data": {
      "text/plain": [
       "0.0"
      ]
     },
     "execution_count": 57,
     "metadata": {},
     "output_type": "execute_result"
    }
   ],
   "source": [
    "nump_arr[2, 1]"
   ]
  },
  {
   "cell_type": "code",
   "execution_count": 58,
   "id": "a2cb721e",
   "metadata": {},
   "outputs": [
    {
     "data": {
      "text/plain": [
       "0.0"
      ]
     },
     "execution_count": 58,
     "metadata": {},
     "output_type": "execute_result"
    }
   ],
   "source": [
    "nump_arr[2][1]"
   ]
  },
  {
   "attachments": {
    "array_slicing.png": {
     "image/png": "[encoded data removed]"
    }
   },
   "cell_type": "markdown",
   "id": "81b436c5",
   "metadata": {},
   "source": [
    "![array_slicing.png](attachment:array_slicing.png)"
   ]
  },
  {
   "cell_type": "markdown",
   "id": "b0255440",
   "metadata": {},
   "source": [
    "- **Slicing:** Just like lists in python, NumPy arrays can be sliced. As arrays can be multidimensional, you need to specify a slice for each dimension of the array."
   ]
  },
  {
   "cell_type": "code",
   "execution_count": 59,
   "id": "3c153055",
   "metadata": {},
   "outputs": [
    {
     "data": {
      "text/plain": [
       "array([[-1. ,  2. ,  0. ,  4. ],\n",
       "       [ 4. , -0.5,  6. ,  0. ],\n",
       "       [ 2.6,  0. ,  7. ,  8. ],\n",
       "       [ 3. , -7. ,  4. ,  2. ]])"
      ]
     },
     "execution_count": 59,
     "metadata": {},
     "output_type": "execute_result"
    }
   ],
   "source": [
    "nump_arr"
   ]
  },
  {
   "cell_type": "code",
   "execution_count": 60,
   "id": "9773bc60",
   "metadata": {},
   "outputs": [
    {
     "data": {
      "text/plain": [
       "array([[-1. ,  2. ,  0. ,  4. ],\n",
       "       [ 4. , -0.5,  6. ,  0. ]])"
      ]
     },
     "execution_count": 60,
     "metadata": {},
     "output_type": "execute_result"
    }
   ],
   "source": [
    "nump_arr[:2]"
   ]
  },
  {
   "cell_type": "code",
   "execution_count": 66,
   "id": "cd64bd1c",
   "metadata": {},
   "outputs": [
    {
     "data": {
      "text/plain": [
       "array([[-1. ,  2. ],\n",
       "       [ 4. , -0.5],\n",
       "       [ 2.6,  0. ],\n",
       "       [ 3. , -7. ]])"
      ]
     },
     "execution_count": 66,
     "metadata": {},
     "output_type": "execute_result"
    }
   ],
   "source": [
    "nump_arr[:,:2]"
   ]
  },
  {
   "attachments": {
    "image.png": {
     "image/png": "[encoded data removed]"
    }
   },
   "cell_type": "markdown",
   "id": "813ac2ae",
   "metadata": {},
   "source": [
    "![image.png](attachment:image.png)"
   ]
  },
  {
   "cell_type": "markdown",
   "id": "e326cf01",
   "metadata": {},
   "source": [
    "- **Integer array indexing:** In this method, lists are passed for indexing for each dimension. One to one mapping of corresponding elements is done to construct a new arbitrary array."
   ]
  },
  {
   "cell_type": "code",
   "execution_count": 68,
   "id": "d60ca965",
   "metadata": {},
   "outputs": [
    {
     "data": {
      "text/plain": [
       "-1.0"
      ]
     },
     "execution_count": 68,
     "metadata": {},
     "output_type": "execute_result"
    }
   ],
   "source": [
    "nump_arr[0, 0]  # element at 0th row and 0th column"
   ]
  },
  {
   "cell_type": "code",
   "execution_count": 70,
   "id": "45994939",
   "metadata": {},
   "outputs": [
    {
     "data": {
      "text/plain": [
       "array([-1. , -0.5,  7. ,  2. ])"
      ]
     },
     "execution_count": 70,
     "metadata": {},
     "output_type": "execute_result"
    }
   ],
   "source": [
    "nump_arr[[0, 1, 2, 3], [0, 1, 2, 3]]"
   ]
  },
  {
   "cell_type": "markdown",
   "id": "0879a6c5",
   "metadata": {},
   "source": [
    "In the above case, the indexing happens as one to one mapping .i.e., (0, 0), (1, 1), (2, 2) and (3, 3)"
   ]
  },
  {
   "cell_type": "markdown",
   "id": "009f4c26",
   "metadata": {},
   "source": [
    "- **Boolean array indexing:** This method is used when we want to pick elements from array which satisfy some condition."
   ]
  },
  {
   "cell_type": "code",
   "execution_count": 71,
   "id": "c1f4c908",
   "metadata": {},
   "outputs": [
    {
     "data": {
      "text/plain": [
       "array([[False,  True, False,  True],\n",
       "       [ True, False,  True, False],\n",
       "       [ True, False,  True,  True],\n",
       "       [ True, False,  True,  True]])"
      ]
     },
     "execution_count": 71,
     "metadata": {},
     "output_type": "execute_result"
    }
   ],
   "source": [
    "nump_arr > 0"
   ]
  },
  {
   "cell_type": "code",
   "execution_count": 73,
   "id": "64c9ec03",
   "metadata": {},
   "outputs": [
    {
     "data": {
      "text/plain": [
       "array([2. , 4. , 4. , 6. , 2.6, 7. , 8. , 3. , 4. , 2. ])"
      ]
     },
     "execution_count": 73,
     "metadata": {},
     "output_type": "execute_result"
    }
   ],
   "source": [
    "nump_arr[nump_arr > 0]  # returns a flattened array with elements that satifies the condition."
   ]
  },
  {
   "cell_type": "markdown",
   "id": "37b4fe5d",
   "metadata": {},
   "source": [
    "# VII. Array Operations\n",
    "\n",
    "---\n",
    "\n",
    "Plethora of built-in arithmetic functions are provided in NumPy.\n",
    "\n",
    "- **Elementwise operation:** We can use overloaded arithmetic operators to do element-wise operation on array to create a new array. In case of +=, -=, *= operators, the exsisting array is modified."
   ]
  },
  {
   "cell_type": "code",
   "execution_count": 7,
   "id": "f70d6fdd",
   "metadata": {},
   "outputs": [
    {
     "data": {
      "text/plain": [
       "array([[1, 2, 3],\n",
       "       [4, 5, 6]])"
      ]
     },
     "execution_count": 7,
     "metadata": {},
     "output_type": "execute_result"
    }
   ],
   "source": [
    "nump_arr = np.array([[1, 2, 3], [4, 5, 6]])\n",
    "nump_arr"
   ]
  },
  {
   "cell_type": "code",
   "execution_count": 8,
   "id": "b96bb005",
   "metadata": {},
   "outputs": [
    {
     "data": {
      "text/plain": [
       "array([[2, 3, 4],\n",
       "       [5, 6, 7]])"
      ]
     },
     "execution_count": 8,
     "metadata": {},
     "output_type": "execute_result"
    }
   ],
   "source": [
    "nump_arr + 1  # add 1 to each element in an array"
   ]
  },
  {
   "cell_type": "code",
   "execution_count": 9,
   "id": "6bfe7cf8",
   "metadata": {},
   "outputs": [
    {
     "data": {
      "text/plain": [
       "array([[ 1,  4,  9],\n",
       "       [16, 25, 36]])"
      ]
     },
     "execution_count": 9,
     "metadata": {},
     "output_type": "execute_result"
    }
   ],
   "source": [
    "nump_arr ** 2  # squares all the element"
   ]
  },
  {
   "cell_type": "code",
   "execution_count": 10,
   "id": "10fea5f0",
   "metadata": {},
   "outputs": [],
   "source": [
    "nump_arr += 1"
   ]
  },
  {
   "cell_type": "code",
   "execution_count": 11,
   "id": "4ad709d6",
   "metadata": {},
   "outputs": [
    {
     "data": {
      "text/plain": [
       "array([[2, 3, 4],\n",
       "       [5, 6, 7]])"
      ]
     },
     "execution_count": 11,
     "metadata": {},
     "output_type": "execute_result"
    }
   ],
   "source": [
    "nump_arr"
   ]
  },
  {
   "cell_type": "markdown",
   "id": "458cef5e",
   "metadata": {},
   "source": [
    "- **Unary operators:** Many unary operations are provided as a method of **ndarray** class. This includes sum, min, max, etc. These functions can also be applied row-wise or column-wise by setting an axis parameter."
   ]
  },
  {
   "cell_type": "code",
   "execution_count": 12,
   "id": "0e542459",
   "metadata": {},
   "outputs": [
    {
     "data": {
      "text/plain": [
       "array([[2, 3, 4],\n",
       "       [5, 6, 7]])"
      ]
     },
     "execution_count": 12,
     "metadata": {},
     "output_type": "execute_result"
    }
   ],
   "source": [
    "nump_arr"
   ]
  },
  {
   "cell_type": "code",
   "execution_count": 14,
   "id": "34e70f38",
   "metadata": {},
   "outputs": [
    {
     "data": {
      "text/plain": [
       "27"
      ]
     },
     "execution_count": 14,
     "metadata": {},
     "output_type": "execute_result"
    }
   ],
   "source": [
    "nump_arr.sum()  # add all the elements in an array"
   ]
  },
  {
   "cell_type": "code",
   "execution_count": 16,
   "id": "e6e49de3",
   "metadata": {},
   "outputs": [
    {
     "data": {
      "text/plain": [
       "array([ 7,  9, 11])"
      ]
     },
     "execution_count": 16,
     "metadata": {},
     "output_type": "execute_result"
    }
   ],
   "source": [
    "# what if we wants to add only the row-wise / column-wise elements\n",
    "# to do, have to pass the axis parameter\n",
    "\n",
    "nump_arr.sum(axis=0)  # column-wise summation"
   ]
  },
  {
   "cell_type": "code",
   "execution_count": 17,
   "id": "17546e75",
   "metadata": {},
   "outputs": [
    {
     "data": {
      "text/plain": [
       "array([ 9, 18])"
      ]
     },
     "execution_count": 17,
     "metadata": {},
     "output_type": "execute_result"
    }
   ],
   "source": [
    "nump_arr.sum(axis=1)  # row-wise summation"
   ]
  },
  {
   "cell_type": "code",
   "execution_count": 18,
   "id": "a6656f35",
   "metadata": {},
   "outputs": [
    {
     "data": {
      "text/plain": [
       "2"
      ]
     },
     "execution_count": 18,
     "metadata": {},
     "output_type": "execute_result"
    }
   ],
   "source": [
    "nump_arr.min()"
   ]
  },
  {
   "cell_type": "code",
   "execution_count": 19,
   "id": "069ccf0b",
   "metadata": {},
   "outputs": [
    {
     "data": {
      "text/plain": [
       "array([2, 3, 4])"
      ]
     },
     "execution_count": 19,
     "metadata": {},
     "output_type": "execute_result"
    }
   ],
   "source": [
    "nump_arr.min(axis=0)"
   ]
  },
  {
   "cell_type": "code",
   "execution_count": 20,
   "id": "cc4285a2",
   "metadata": {},
   "outputs": [
    {
     "data": {
      "text/plain": [
       "array([2, 5])"
      ]
     },
     "execution_count": 20,
     "metadata": {},
     "output_type": "execute_result"
    }
   ],
   "source": [
    "nump_arr.min(axis=1)"
   ]
  },
  {
   "cell_type": "markdown",
   "id": "82e0a182",
   "metadata": {},
   "source": [
    "- **Binary operators:** These operations apply on array elementwise and a new array is created. You can use all basic arithmetic operators like +, -, /, , etc. In case of +=, -=, = operators, the exsisting array is modified."
   ]
  },
  {
   "cell_type": "code",
   "execution_count": 21,
   "id": "d093f7a8",
   "metadata": {},
   "outputs": [],
   "source": [
    "nump_arr_a = np.array([[1, 2],\n",
    "                       [3, 4]])\n",
    "\n",
    "nump_arr_b = np.array([[5, 6],\n",
    "                       [7, 8]])"
   ]
  },
  {
   "cell_type": "code",
   "execution_count": 23,
   "id": "c1156897",
   "metadata": {},
   "outputs": [
    {
     "data": {
      "text/plain": [
       "array([[ 6,  8],\n",
       "       [10, 12]])"
      ]
     },
     "execution_count": 23,
     "metadata": {},
     "output_type": "execute_result"
    }
   ],
   "source": [
    "# above both the arrays has same shape\n",
    "# if both the arrays has same shape, then element-wise operation will happen\n",
    "\n",
    "nump_arr_a + nump_arr_b"
   ]
  },
  {
   "cell_type": "markdown",
   "id": "9e7f52cc",
   "metadata": {},
   "source": [
    "- **Universal functions (ufunc):** NumPy provides familiar mathematical functions such as sin, cos, exp, etc. These functions also operate elementwise on an array, producing an array as output.\n",
    "\n",
    "**Note:** All the operations we did above using overloaded operators can be done using ufuncs like np.add, p.subtract,\n",
    "np.multiply, np.divide, np.sum, etc."
   ]
  },
  {
   "cell_type": "code",
   "execution_count": 24,
   "id": "7d1bf7e5",
   "metadata": {},
   "outputs": [
    {
     "data": {
      "text/plain": [
       "array([[2, 3, 4],\n",
       "       [5, 6, 7]])"
      ]
     },
     "execution_count": 24,
     "metadata": {},
     "output_type": "execute_result"
    }
   ],
   "source": [
    "nump_arr"
   ]
  },
  {
   "cell_type": "code",
   "execution_count": 26,
   "id": "7a4412bf",
   "metadata": {},
   "outputs": [
    {
     "data": {
      "text/plain": [
       "array([[ 0.90929743,  0.14112001, -0.7568025 ],\n",
       "       [-0.95892427, -0.2794155 ,  0.6569866 ]])"
      ]
     },
     "execution_count": 26,
     "metadata": {},
     "output_type": "execute_result"
    }
   ],
   "source": [
    "np.sin(nump_arr)  # here elementwise operation happens"
   ]
  },
  {
   "cell_type": "code",
   "execution_count": 28,
   "id": "029cc927",
   "metadata": {},
   "outputs": [
    {
     "data": {
      "text/plain": [
       "array([[   7.3890561 ,   20.08553692,   54.59815003],\n",
       "       [ 148.4131591 ,  403.42879349, 1096.63315843]])"
      ]
     },
     "execution_count": 28,
     "metadata": {},
     "output_type": "execute_result"
    }
   ],
   "source": [
    "np.exp(nump_arr)  # exponential value of each element eg., e**2, e**3, ..."
   ]
  },
  {
   "cell_type": "markdown",
   "id": "0c643563",
   "metadata": {},
   "source": [
    "# VIII. Array sorting\n",
    "\n",
    "---\n",
    "\n",
    "There is a simple **np.sort** method to sort elements in the array.\n",
    "\n",
    "**NOTE:**  `np.sort` operation will mutates the original Numpy array."
   ]
  },
  {
   "cell_type": "code",
   "execution_count": 29,
   "id": "5afe2e4f",
   "metadata": {},
   "outputs": [],
   "source": [
    "nump_arr = np.array([[1, 4, 2], [3, 4, 6], [0, -1, 5]])"
   ]
  },
  {
   "cell_type": "code",
   "execution_count": 30,
   "id": "206e36ad",
   "metadata": {},
   "outputs": [
    {
     "data": {
      "text/plain": [
       "array([[ 1,  4,  2],\n",
       "       [ 3,  4,  6],\n",
       "       [ 0, -1,  5]])"
      ]
     },
     "execution_count": 30,
     "metadata": {},
     "output_type": "execute_result"
    }
   ],
   "source": [
    "nump_arr"
   ]
  },
  {
   "cell_type": "code",
   "execution_count": 33,
   "id": "cd091b3d",
   "metadata": {},
   "outputs": [
    {
     "data": {
      "text/plain": [
       "array([[ 1,  2,  4],\n",
       "       [ 3,  4,  6],\n",
       "       [-1,  0,  5]])"
      ]
     },
     "execution_count": 33,
     "metadata": {},
     "output_type": "execute_result"
    }
   ],
   "source": [
    "np.sort(nump_arr)  # sorts rowwise"
   ]
  },
  {
   "cell_type": "code",
   "execution_count": 34,
   "id": "ca645903",
   "metadata": {},
   "outputs": [
    {
     "data": {
      "text/plain": [
       "array([[-1,  0,  4],\n",
       "       [ 1,  2,  5],\n",
       "       [ 3,  4,  6]])"
      ]
     },
     "execution_count": 34,
     "metadata": {},
     "output_type": "execute_result"
    }
   ],
   "source": [
    "np.sort(nump_arr, axis=0)  # sorts columnwise"
   ]
  },
  {
   "cell_type": "code",
   "execution_count": 35,
   "id": "c680c857",
   "metadata": {},
   "outputs": [
    {
     "data": {
      "text/plain": [
       "array([[ 1,  2,  4],\n",
       "       [ 3,  4,  6],\n",
       "       [-1,  0,  5]])"
      ]
     },
     "execution_count": 35,
     "metadata": {},
     "output_type": "execute_result"
    }
   ],
   "source": [
    "nump_arr"
   ]
  },
  {
   "cell_type": "code",
   "execution_count": 36,
   "id": "63fb5155",
   "metadata": {},
   "outputs": [
    {
     "data": {
      "text/plain": [
       "array([[ 1,  2,  4],\n",
       "       [ 3,  4,  6],\n",
       "       [-1,  0,  5]])"
      ]
     },
     "execution_count": 36,
     "metadata": {},
     "output_type": "execute_result"
    }
   ],
   "source": [
    "np.sort(nump_arr, axis=1)  # same as np.sort(nump_arr) -- rowwise sorting"
   ]
  },
  {
   "cell_type": "code",
   "execution_count": 37,
   "id": "35323110",
   "metadata": {},
   "outputs": [
    {
     "data": {
      "text/plain": [
       "array([-1,  0,  1,  2,  3,  4,  4,  5,  6])"
      ]
     },
     "execution_count": 37,
     "metadata": {},
     "output_type": "execute_result"
    }
   ],
   "source": [
    "# flattening the sorted array into as one-dimensional array\n",
    "\n",
    "np.sort(nump_arr, axis=None)"
   ]
  },
  {
   "cell_type": "markdown",
   "id": "21b87edd",
   "metadata": {},
   "source": [
    "# IX. Array Stacking & Splitting\n",
    "\n",
    "---\n",
    "\n",
    "### Stacking\n",
    "\n",
    "Several arrays can be stacked together along different axes.\n",
    "\n",
    "- **np.vstack:** To stack arrays along vertical axis.\n",
    "\n",
    "\n",
    "- **np.hstack:** To stack arrays along horizontal axis.\n",
    "\n",
    "\n",
    "- **np.column_stack:** To stack 1-D arrays as columns into 2-D arrays.\n",
    "\n",
    "\n",
    "- **np.row_stack:** To stack 1-D arrays as rows into 2-D arrays.\n",
    "\n",
    "\n",
    "- **np.concatenate:** To stack arrays along specified axis (axis is passed as argument)."
   ]
  },
  {
   "cell_type": "code",
   "execution_count": 38,
   "id": "615a0e89",
   "metadata": {},
   "outputs": [
    {
     "data": {
      "text/plain": [
       "array([[1, 2],\n",
       "       [3, 4]])"
      ]
     },
     "execution_count": 38,
     "metadata": {},
     "output_type": "execute_result"
    }
   ],
   "source": [
    "nump_arr_a"
   ]
  },
  {
   "cell_type": "code",
   "execution_count": 39,
   "id": "7f90bf77",
   "metadata": {},
   "outputs": [
    {
     "data": {
      "text/plain": [
       "array([[5, 6],\n",
       "       [7, 8]])"
      ]
     },
     "execution_count": 39,
     "metadata": {},
     "output_type": "execute_result"
    }
   ],
   "source": [
    "nump_arr_b"
   ]
  },
  {
   "cell_type": "code",
   "execution_count": 42,
   "id": "516d1d5e",
   "metadata": {},
   "outputs": [
    {
     "data": {
      "text/plain": [
       "array([[1, 2],\n",
       "       [3, 4],\n",
       "       [5, 6],\n",
       "       [7, 8]])"
      ]
     },
     "execution_count": 42,
     "metadata": {},
     "output_type": "execute_result"
    }
   ],
   "source": [
    "# vertical stacking\n",
    "\n",
    "np.vstack((nump_arr_a, nump_arr_b))"
   ]
  },
  {
   "cell_type": "code",
   "execution_count": 43,
   "id": "60e92711",
   "metadata": {},
   "outputs": [
    {
     "data": {
      "text/plain": [
       "array([[1, 2, 5, 6],\n",
       "       [3, 4, 7, 8]])"
      ]
     },
     "execution_count": 43,
     "metadata": {},
     "output_type": "execute_result"
    }
   ],
   "source": [
    "# horizontal stacking\n",
    "\n",
    "np.hstack((nump_arr_a, nump_arr_b))"
   ]
  },
  {
   "cell_type": "code",
   "execution_count": 46,
   "id": "48aea60c",
   "metadata": {},
   "outputs": [
    {
     "data": {
      "text/plain": [
       "array([0, 0])"
      ]
     },
     "execution_count": 46,
     "metadata": {},
     "output_type": "execute_result"
    }
   ],
   "source": [
    "single_column_nump_arr = np.array([0, 0])\n",
    "single_column_nump_arr"
   ]
  },
  {
   "cell_type": "code",
   "execution_count": 48,
   "id": "ed6ecc5c",
   "metadata": {},
   "outputs": [
    {
     "data": {
      "text/plain": [
       "array([[1, 2, 0],\n",
       "       [3, 4, 0]])"
      ]
     },
     "execution_count": 48,
     "metadata": {},
     "output_type": "execute_result"
    }
   ],
   "source": [
    "np.column_stack((nump_arr_a, single_column_nump_arr))"
   ]
  },
  {
   "cell_type": "code",
   "execution_count": 50,
   "id": "7ecf5152",
   "metadata": {},
   "outputs": [
    {
     "data": {
      "text/plain": [
       "array([[1, 2],\n",
       "       [3, 4],\n",
       "       [0, 0]])"
      ]
     },
     "execution_count": 50,
     "metadata": {},
     "output_type": "execute_result"
    }
   ],
   "source": [
    "np.row_stack((nump_arr_a, single_column_nump_arr))"
   ]
  },
  {
   "cell_type": "code",
   "execution_count": 52,
   "id": "0fc05737",
   "metadata": {},
   "outputs": [
    {
     "data": {
      "text/plain": [
       "array([[1, 2],\n",
       "       [3, 4],\n",
       "       [5, 6],\n",
       "       [7, 8]])"
      ]
     },
     "execution_count": 52,
     "metadata": {},
     "output_type": "execute_result"
    }
   ],
   "source": [
    "np.concatenate((nump_arr_a, nump_arr_b))"
   ]
  },
  {
   "cell_type": "code",
   "execution_count": 53,
   "id": "fb384c6b",
   "metadata": {},
   "outputs": [
    {
     "data": {
      "text/plain": [
       "array([[1, 2, 5, 6],\n",
       "       [3, 4, 7, 8]])"
      ]
     },
     "execution_count": 53,
     "metadata": {},
     "output_type": "execute_result"
    }
   ],
   "source": [
    "np.concatenate((nump_arr_a, nump_arr_b), axis=1)"
   ]
  },
  {
   "cell_type": "markdown",
   "id": "14aaa801",
   "metadata": {},
   "source": [
    "### Splitting\n",
    "\n",
    "For splitting, we have these fuctions:\n",
    "\n",
    "- **np.hsplit:** Split array along horizontal axis.\n",
    "\n",
    "\n",
    "- **np.vsplit:** Split array along vertical axis.\n",
    "\n",
    "\n",
    "- **np.array_split:** Split array along specified axis."
   ]
  },
  {
   "cell_type": "code",
   "execution_count": 55,
   "id": "b6fd8196",
   "metadata": {},
   "outputs": [
    {
     "data": {
      "text/plain": [
       "array([[ 1,  3,  5,  7,  9, 11],\n",
       "       [ 2,  4,  6,  8, 10, 12]])"
      ]
     },
     "execution_count": 55,
     "metadata": {},
     "output_type": "execute_result"
    }
   ],
   "source": [
    "nump_arr = np.array([[1, 3, 5, 7, 9, 11], [2, 4, 6, 8, 10, 12]])\n",
    "nump_arr"
   ]
  },
  {
   "cell_type": "code",
   "execution_count": 57,
   "id": "1720171a",
   "metadata": {},
   "outputs": [
    {
     "data": {
      "text/plain": [
       "[array([[1, 3, 5],\n",
       "        [2, 4, 6]]),\n",
       " array([[ 7,  9, 11],\n",
       "        [ 8, 10, 12]])]"
      ]
     },
     "execution_count": 57,
     "metadata": {},
     "output_type": "execute_result"
    }
   ],
   "source": [
    "# splitting each row into each separate arrays.\n",
    "\n",
    "np.hsplit(nump_arr, 2)"
   ]
  },
  {
   "cell_type": "code",
   "execution_count": 58,
   "id": "d7325959",
   "metadata": {},
   "outputs": [
    {
     "data": {
      "text/plain": [
       "[array([[ 1,  3,  5,  7,  9, 11]]), array([[ 2,  4,  6,  8, 10, 12]])]"
      ]
     },
     "execution_count": 58,
     "metadata": {},
     "output_type": "execute_result"
    }
   ],
   "source": [
    "np.vsplit(nump_arr, 2)"
   ]
  },
  {
   "cell_type": "code",
   "execution_count": 59,
   "id": "e36d70e0",
   "metadata": {},
   "outputs": [
    {
     "data": {
      "text/plain": [
       "[array([[ 1,  3,  5,  7,  9, 11]]), array([[ 2,  4,  6,  8, 10, 12]])]"
      ]
     },
     "execution_count": 59,
     "metadata": {},
     "output_type": "execute_result"
    }
   ],
   "source": [
    "# a generalized split function\n",
    "\n",
    "np.array_split(nump_arr, 2, axis=0)"
   ]
  },
  {
   "cell_type": "code",
   "execution_count": 60,
   "id": "09426099",
   "metadata": {},
   "outputs": [
    {
     "data": {
      "text/plain": [
       "[array([[1, 3, 5],\n",
       "        [2, 4, 6]]),\n",
       " array([[ 7,  9, 11],\n",
       "        [ 8, 10, 12]])]"
      ]
     },
     "execution_count": 60,
     "metadata": {},
     "output_type": "execute_result"
    }
   ],
   "source": [
    "np.array_split(nump_arr, 2, axis=1)"
   ]
  },
  {
   "cell_type": "markdown",
   "id": "461a8093",
   "metadata": {},
   "source": [
    "# X. Array Broadcasting\n",
    "\n",
    "---\n",
    "\n",
    "The term **broadcasting** describes **how numpy treats arrays with different shapes during arithmetic operations**. Subject to certain constraints, the smaller array is \"broadcast\" across the larger array so that they have compatible shapes. Broadcasting provides a means of vectorizing array operations so that looping occurs in C instead of Python. It does this without making needless copies of data and usually leads to efficient algorithm implementations. There are also cases where broadcasting is a bad idea because it leads to inefficient use of memory that slows computation.\n",
    "\n",
    "Numpy operations are usually done element-by-element which requires two arrays to have exactly the same shape. Numpy's broadcasting rule relaxes this constraint when the arrays' shapes meet certain constraints. The simplest broadcasting example occurs when an array and a scalar value are combined in an operation.\n",
    "\n",
    "Consider the example given below:"
   ]
  },
  {
   "cell_type": "code",
   "execution_count": 63,
   "id": "a2122f17",
   "metadata": {},
   "outputs": [
    {
     "data": {
      "text/plain": [
       "array([1., 2., 3.])"
      ]
     },
     "execution_count": 63,
     "metadata": {},
     "output_type": "execute_result"
    }
   ],
   "source": [
    "nump_arr_a = np.array([1.0, 2.0, 3.0])\n",
    "nump_arr_a "
   ]
  },
  {
   "cell_type": "code",
   "execution_count": 64,
   "id": "548d2b2e",
   "metadata": {},
   "outputs": [
    {
     "data": {
      "text/plain": [
       "array([2., 2., 2.])"
      ]
     },
     "execution_count": 64,
     "metadata": {},
     "output_type": "execute_result"
    }
   ],
   "source": [
    "nump_arr_b = np.array([2.0, 2.0, 2.0])\n",
    "nump_arr_b"
   ]
  },
  {
   "cell_type": "code",
   "execution_count": 65,
   "id": "5b057d7a",
   "metadata": {},
   "outputs": [
    {
     "data": {
      "text/plain": [
       "array([2., 4., 6.])"
      ]
     },
     "execution_count": 65,
     "metadata": {},
     "output_type": "execute_result"
    }
   ],
   "source": [
    "# both the arrays have same shape\n",
    "\n",
    "nump_arr_a * nump_arr_b  # elementwise operation becoz of same size."
   ]
  },
  {
   "cell_type": "code",
   "execution_count": 66,
   "id": "76befcc2",
   "metadata": {},
   "outputs": [
    {
     "data": {
      "text/plain": [
       "array([2.])"
      ]
     },
     "execution_count": 66,
     "metadata": {},
     "output_type": "execute_result"
    }
   ],
   "source": [
    "nump_arr_c = np.array([2.0])\n",
    "nump_arr_c"
   ]
  },
  {
   "cell_type": "code",
   "execution_count": 70,
   "id": "27bfd3e1",
   "metadata": {},
   "outputs": [
    {
     "data": {
      "text/plain": [
       "array([2., 4., 6.])"
      ]
     },
     "execution_count": 70,
     "metadata": {},
     "output_type": "execute_result"
    }
   ],
   "source": [
    "# here the shape of both the arrays are different. Will the operation be successful?\n",
    "\n",
    "nump_arr_a * nump_arr_c"
   ]
  },
  {
   "cell_type": "markdown",
   "id": "334507f9",
   "metadata": {},
   "source": [
    "Eventhough the Numpy arrays `nump_arr_a` and `nump_arr_c` are of different shape, the elementwise arithmetic operation happens without any error. See the below figure to know what happens"
   ]
  },
  {
   "attachments": {
    "numpy_array_broadcasting.gif": {
     "image/gif": "[encoded data removed]"
    }
   },
   "cell_type": "markdown",
   "id": "234416fa",
   "metadata": {},
   "source": [
    "![numpy_array_broadcasting.gif](attachment:numpy_array_broadcasting.gif)"
   ]
  },
  {
   "cell_type": "markdown",
   "id": "9a7629b5",
   "metadata": {},
   "source": [
    "**In above example, the scalar b is stretched to become an array of with the same shape as a so the shapes are compatible for element-by-element multiplication.**\n",
    "\n",
    "Why broadcasting is better?\n",
    "\n",
    "> We can think of the scalar b being stretched during the arithmetic operation into an array with the same shape as a. The new elements in b, as shown in above figure, are simply copies of the original scalar. Although, the stretching analogy is only conceptual. Numpy is smart enough to use the original scalar value without actually making copies so that broadcasting operations are as memory and computationally efficient as possible. Because Example 1 moves less memory, (b is a scalar, not an array) around during the multiplication, it is about 10% faster than Example 2 using the standard numpy on Windows 2000 with one million element arrays!\n"
   ]
  },
  {
   "cell_type": "markdown",
   "id": "8908133e",
   "metadata": {},
   "source": [
    "### The Broadcasting Rule\n",
    "\n",
    "In order to broadcast, the size of the trailing axes for both arrays in an operation must either be the same size or one of them must be **one**.\n",
    "\n",
    "Let us see some examples:\n",
    "\n",
    "    A(2-D array): 4 x 3\n",
    "    B(1-D array):     3\n",
    "    Result      : 4 x 3\n",
    "\n",
    "    A(4-D array): 7 x 1 x 6 x 1\n",
    "    B(3-D array):     3 x 1 x 5\n",
    "    Result      : 7 x 3 x 6 x 5\n",
    "\n",
    "But this would be a mismatch:\n",
    "\n",
    "    A: 4 x 3\n",
    "    B:     4\n",
    "\n",
    "Now, let us see an example where both arrays get stretched."
   ]
  },
  {
   "cell_type": "code",
   "execution_count": 71,
   "id": "9ecb27fe",
   "metadata": {},
   "outputs": [],
   "source": [
    "nump_arr_a = np.array([0.0, 10.0, 20.0, 30.0])\n",
    "nump_arr_b = np.array([0.0, 1.0, 2.0])"
   ]
  },
  {
   "cell_type": "code",
   "execution_count": 73,
   "id": "c1d62bc3",
   "metadata": {},
   "outputs": [
    {
     "data": {
      "text/plain": [
       "(4,)"
      ]
     },
     "execution_count": 73,
     "metadata": {},
     "output_type": "execute_result"
    }
   ],
   "source": [
    "nump_arr_a.shape"
   ]
  },
  {
   "cell_type": "code",
   "execution_count": 74,
   "id": "7490c027",
   "metadata": {},
   "outputs": [
    {
     "data": {
      "text/plain": [
       "array([[ 0.],\n",
       "       [10.],\n",
       "       [20.],\n",
       "       [30.]])"
      ]
     },
     "execution_count": 74,
     "metadata": {},
     "output_type": "execute_result"
    }
   ],
   "source": [
    "nump_arr_a.reshape((4, 1))"
   ]
  },
  {
   "cell_type": "code",
   "execution_count": 75,
   "id": "731e3c38",
   "metadata": {},
   "outputs": [
    {
     "data": {
      "text/plain": [
       "(3,)"
      ]
     },
     "execution_count": 75,
     "metadata": {},
     "output_type": "execute_result"
    }
   ],
   "source": [
    "nump_arr_b.shape"
   ]
  },
  {
   "cell_type": "code",
   "execution_count": 76,
   "id": "65949560",
   "metadata": {},
   "outputs": [],
   "source": [
    "# nump_arr_a  4 x 1\n",
    "# nump_arr_b      3\n",
    "#             -----\n",
    "# Result      4 x 3"
   ]
  },
  {
   "attachments": {
    "numpy_array_broadcasting_rule.gif": {
     "image/gif": "[encoded data removed]"
    }
   },
   "cell_type": "markdown",
   "id": "1709bd0b",
   "metadata": {},
   "source": [
    "![numpy_array_broadcasting_rule.gif](attachment:numpy_array_broadcasting_rule.gif)"
   ]
  },
  {
   "cell_type": "markdown",
   "id": "120a3ce8",
   "metadata": {},
   "source": [
    "# XI. Working with datetime\n",
    "\n",
    "---\n",
    "\n",
    "Numpy has core array data types which natively support datetime functionality. The data type is called “datetime64”, so named because “datetime” is already taken by the datetime library included in Python."
   ]
  },
  {
   "cell_type": "code",
   "execution_count": 77,
   "id": "71ef830b",
   "metadata": {},
   "outputs": [],
   "source": [
    "# creating a date\n",
    "\n",
    "today = np.datetime64(\"2022-06-20\")"
   ]
  },
  {
   "cell_type": "code",
   "execution_count": 78,
   "id": "73547024",
   "metadata": {},
   "outputs": [
    {
     "data": {
      "text/plain": [
       "numpy.datetime64('2022-06-20')"
      ]
     },
     "execution_count": 78,
     "metadata": {},
     "output_type": "execute_result"
    }
   ],
   "source": [
    "today"
   ]
  },
  {
   "cell_type": "code",
   "execution_count": 79,
   "id": "5582bace",
   "metadata": {},
   "outputs": [
    {
     "data": {
      "text/plain": [
       "numpy.datetime64('2022')"
      ]
     },
     "execution_count": 79,
     "metadata": {},
     "output_type": "execute_result"
    }
   ],
   "source": [
    "# get year in the numpy datetime object\n",
    "\n",
    "np.datetime64(today, \"Y\")"
   ]
  },
  {
   "cell_type": "code",
   "execution_count": 88,
   "id": "526ab0e7",
   "metadata": {},
   "outputs": [
    {
     "data": {
      "text/plain": [
       "array(['2022-06-20', '2022-06-21', '2022-06-22', '2022-06-23',\n",
       "       '2022-06-24', '2022-06-25', '2022-06-26', '2022-06-27',\n",
       "       '2022-06-28', '2022-06-29', '2022-06-30', '2022-07-01',\n",
       "       '2022-07-02'], dtype='datetime64[D]')"
      ]
     },
     "execution_count": 88,
     "metadata": {},
     "output_type": "execute_result"
    }
   ],
   "source": [
    "# creating array of dates in a month\n",
    "\n",
    "np.arange(\"2022-06-20\", \"2022-07-03\", dtype=\"datetime64[D]\")  # D -- date, M -- month"
   ]
  },
  {
   "cell_type": "code",
   "execution_count": 86,
   "id": "2eaba913",
   "metadata": {},
   "outputs": [
    {
     "data": {
      "text/plain": [
       "array(['2022-06'], dtype='datetime64[M]')"
      ]
     },
     "execution_count": 86,
     "metadata": {},
     "output_type": "execute_result"
    }
   ],
   "source": [
    "np.arange(\"2022-06-20\", \"2022-07-03\", dtype=\"datetime64[M]\")"
   ]
  },
  {
   "cell_type": "code",
   "execution_count": 93,
   "id": "43df26b3",
   "metadata": {},
   "outputs": [],
   "source": [
    "# arithmetic operation on dates\n",
    "\n",
    "duration = np.datetime64(\"2022-07-03\") - np.datetime64(\"2022-06-20\")"
   ]
  },
  {
   "cell_type": "code",
   "execution_count": 94,
   "id": "236ebb19",
   "metadata": {},
   "outputs": [
    {
     "data": {
      "text/plain": [
       "numpy.timedelta64(13,'D')"
      ]
     },
     "execution_count": 94,
     "metadata": {},
     "output_type": "execute_result"
    }
   ],
   "source": [
    "duration"
   ]
  },
  {
   "cell_type": "code",
   "execution_count": 96,
   "id": "a64835ec",
   "metadata": {},
   "outputs": [
    {
     "data": {
      "text/plain": [
       "numpy.timedelta64(1,'W')"
      ]
     },
     "execution_count": 96,
     "metadata": {},
     "output_type": "execute_result"
    }
   ],
   "source": [
    "np.timedelta64(duration, \"W\")  # duration in weeks"
   ]
  },
  {
   "cell_type": "code",
   "execution_count": 97,
   "id": "370e0d6d",
   "metadata": {},
   "outputs": [],
   "source": [
    "# sorting dates\n",
    "\n",
    "dates_arr = np.array([\"2022-07-03\", \"2020-09-11\", \"2021-03-18\"], dtype=\"datetime64\")"
   ]
  },
  {
   "cell_type": "code",
   "execution_count": 98,
   "id": "c1ee803b",
   "metadata": {},
   "outputs": [
    {
     "data": {
      "text/plain": [
       "array(['2022-07-03', '2020-09-11', '2021-03-18'], dtype='datetime64[D]')"
      ]
     },
     "execution_count": 98,
     "metadata": {},
     "output_type": "execute_result"
    }
   ],
   "source": [
    "dates_arr"
   ]
  },
  {
   "cell_type": "code",
   "execution_count": 100,
   "id": "5cbfc773",
   "metadata": {},
   "outputs": [
    {
     "data": {
      "text/plain": [
       "array(['2020-09-11', '2021-03-18', '2022-07-03'], dtype='datetime64[D]')"
      ]
     },
     "execution_count": 100,
     "metadata": {},
     "output_type": "execute_result"
    }
   ],
   "source": [
    "np.sort(dates_arr)"
   ]
  },
  {
   "cell_type": "markdown",
   "id": "d90aef25",
   "metadata": {},
   "source": [
    "# XII. Linear Algebra\n",
    "\n",
    "---\n",
    "\n",
    "The **Linear Algebra** module of NumPy offers various methods to apply linear algebra on any numpy array.\n",
    "\n",
    "You can find:\n",
    "\n",
    "- rank, determinant, trace, etc. of an array.\n",
    "\n",
    "- eigen values of matrices\n",
    "\n",
    "- matrix and vector products (dot, inner, outer,etc. product), matrix exponentiation\n",
    "\n",
    "- solve linear or tensor equations and much more!\n",
    "\n",
    "Now, let us assume that we want to solve this linear equation set:\n",
    "\n",
    "    x + 2*y = 8\n",
    "    3*x + 4*y = 18\n",
    "\n",
    "This problem can be solved using **linalg.solve** method as shown in example below:"
   ]
  },
  {
   "cell_type": "code",
   "execution_count": 101,
   "id": "1e95ae6d",
   "metadata": {},
   "outputs": [],
   "source": [
    "# prepare the co-efficient matrix array\n",
    "\n",
    "coeff_nump_arr = np.array([[1, 2], [3, 4]])"
   ]
  },
  {
   "cell_type": "code",
   "execution_count": 102,
   "id": "602e1ad7",
   "metadata": {},
   "outputs": [],
   "source": [
    "# prepare the constants matrix array\n",
    "\n",
    "const_nump_arr = np.array([8, 18])"
   ]
  },
  {
   "cell_type": "code",
   "execution_count": 103,
   "id": "03025c9e",
   "metadata": {},
   "outputs": [
    {
     "data": {
      "text/plain": [
       "array([2., 3.])"
      ]
     },
     "execution_count": 103,
     "metadata": {},
     "output_type": "execute_result"
    }
   ],
   "source": [
    "np.linalg.solve(coeff_nump_arr, const_nump_arr)"
   ]
  },
  {
   "cell_type": "markdown",
   "id": "add9844c",
   "metadata": {},
   "source": [
    "### rank of a matrix\n",
    "\n",
    "The rank is how many of the rows are \"unique\": not made of other rows."
   ]
  },
  {
   "cell_type": "code",
   "execution_count": 104,
   "id": "644f471b",
   "metadata": {},
   "outputs": [],
   "source": [
    "nump_arr = np.array([[6, 1, 1], [4, -2, 5], [2, 8, 7]])"
   ]
  },
  {
   "cell_type": "code",
   "execution_count": 105,
   "id": "f498b20b",
   "metadata": {},
   "outputs": [
    {
     "data": {
      "text/plain": [
       "3"
      ]
     },
     "execution_count": 105,
     "metadata": {},
     "output_type": "execute_result"
    }
   ],
   "source": [
    "np.linalg.matrix_rank(nump_arr)"
   ]
  },
  {
   "cell_type": "markdown",
   "id": "8df8ebee",
   "metadata": {},
   "source": [
    "### trace of a matrix\n",
    "\n",
    "sum of the diagonal entries of the matrix"
   ]
  },
  {
   "cell_type": "code",
   "execution_count": 106,
   "id": "f3979d68",
   "metadata": {},
   "outputs": [
    {
     "data": {
      "text/plain": [
       "11"
      ]
     },
     "execution_count": 106,
     "metadata": {},
     "output_type": "execute_result"
    }
   ],
   "source": [
    "np.trace(nump_arr)"
   ]
  },
  {
   "cell_type": "markdown",
   "id": "a133ad64",
   "metadata": {},
   "source": [
    "### determinant of a matrix\n",
    "\n",
    "https://www.mathsisfun.com/algebra/matrix-determinant.html"
   ]
  },
  {
   "cell_type": "code",
   "execution_count": 107,
   "id": "dbbaad2a",
   "metadata": {},
   "outputs": [
    {
     "data": {
      "text/plain": [
       "-306.0"
      ]
     },
     "execution_count": 107,
     "metadata": {},
     "output_type": "execute_result"
    }
   ],
   "source": [
    "np.linalg.det(nump_arr)"
   ]
  },
  {
   "cell_type": "markdown",
   "id": "6322c146",
   "metadata": {},
   "source": [
    "### inverse of a matrix"
   ]
  },
  {
   "cell_type": "code",
   "execution_count": 108,
   "id": "ce430a4a",
   "metadata": {},
   "outputs": [
    {
     "data": {
      "text/plain": [
       "array([[ 0.17647059, -0.00326797, -0.02287582],\n",
       "       [ 0.05882353, -0.13071895,  0.08496732],\n",
       "       [-0.11764706,  0.1503268 ,  0.05228758]])"
      ]
     },
     "execution_count": 108,
     "metadata": {},
     "output_type": "execute_result"
    }
   ],
   "source": [
    "np.linalg.inv(nump_arr)"
   ]
  },
  {
   "cell_type": "markdown",
   "id": "47ee5339",
   "metadata": {},
   "source": [
    "### matrix exponentiation"
   ]
  },
  {
   "cell_type": "code",
   "execution_count": 109,
   "id": "7375d350",
   "metadata": {},
   "outputs": [
    {
     "data": {
      "text/plain": [
       "array([[336, 162, 228],\n",
       "       [406, 162, 469],\n",
       "       [698, 702, 905]])"
      ]
     },
     "execution_count": 109,
     "metadata": {},
     "output_type": "execute_result"
    }
   ],
   "source": [
    "np.linalg.matrix_power(nump_arr, 3)"
   ]
  },
  {
   "cell_type": "markdown",
   "id": "2d2ff978",
   "metadata": {},
   "source": [
    "# XIII. Saving and Loading numpy arrays\n",
    "\n",
    "---\n",
    "\n",
    "he `.npy` format is the standard binary file format in NumPy for persisting a **single** arbitrary NumPy array on disk. The format stores all of the shape and dtype information necessary to reconstruct the array correctly even on another machine with a different architecture. The format is designed to be as simple as possible while achieving its limited goals.\n",
    "\n",
    "The `.npz` format is the standard format for persisting **multiple** NumPy arrays on disk. A .`npz` file is a zip file containing multiple `.npy` files, one for each array.\n",
    "\n",
    "- **np.save(filename, array)** : saves a single array in `npy` format.\n",
    "\n",
    "\n",
    "- **np.savez(filename, array_1[, array_2])** : saves multiple numpy arrays in `npz` format.\n",
    "\n",
    "\n",
    "- **np.load(filename)** : load a `npy` or `npz` format file."
   ]
  },
  {
   "cell_type": "code",
   "execution_count": 112,
   "id": "709fcff7",
   "metadata": {},
   "outputs": [],
   "source": [
    "nump_arr_a = np.array([[1, 2, 3], [4, 5, 6]])\n",
    "nump_arr_b = np.array([[6, 5, 4], [3, 2, 1]])"
   ]
  },
  {
   "cell_type": "code",
   "execution_count": 113,
   "id": "6f152bef",
   "metadata": {},
   "outputs": [
    {
     "data": {
      "text/plain": [
       "array([[1, 2, 3],\n",
       "       [4, 5, 6]])"
      ]
     },
     "execution_count": 113,
     "metadata": {},
     "output_type": "execute_result"
    }
   ],
   "source": [
    "nump_arr_a"
   ]
  },
  {
   "cell_type": "code",
   "execution_count": 114,
   "id": "22e67d6a",
   "metadata": {},
   "outputs": [
    {
     "data": {
      "text/plain": [
       "array([[6, 5, 4],\n",
       "       [3, 2, 1]])"
      ]
     },
     "execution_count": 114,
     "metadata": {},
     "output_type": "execute_result"
    }
   ],
   "source": [
    "nump_arr_b"
   ]
  },
  {
   "cell_type": "code",
   "execution_count": 115,
   "id": "23b5ea17",
   "metadata": {},
   "outputs": [],
   "source": [
    "# saving the array locally\n",
    "\n",
    "np.save(\"nump_arr_a.npy\", nump_arr_a)"
   ]
  },
  {
   "cell_type": "code",
   "execution_count": 116,
   "id": "b9364419",
   "metadata": {},
   "outputs": [
    {
     "data": {
      "text/plain": [
       "array([[1, 2, 3],\n",
       "       [4, 5, 6]])"
      ]
     },
     "execution_count": 116,
     "metadata": {},
     "output_type": "execute_result"
    }
   ],
   "source": [
    "# to load the saved .npy file\n",
    "\n",
    "loaded_np_arr = np.load(\"nump_arr_a.npy\")\n",
    "loaded_np_arr"
   ]
  },
  {
   "cell_type": "code",
   "execution_count": 118,
   "id": "b5c2a33e",
   "metadata": {},
   "outputs": [],
   "source": [
    "# saving both the nump_arr_a and nump_arr_b in a zip like format in .npz\n",
    "\n",
    "np.savez(\"nump_arr_a_b.npz\", nump_arr_a=nump_arr_a, nump_arr_b=nump_arr_b)"
   ]
  },
  {
   "cell_type": "code",
   "execution_count": 121,
   "id": "adad2957",
   "metadata": {},
   "outputs": [],
   "source": [
    "# to load the saved .npz file\n",
    "loaded_arr = np.load(\"nump_arr_a_b.npz\")"
   ]
  },
  {
   "cell_type": "code",
   "execution_count": 124,
   "id": "cc2e6434",
   "metadata": {},
   "outputs": [
    {
     "data": {
      "text/plain": [
       "array([[1, 2, 3],\n",
       "       [4, 5, 6]])"
      ]
     },
     "execution_count": 124,
     "metadata": {},
     "output_type": "execute_result"
    }
   ],
   "source": [
    "loaded_arr[\"nump_arr_a\"]"
   ]
  },
  {
   "cell_type": "code",
   "execution_count": 125,
   "id": "477eba07",
   "metadata": {},
   "outputs": [
    {
     "data": {
      "text/plain": [
       "array([[6, 5, 4],\n",
       "       [3, 2, 1]])"
      ]
     },
     "execution_count": 125,
     "metadata": {},
     "output_type": "execute_result"
    }
   ],
   "source": [
    "loaded_arr[\"nump_arr_b\"]"
   ]
  }
 ],
 "metadata": {
  "kernelspec": {
   "display_name": "Python 3 (ipykernel)",
   "language": "python",
   "name": "python3"
  },
  "language_info": {
   "codemirror_mode": {
    "name": "ipython",
    "version": 3
   },
   "file_extension": ".py",
   "mimetype": "text/x-python",
   "name": "python",
   "nbconvert_exporter": "python",
   "pygments_lexer": "ipython3",
   "version": "3.10.4"
  }
 },
 "nbformat": 4,
 "nbformat_minor": 5
}
