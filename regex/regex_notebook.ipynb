{
 "cells": [
  {
   "cell_type": "markdown",
   "id": "4a06539e",
   "metadata": {},
   "source": [
    "# RegEx"
   ]
  },
  {
   "cell_type": "code",
   "execution_count": 1,
   "id": "a56b78da",
   "metadata": {},
   "outputs": [],
   "source": [
    "import re"
   ]
  },
  {
   "cell_type": "code",
   "execution_count": 2,
   "id": "9ad4fe01",
   "metadata": {},
   "outputs": [
    {
     "data": {
      "text/plain": [
       "<re.Match object; span=(0, 5), match='hello'>"
      ]
     },
     "execution_count": 2,
     "metadata": {},
     "output_type": "execute_result"
    }
   ],
   "source": [
    "pattern = re.compile(\"hello\")\n",
    "pattern.match(\"hello world\")"
   ]
  },
  {
   "cell_type": "markdown",
   "id": "864d05c7",
   "metadata": {},
   "source": [
    "## Character classes"
   ]
  },
  {
   "cell_type": "markdown",
   "id": "b5eeb5b8",
   "metadata": {},
   "source": [
    "## Character set range"
   ]
  },
  {
   "cell_type": "code",
   "execution_count": 3,
   "id": "afe31b17",
   "metadata": {},
   "outputs": [
    {
     "data": {
      "text/plain": [
       "['2008', '2009', '2018', '2010', '2011', '2013', '2015', '2017']"
      ]
     },
     "execution_count": 3,
     "metadata": {},
     "output_type": "execute_result"
    }
   ],
   "source": [
    "character_set_txt = \"\"\"\n",
    "The first season of Indian Premiere League (IPL) was played in 2008. \n",
    "The second season was played in 2009 in South Africa. \n",
    "Last season was played in 2018 and won by Chennai Super Kings (CSK).\n",
    "CSK won the title in 2010 and 2011 as well.\n",
    "Mumbai Indians (MI) has also won the title 3 times in 2013, 2015 and 2017.\n",
    "\"\"\"\n",
    "\n",
    "# character_set_pattern = re.compile(\"[1-9][0-9][0-9][0-9]\")\n",
    "character_set_pattern = re.compile(\"[1-9]\\d\\d\\d\")\n",
    "character_set_pattern.findall(character_set_txt)"
   ]
  },
  {
   "cell_type": "markdown",
   "id": "d7fb4b8e",
   "metadata": {},
   "source": [
    "## Character set negation"
   ]
  },
  {
   "cell_type": "code",
   "execution_count": null,
   "id": "37adf9f4",
   "metadata": {
    "scrolled": true
   },
   "outputs": [],
   "source": [
    "# [^a-z] not between a to z\n",
    "\n",
    "character_set_pattern_negation = re.compile(\"[^aeiou]\")\n",
    "character_set_pattern_negation.findall(character_set_txt)"
   ]
  },
  {
   "cell_type": "code",
   "execution_count": 5,
   "id": "795e929d",
   "metadata": {},
   "outputs": [
    {
     "data": {
      "text/plain": [
       "['(', ')', '.', '.', '(', ')', '.', '.', '(', ')', ',', '.']"
      ]
     },
     "execution_count": 5,
     "metadata": {},
     "output_type": "execute_result"
    }
   ],
   "source": [
    "# finding out all special symbols -- non-alpha numeric and non-whitespaces\n",
    "\n",
    "special_symbol = re.compile(\"[^\\w\\s]\")\n",
    "special_symbol.findall(character_set_txt)"
   ]
  },
  {
   "cell_type": "markdown",
   "id": "2991911d",
   "metadata": {},
   "source": [
    "## Alteration"
   ]
  },
  {
   "cell_type": "code",
   "execution_count": 6,
   "id": "c32c1252",
   "metadata": {},
   "outputs": [
    {
     "data": {
      "text/plain": [
       "['the', 'and', 'or', 'and']"
      ]
     },
     "execution_count": 6,
     "metadata": {},
     "output_type": "execute_result"
    }
   ],
   "source": [
    "alteration_txt = \"\"\"\n",
    "the most common conjuctions are and, or and but.\n",
    "\"\"\"\n",
    "\n",
    "# finding all occurences of and, or, the\n",
    "alteration_pattern = re.compile(\"and|or|the\")\n",
    "alteration_pattern.findall(alteration_txt)"
   ]
  },
  {
   "cell_type": "markdown",
   "id": "731880e1",
   "metadata": {},
   "source": [
    "## Boundary Matchers"
   ]
  },
  {
   "cell_type": "markdown",
   "id": "021ad602",
   "metadata": {},
   "source": [
    "Consider a scenario where want to find all occurences of `and`, `or` and `the` in the given text"
   ]
  },
  {
   "cell_type": "code",
   "execution_count": 7,
   "id": "47f5aa97",
   "metadata": {
    "scrolled": true
   },
   "outputs": [
    {
     "data": {
      "text/plain": [
       "['or',\n",
       " 'the',\n",
       " 'and',\n",
       " 'or',\n",
       " 'the',\n",
       " 'and',\n",
       " 'the',\n",
       " 'and',\n",
       " 'the',\n",
       " 'the',\n",
       " 'the',\n",
       " 'or',\n",
       " 'and',\n",
       " 'or',\n",
       " 'or']"
      ]
     },
     "execution_count": 7,
     "metadata": {},
     "output_type": "execute_result"
    }
   ],
   "source": [
    "boundary_matchers_txt = \"\"\"\n",
    "Lorem Ipsum is simply dummy text of the printing and typesetting industry. \n",
    "Lorem Ipsum has been the industry's standard dummy text ever since the 1500s, \n",
    "when an unknown printer took a galley of type and scrambled it to make a type specimen book. \n",
    "It has survived not only five centuries, but also the leap into electronic typesetting, \n",
    "remaining essentially unchanged. \n",
    "It was popularised in the 1960s with the release of Letraset sheets containing Lorem Ipsum passages, \n",
    "and more recently with desktop publishing software like Aldus PageMaker including versions of Lorem Ipsum.\n",
    "\"\"\"\n",
    "\n",
    "boundary_matchers_pattern = re.compile(\"and|or|the\") # alteration\n",
    "boundary_matchers_pattern.findall(boundary_matchers_txt)"
   ]
  },
  {
   "cell_type": "markdown",
   "id": "37ce55a3",
   "metadata": {},
   "source": [
    "In the above boundary_matchers_txt, `lorem` contains `or` and `standard` contains `and`. They are also get counted as a match where as we want to find individual strings containing `and`, `or` and `the` only."
   ]
  },
  {
   "cell_type": "code",
   "execution_count": 8,
   "id": "63c6d3c5",
   "metadata": {},
   "outputs": [
    {
     "data": {
      "text/plain": [
       "['the', 'and', 'the', 'the', 'and', 'the', 'the', 'the', 'and']"
      ]
     },
     "execution_count": 8,
     "metadata": {},
     "output_type": "execute_result"
    }
   ],
   "source": [
    "# the solution is to use boundary matchers\n",
    "# the boundary can be space, comma, fullstop, exlamation sign, etc.\n",
    "\n",
    "boundary_matchers_pattern = re.compile(r\"\\b(and|or|the)\\b\")\n",
    "boundary_matchers_pattern.findall(boundary_matchers_txt)"
   ]
  },
  {
   "cell_type": "markdown",
   "id": "8d20aa6c",
   "metadata": {},
   "source": [
    "#### Example\n",
    "\n",
    "Consider a scenario where we want to find all the lines in the given text which **start** with the pattern `Name:`."
   ]
  },
  {
   "cell_type": "code",
   "execution_count": 12,
   "id": "84abf06e",
   "metadata": {},
   "outputs": [
    {
     "data": {
      "text/plain": [
       "['Name:', 'Name: Ravi', 'Name: Ram']"
      ]
     },
     "execution_count": 12,
     "metadata": {},
     "output_type": "execute_result"
    }
   ],
   "source": [
    "boundary_matchers_txt = \"\"\"\n",
    "Name:\n",
    "Age: 0\n",
    "Roll No.: 15\n",
    "Grade: S\n",
    "\n",
    "Name: Ravi\n",
    "Age: -1\n",
    "Roll No.: 123 Name: ABC\n",
    "Grade: K\n",
    "\n",
    "Name: Ram\n",
    "Age: N/A\n",
    "Roll No.: 1\n",
    "Grade: G\n",
    "\"\"\"\n",
    "\n",
    "pattern = re.compile(\"^Name:.*\", flags=re.MULTILINE)\n",
    "pattern.findall(boundary_matchers_txt)"
   ]
  },
  {
   "cell_type": "markdown",
   "id": "f15266ab",
   "metadata": {},
   "source": [
    "#### Example\n",
    "\n",
    "Find all the sentences which do not end with a full stop(`.`) in the given text"
   ]
  },
  {
   "cell_type": "code",
   "execution_count": 13,
   "id": "a71b24ed",
   "metadata": {},
   "outputs": [],
   "source": [
    "txt = \"\"\"\n",
    "Lorem Ipsum is simply dummy text of the printing and typesetting industry.\n",
    "Lorem Ipsum has been the industry's standard dummy text ever since the 1500s!\n",
    "It has survived not only five centuries, but also the leap into electronic typesetting, remaining essentially unchanged.\n",
    "It was popularised in the 1960s with the release of Letraset sheets containing Lorem Ipsum passages\n",
    "More recently with desktop publishing software like Aldus PageMaker including versions of Lorem Ipsum.\"\"\""
   ]
  },
  {
   "cell_type": "code",
   "execution_count": 15,
   "id": "28cb2167",
   "metadata": {},
   "outputs": [
    {
     "data": {
      "text/plain": [
       "[\"Lorem Ipsum has been the industry's standard dummy text ever since the 1500s!\",\n",
       " 'It was popularised in the 1960s with the release of Letraset sheets containing Lorem Ipsum passages']"
      ]
     },
     "execution_count": 15,
     "metadata": {},
     "output_type": "execute_result"
    }
   ],
   "source": [
    "pattern = re.compile(\"^.*[^\\.]$\", flags=re.M)\n",
    "pattern.findall(txt)"
   ]
  },
  {
   "cell_type": "markdown",
   "id": "677d45d5",
   "metadata": {},
   "source": [
    "## Splitting"
   ]
  },
  {
   "cell_type": "markdown",
   "id": "0d4e3a7d",
   "metadata": {},
   "source": [
    "#### Example\n",
    "\n",
    "Split a string to get individuals line in it."
   ]
  },
  {
   "cell_type": "code",
   "execution_count": 16,
   "id": "0e578f04",
   "metadata": {},
   "outputs": [],
   "source": [
    "txt = \"\"\"Beautiful is better than ugly.\n",
    "Explicit is better than implicit.\n",
    "Simple is better than complex.\n",
    "Complex is better than complicated.\"\"\""
   ]
  },
  {
   "cell_type": "code",
   "execution_count": 17,
   "id": "7b364211",
   "metadata": {},
   "outputs": [],
   "source": [
    "pattern = re.compile(\"\\n\")"
   ]
  },
  {
   "cell_type": "code",
   "execution_count": 19,
   "id": "786c21ef",
   "metadata": {},
   "outputs": [
    {
     "data": {
      "text/plain": [
       "['Beautiful is better than ugly.',\n",
       " 'Explicit is better than implicit.',\n",
       " 'Simple is better than complex.',\n",
       " 'Complex is better than complicated.']"
      ]
     },
     "execution_count": 19,
     "metadata": {},
     "output_type": "execute_result"
    }
   ],
   "source": [
    "pattern.split(txt)"
   ]
  },
  {
   "cell_type": "markdown",
   "id": "f98e92a2",
   "metadata": {},
   "source": [
    "#### Example\n",
    "\n",
    "Get all the words in a given text"
   ]
  },
  {
   "cell_type": "code",
   "execution_count": 21,
   "id": "a9d6c582",
   "metadata": {},
   "outputs": [],
   "source": [
    "pattern = re.compile(\"\\W\")"
   ]
  },
  {
   "cell_type": "code",
   "execution_count": 22,
   "id": "0bb9de00",
   "metadata": {},
   "outputs": [
    {
     "data": {
      "text/plain": [
       "['Beautiful',\n",
       " 'is',\n",
       " 'better',\n",
       " 'than',\n",
       " 'ugly',\n",
       " '',\n",
       " 'Explicit',\n",
       " 'is',\n",
       " 'better',\n",
       " 'than',\n",
       " 'implicit',\n",
       " '',\n",
       " 'Simple',\n",
       " 'is',\n",
       " 'better',\n",
       " 'than',\n",
       " 'complex',\n",
       " '',\n",
       " 'Complex',\n",
       " 'is',\n",
       " 'better',\n",
       " 'than',\n",
       " 'complicated',\n",
       " '']"
      ]
     },
     "execution_count": 22,
     "metadata": {},
     "output_type": "execute_result"
    }
   ],
   "source": [
    "pattern.split(txt)"
   ]
  }
 ],
 "metadata": {
  "kernelspec": {
   "display_name": "Python 3 (ipykernel)",
   "language": "python",
   "name": "python3"
  },
  "language_info": {
   "codemirror_mode": {
    "name": "ipython",
    "version": 3
   },
   "file_extension": ".py",
   "mimetype": "text/x-python",
   "name": "python",
   "nbconvert_exporter": "python",
   "pygments_lexer": "ipython3",
   "version": "3.10.4"
  }
 },
 "nbformat": 4,
 "nbformat_minor": 5
}
