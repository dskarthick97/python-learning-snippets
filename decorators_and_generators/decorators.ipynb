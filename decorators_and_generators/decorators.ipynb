{
 "cells": [
  {
   "cell_type": "markdown",
   "id": "fc4859ec",
   "metadata": {},
   "source": [
    "# Decorators"
   ]
  },
  {
   "cell_type": "markdown",
   "id": "774f851b",
   "metadata": {},
   "source": [
    "## I. Basics"
   ]
  },
  {
   "cell_type": "markdown",
   "id": "7aeab92a",
   "metadata": {},
   "source": [
    "**Decorator :** A function that takes function as an argument and returns another function.\n",
    "\n",
    "Syntax -- `@my_decorator`line above the function definition `(def)`"
   ]
  },
  {
   "cell_type": "code",
   "execution_count": 1,
   "id": "5e12123c",
   "metadata": {},
   "outputs": [],
   "source": [
    "def func():\n",
    "    print(\"A dummy func\")\n",
    "\n",
    "\n",
    "def another_func():\n",
    "    print(\"An another dummy func\")"
   ]
  },
  {
   "cell_type": "code",
   "execution_count": 2,
   "id": "f70a467b",
   "metadata": {},
   "outputs": [
    {
     "name": "stdout",
     "output_type": "stream",
     "text": [
      "A dummy func\n"
     ]
    }
   ],
   "source": [
    "func()"
   ]
  },
  {
   "cell_type": "code",
   "execution_count": 3,
   "id": "08ed4522",
   "metadata": {},
   "outputs": [
    {
     "name": "stdout",
     "output_type": "stream",
     "text": [
      "An another dummy func\n"
     ]
    }
   ],
   "source": [
    "another_func()"
   ]
  },
  {
   "cell_type": "code",
   "execution_count": 4,
   "id": "3438ee15",
   "metadata": {},
   "outputs": [
    {
     "name": "stdout",
     "output_type": "stream",
     "text": [
      "An another dummy func\n"
     ]
    }
   ],
   "source": [
    "def turn_into_another_func(func):\n",
    "    # here we are not doing anything with the passed function\n",
    "    return another_func\n",
    "\n",
    "\n",
    "func_res = turn_into_another_func(func)\n",
    "func_res()"
   ]
  },
  {
   "cell_type": "code",
   "execution_count": 6,
   "id": "d41a79e9",
   "metadata": {},
   "outputs": [
    {
     "name": "stdout",
     "output_type": "stream",
     "text": [
      "An another dummy func\n"
     ]
    }
   ],
   "source": [
    "# we can do it (ln. no 6) in another way -- using annotations\n",
    "\n",
    "@turn_into_another_func\n",
    "def func():\n",
    "    print(\"A dummy func\")\n",
    "\n",
    "\n",
    "func()"
   ]
  },
  {
   "cell_type": "markdown",
   "id": "a08bc559",
   "metadata": {},
   "source": [
    "### A typical decorator with inner function\n",
    "\n",
    "Typically, a decorator has an `inner()` function defined inside it. This `inner()` function then calls the original, decorated function, and adds some functionality to it."
   ]
  },
  {
   "cell_type": "code",
   "execution_count": 7,
   "id": "c7dd575f",
   "metadata": {},
   "outputs": [],
   "source": [
    "def camel_case(s):\n",
    "    \"\"\"Turns strings_like_this into StringsLikeThis\"\"\"\n",
    "    \n",
    "    return \"\".join([word.capitalize() for word in s.split(\"_\")])"
   ]
  },
  {
   "cell_type": "code",
   "execution_count": 8,
   "id": "697af996",
   "metadata": {},
   "outputs": [
    {
     "data": {
      "text/plain": [
       "'SomeString'"
      ]
     },
     "execution_count": 8,
     "metadata": {},
     "output_type": "execute_result"
    }
   ],
   "source": [
    "camel_case(\"some_string\")"
   ]
  },
  {
   "cell_type": "code",
   "execution_count": 10,
   "id": "db036c20",
   "metadata": {},
   "outputs": [],
   "source": [
    "def mapper(func):\n",
    "    def inner_func(lst_of_values):\n",
    "        return [func(value) for value in lst_of_values]\n",
    "    \n",
    "    return inner_func\n",
    "\n",
    "\n",
    "@mapper\n",
    "def camel_case(s):\n",
    "    \"\"\"Turns strings_like_this into StringsLikeThis\"\"\"\n",
    "    \n",
    "    return \"\".join([word.capitalize() for word in s.split(\"_\")])"
   ]
  },
  {
   "cell_type": "code",
   "execution_count": 11,
   "id": "ec5cd076",
   "metadata": {},
   "outputs": [],
   "source": [
    "music_bands = [\"imagine_dragons\", \"backstreet_boys\", \"one_direction\"]"
   ]
  },
  {
   "cell_type": "code",
   "execution_count": 13,
   "id": "64b4b265",
   "metadata": {},
   "outputs": [
    {
     "data": {
      "text/plain": [
       "['ImagineDragons', 'BackstreetBoys', 'OneDirection']"
      ]
     },
     "execution_count": 13,
     "metadata": {},
     "output_type": "execute_result"
    }
   ],
   "source": [
    "camel_case(music_bands)"
   ]
  },
  {
   "cell_type": "code",
   "execution_count": 16,
   "id": "4eee31d1",
   "metadata": {},
   "outputs": [
    {
     "name": "stdout",
     "output_type": "stream",
     "text": [
      "None\n"
     ]
    }
   ],
   "source": [
    "# returns the doc string\n",
    "\n",
    "# here the doc string is None bcoz we replaced with the inner function and\n",
    "# inner function has no doc string.\n",
    "print(camel_case.__doc__)"
   ]
  },
  {
   "cell_type": "markdown",
   "id": "5549cc3b",
   "metadata": {},
   "source": [
    "The solution for this is use `wraps` from `functools` module"
   ]
  },
  {
   "cell_type": "code",
   "execution_count": 18,
   "id": "5f765985",
   "metadata": {},
   "outputs": [],
   "source": [
    "from functools import wraps\n",
    "\n",
    "def mapper(func):\n",
    "    \n",
    "    @wraps(func)\n",
    "    def inner_func(lst_of_values):\n",
    "        return [func(value) for value in lst_of_values]\n",
    "    \n",
    "    return inner_func\n",
    "\n",
    "\n",
    "@mapper\n",
    "def camel_case(s):\n",
    "    \"\"\"Turns strings_like_this into StringsLikeThis\"\"\"\n",
    "    \n",
    "    return \"\".join([word.capitalize() for word in s.split(\"_\")])"
   ]
  },
  {
   "cell_type": "code",
   "execution_count": 19,
   "id": "021e0599",
   "metadata": {},
   "outputs": [
    {
     "data": {
      "text/plain": [
       "'Turns strings_like_this into StringsLikeThis'"
      ]
     },
     "execution_count": 19,
     "metadata": {},
     "output_type": "execute_result"
    }
   ],
   "source": [
    "camel_case.__doc__"
   ]
  },
  {
   "cell_type": "markdown",
   "id": "42910f23",
   "metadata": {},
   "source": [
    "## II. Decorator arguments"
   ]
  },
  {
   "cell_type": "code",
   "execution_count": 5,
   "id": "39a03f3a",
   "metadata": {},
   "outputs": [],
   "source": [
    "import random"
   ]
  },
  {
   "cell_type": "code",
   "execution_count": 23,
   "id": "843d4995",
   "metadata": {},
   "outputs": [],
   "source": [
    "def power_of_2(func):\n",
    "    \n",
    "    def inner_func():\n",
    "        return func() ** 2\n",
    "        \n",
    "    return inner_func"
   ]
  },
  {
   "cell_type": "code",
   "execution_count": 24,
   "id": "cfc15d07",
   "metadata": {},
   "outputs": [],
   "source": [
    "@power_of_2\n",
    "def random_odd_digit():\n",
    "    return random.choice([1, 3, 5, 7, 9])"
   ]
  },
  {
   "cell_type": "code",
   "execution_count": 32,
   "id": "c3bc6638",
   "metadata": {},
   "outputs": [
    {
     "data": {
      "text/plain": [
       "49"
      ]
     },
     "execution_count": 32,
     "metadata": {},
     "output_type": "execute_result"
    }
   ],
   "source": [
    "random_odd_digit()"
   ]
  },
  {
   "cell_type": "code",
   "execution_count": 45,
   "id": "53943308",
   "metadata": {},
   "outputs": [],
   "source": [
    "# passing argument in a decorator\n",
    "\n",
    "def power_of(exponent=2):\n",
    "    \n",
    "    def decorator(func):\n",
    "        \n",
    "        def inner_func():\n",
    "            return func() ** exponent\n",
    "        \n",
    "        return inner_func\n",
    "    \n",
    "    return decorator"
   ]
  },
  {
   "cell_type": "code",
   "execution_count": 49,
   "id": "371e0f6c",
   "metadata": {},
   "outputs": [],
   "source": [
    "@power_of(2)\n",
    "def random_odd_digit():\n",
    "    return random.choice([1, 3, 5, 7, 9])"
   ]
  },
  {
   "cell_type": "code",
   "execution_count": 51,
   "id": "91e70e0d",
   "metadata": {},
   "outputs": [
    {
     "data": {
      "text/plain": [
       "25"
      ]
     },
     "execution_count": 51,
     "metadata": {},
     "output_type": "execute_result"
    }
   ],
   "source": [
    "random_odd_digit()"
   ]
  },
  {
   "cell_type": "code",
   "execution_count": 52,
   "id": "2a48eebf",
   "metadata": {},
   "outputs": [],
   "source": [
    "@power_of(3)\n",
    "def random_odd_digit():\n",
    "    return random.choice([1, 3, 5, 7, 9])"
   ]
  },
  {
   "cell_type": "code",
   "execution_count": 53,
   "id": "5869b838",
   "metadata": {},
   "outputs": [
    {
     "data": {
      "text/plain": [
       "125"
      ]
     },
     "execution_count": 53,
     "metadata": {},
     "output_type": "execute_result"
    }
   ],
   "source": [
    "random_odd_digit()"
   ]
  },
  {
   "cell_type": "code",
   "execution_count": 55,
   "id": "d294b25c",
   "metadata": {},
   "outputs": [],
   "source": [
    "@power_of()\n",
    "def random_odd_digit():\n",
    "    return random.choice([1, 3, 5, 7, 9])"
   ]
  },
  {
   "cell_type": "code",
   "execution_count": 56,
   "id": "64641ecd",
   "metadata": {},
   "outputs": [
    {
     "data": {
      "text/plain": [
       "49"
      ]
     },
     "execution_count": 56,
     "metadata": {},
     "output_type": "execute_result"
    }
   ],
   "source": [
    "random_odd_digit()"
   ]
  },
  {
   "cell_type": "code",
   "execution_count": 57,
   "id": "cf150e90",
   "metadata": {},
   "outputs": [],
   "source": [
    "# we can't use it as @power_of\n",
    "\n",
    "@power_of\n",
    "def random_odd_digit():\n",
    "    return random.choice([1, 3, 5, 7, 9])"
   ]
  },
  {
   "cell_type": "code",
   "execution_count": 58,
   "id": "16a17ea2",
   "metadata": {},
   "outputs": [
    {
     "ename": "TypeError",
     "evalue": "power_of.<locals>.decorator() missing 1 required positional argument: 'func'",
     "output_type": "error",
     "traceback": [
      "\u001b[1;31m---------------------------------------------------------------------------\u001b[0m",
      "\u001b[1;31mTypeError\u001b[0m                                 Traceback (most recent call last)",
      "Input \u001b[1;32mIn [58]\u001b[0m, in \u001b[0;36m<cell line: 1>\u001b[1;34m()\u001b[0m\n\u001b[1;32m----> 1\u001b[0m \u001b[43mrandom_odd_digit\u001b[49m\u001b[43m(\u001b[49m\u001b[43m)\u001b[49m\n",
      "\u001b[1;31mTypeError\u001b[0m: power_of.<locals>.decorator() missing 1 required positional argument: 'func'"
     ]
    }
   ],
   "source": [
    "random_odd_digit()"
   ]
  },
  {
   "cell_type": "markdown",
   "id": "1f715d5d",
   "metadata": {},
   "source": [
    "------------ Issue can be resolved as"
   ]
  },
  {
   "cell_type": "code",
   "execution_count": 8,
   "id": "9382c08b",
   "metadata": {},
   "outputs": [],
   "source": [
    "def power_of(arg):\n",
    "    \n",
    "    def decorator(func):\n",
    "        \n",
    "        def inner_func():\n",
    "            return func() ** exponent\n",
    "        \n",
    "        return inner_func\n",
    "    \n",
    "    if callable(arg):\n",
    "        exponent = 2\n",
    "        return decorator(arg)\n",
    "    else:\n",
    "        exponent = arg\n",
    "        return decorator"
   ]
  },
  {
   "cell_type": "code",
   "execution_count": 9,
   "id": "1e8d5c8f",
   "metadata": {},
   "outputs": [],
   "source": [
    "@power_of(2)\n",
    "def random_odd_digit():\n",
    "    return random.choice([1, 3, 5, 7, 9])"
   ]
  },
  {
   "cell_type": "code",
   "execution_count": 10,
   "id": "5a589aae",
   "metadata": {},
   "outputs": [
    {
     "data": {
      "text/plain": [
       "49"
      ]
     },
     "execution_count": 10,
     "metadata": {},
     "output_type": "execute_result"
    }
   ],
   "source": [
    "random_odd_digit()"
   ]
  },
  {
   "cell_type": "code",
   "execution_count": 11,
   "id": "d14184a3",
   "metadata": {},
   "outputs": [],
   "source": [
    "@power_of\n",
    "def random_odd_digit():\n",
    "    return random.choice([1, 3, 5, 7, 9])"
   ]
  },
  {
   "cell_type": "code",
   "execution_count": 79,
   "id": "d415bd8a",
   "metadata": {},
   "outputs": [
    {
     "data": {
      "text/plain": [
       "49"
      ]
     },
     "execution_count": 79,
     "metadata": {},
     "output_type": "execute_result"
    }
   ],
   "source": [
    "random_odd_digit()"
   ]
  },
  {
   "cell_type": "markdown",
   "id": "d091a1a7",
   "metadata": {},
   "source": [
    "## III. Turning function into a class instance"
   ]
  },
  {
   "cell_type": "code",
   "execution_count": 80,
   "id": "4f2fd937",
   "metadata": {},
   "outputs": [],
   "source": [
    "def random_odd_digit():\n",
    "        return random.choice([1, 3, 5, 7, 9])"
   ]
  },
  {
   "cell_type": "code",
   "execution_count": 83,
   "id": "cce0947b",
   "metadata": {},
   "outputs": [
    {
     "data": {
      "text/plain": [
       "5"
      ]
     },
     "execution_count": 83,
     "metadata": {},
     "output_type": "execute_result"
    }
   ],
   "source": [
    "random_odd_digit()"
   ]
  },
  {
   "cell_type": "code",
   "execution_count": 84,
   "id": "cf15201d",
   "metadata": {},
   "outputs": [],
   "source": [
    "class Elephant:\n",
    "    \n",
    "    def __init__(self, func):\n",
    "        self._func = func"
   ]
  },
  {
   "cell_type": "code",
   "execution_count": 85,
   "id": "670085e2",
   "metadata": {},
   "outputs": [],
   "source": [
    "@Elephant\n",
    "def random_odd_digit():\n",
    "        return random.choice([1, 3, 5, 7, 9])"
   ]
  },
  {
   "cell_type": "code",
   "execution_count": 87,
   "id": "3e9d40a9",
   "metadata": {},
   "outputs": [
    {
     "data": {
      "text/plain": [
       "<__main__.Elephant at 0x16a2b63a710>"
      ]
     },
     "execution_count": 87,
     "metadata": {},
     "output_type": "execute_result"
    }
   ],
   "source": [
    "random_odd_digit"
   ]
  },
  {
   "cell_type": "code",
   "execution_count": 92,
   "id": "417c6bb8",
   "metadata": {},
   "outputs": [],
   "source": [
    "# to make Elephant class callable, implement __call__ method\n",
    "\n",
    "class Elephant:\n",
    "    \n",
    "    def __init__(self, func):\n",
    "        self._func = func\n",
    "        \n",
    "    def __call__(self):\n",
    "        return self._func()"
   ]
  },
  {
   "cell_type": "code",
   "execution_count": 93,
   "id": "d6d3b8a6",
   "metadata": {},
   "outputs": [],
   "source": [
    "@Elephant\n",
    "def random_odd_digit():\n",
    "        return random.choice([1, 3, 5, 7, 9])"
   ]
  },
  {
   "cell_type": "code",
   "execution_count": 95,
   "id": "8f117cb2",
   "metadata": {},
   "outputs": [
    {
     "data": {
      "text/plain": [
       "5"
      ]
     },
     "execution_count": 95,
     "metadata": {},
     "output_type": "execute_result"
    }
   ],
   "source": [
    "random_odd_digit()"
   ]
  },
  {
   "cell_type": "code",
   "execution_count": 105,
   "id": "fbb514af",
   "metadata": {},
   "outputs": [],
   "source": [
    "# keeping track of all the return values\n",
    "\n",
    "class Elephant:\n",
    "    \n",
    "    def __init__(self, func):\n",
    "        self._func = func\n",
    "        self._memory = []\n",
    "        \n",
    "    def __call__(self):\n",
    "        ret_val = self._func()\n",
    "        self._memory.append(ret_val)\n",
    "        return ret_val\n",
    "    \n",
    "    def memory(self):\n",
    "        return self._memory"
   ]
  },
  {
   "cell_type": "code",
   "execution_count": 106,
   "id": "970f3651",
   "metadata": {},
   "outputs": [],
   "source": [
    "@Elephant\n",
    "def random_odd_digit():\n",
    "        return random.choice([1, 3, 5, 7, 9])"
   ]
  },
  {
   "cell_type": "code",
   "execution_count": 107,
   "id": "4fa36aeb",
   "metadata": {},
   "outputs": [
    {
     "data": {
      "text/plain": [
       "7"
      ]
     },
     "execution_count": 107,
     "metadata": {},
     "output_type": "execute_result"
    }
   ],
   "source": [
    "random_odd_digit()"
   ]
  },
  {
   "cell_type": "code",
   "execution_count": 108,
   "id": "3e1b1058",
   "metadata": {},
   "outputs": [
    {
     "data": {
      "text/plain": [
       "5"
      ]
     },
     "execution_count": 108,
     "metadata": {},
     "output_type": "execute_result"
    }
   ],
   "source": [
    "random_odd_digit()"
   ]
  },
  {
   "cell_type": "code",
   "execution_count": 109,
   "id": "5e99fedb",
   "metadata": {},
   "outputs": [
    {
     "data": {
      "text/plain": [
       "[7, 5]"
      ]
     },
     "execution_count": 109,
     "metadata": {},
     "output_type": "execute_result"
    }
   ],
   "source": [
    "random_odd_digit.memory()"
   ]
  }
 ],
 "metadata": {
  "kernelspec": {
   "display_name": "Python 3 (ipykernel)",
   "language": "python",
   "name": "python3"
  },
  "language_info": {
   "codemirror_mode": {
    "name": "ipython",
    "version": 3
   },
   "file_extension": ".py",
   "mimetype": "text/x-python",
   "name": "python",
   "nbconvert_exporter": "python",
   "pygments_lexer": "ipython3",
   "version": "3.10.4"
  }
 },
 "nbformat": 4,
 "nbformat_minor": 5
}
