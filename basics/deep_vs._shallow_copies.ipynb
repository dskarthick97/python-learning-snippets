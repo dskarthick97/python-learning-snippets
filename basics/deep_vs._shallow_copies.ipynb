{
 "cells": [
  {
   "cell_type": "markdown",
   "id": "3ef7c0da",
   "metadata": {},
   "source": [
    "# Deep vs. Shallow copies"
   ]
  },
  {
   "cell_type": "code",
   "execution_count": 1,
   "id": "5f3e2b43",
   "metadata": {},
   "outputs": [],
   "source": [
    "num = [10, 20, 30]\n",
    "\n",
    "x = num # here the list is not copied"
   ]
  },
  {
   "cell_type": "code",
   "execution_count": 2,
   "id": "c56cb188",
   "metadata": {},
   "outputs": [
    {
     "data": {
      "text/plain": [
       "[10, 20, 30]"
      ]
     },
     "execution_count": 2,
     "metadata": {},
     "output_type": "execute_result"
    }
   ],
   "source": [
    "num"
   ]
  },
  {
   "cell_type": "code",
   "execution_count": 3,
   "id": "492f3ea8",
   "metadata": {},
   "outputs": [
    {
     "data": {
      "text/plain": [
       "[10, 20, 30]"
      ]
     },
     "execution_count": 3,
     "metadata": {},
     "output_type": "execute_result"
    }
   ],
   "source": [
    "x"
   ]
  },
  {
   "cell_type": "code",
   "execution_count": 4,
   "id": "2eb23acc",
   "metadata": {},
   "outputs": [
    {
     "data": {
      "text/plain": [
       "True"
      ]
     },
     "execution_count": 4,
     "metadata": {},
     "output_type": "execute_result"
    }
   ],
   "source": [
    "id(num) == id(x)"
   ]
  },
  {
   "cell_type": "code",
   "execution_count": 5,
   "id": "72ef18bf",
   "metadata": {},
   "outputs": [
    {
     "data": {
      "text/plain": [
       "True"
      ]
     },
     "execution_count": 5,
     "metadata": {},
     "output_type": "execute_result"
    }
   ],
   "source": [
    "# another way to find out if both are same object\n",
    "\n",
    "num is x"
   ]
  },
  {
   "cell_type": "markdown",
   "id": "4aa26fb8",
   "metadata": {},
   "source": [
    "## Copy"
   ]
  },
  {
   "cell_type": "markdown",
   "id": "433f85c2",
   "metadata": {},
   "source": [
    "### I. approach 01"
   ]
  },
  {
   "cell_type": "code",
   "execution_count": 6,
   "id": "869f09df",
   "metadata": {},
   "outputs": [],
   "source": [
    "# slice\n",
    "\n",
    "y = num[:] # slice [start:end+1]"
   ]
  },
  {
   "cell_type": "code",
   "execution_count": 7,
   "id": "7ff7c399",
   "metadata": {},
   "outputs": [
    {
     "data": {
      "text/plain": [
       "True"
      ]
     },
     "execution_count": 7,
     "metadata": {},
     "output_type": "execute_result"
    }
   ],
   "source": [
    "num == y"
   ]
  },
  {
   "cell_type": "code",
   "execution_count": 8,
   "id": "3593efcf",
   "metadata": {},
   "outputs": [
    {
     "data": {
      "text/plain": [
       "False"
      ]
     },
     "execution_count": 8,
     "metadata": {},
     "output_type": "execute_result"
    }
   ],
   "source": [
    "num is y # two separate lists"
   ]
  },
  {
   "cell_type": "markdown",
   "id": "53fe9773",
   "metadata": {},
   "source": [
    "### II. approach 02"
   ]
  },
  {
   "cell_type": "code",
   "execution_count": 9,
   "id": "64266b35",
   "metadata": {},
   "outputs": [],
   "source": [
    "# copy method\n",
    "\n",
    "z = num.copy()"
   ]
  },
  {
   "cell_type": "code",
   "execution_count": 10,
   "id": "e6fb77ad",
   "metadata": {},
   "outputs": [
    {
     "data": {
      "text/plain": [
       "[10, 20, 30]"
      ]
     },
     "execution_count": 10,
     "metadata": {},
     "output_type": "execute_result"
    }
   ],
   "source": [
    "z"
   ]
  },
  {
   "cell_type": "code",
   "execution_count": 11,
   "id": "5e624b69",
   "metadata": {},
   "outputs": [
    {
     "data": {
      "text/plain": [
       "True"
      ]
     },
     "execution_count": 11,
     "metadata": {},
     "output_type": "execute_result"
    }
   ],
   "source": [
    "num == z"
   ]
  },
  {
   "cell_type": "code",
   "execution_count": 12,
   "id": "9ef8967e",
   "metadata": {},
   "outputs": [
    {
     "data": {
      "text/plain": [
       "False"
      ]
     },
     "execution_count": 12,
     "metadata": {},
     "output_type": "execute_result"
    }
   ],
   "source": [
    "num is z"
   ]
  },
  {
   "cell_type": "markdown",
   "id": "219b0102",
   "metadata": {},
   "source": [
    "### III. approach 03"
   ]
  },
  {
   "cell_type": "code",
   "execution_count": 13,
   "id": "d664bad8",
   "metadata": {},
   "outputs": [],
   "source": [
    "# using copy module\n",
    "\n",
    "import copy\n",
    "\n",
    "xx = copy.copy(num)"
   ]
  },
  {
   "cell_type": "code",
   "execution_count": 14,
   "id": "678123f0",
   "metadata": {},
   "outputs": [
    {
     "data": {
      "text/plain": [
       "True"
      ]
     },
     "execution_count": 14,
     "metadata": {},
     "output_type": "execute_result"
    }
   ],
   "source": [
    "num == xx"
   ]
  },
  {
   "cell_type": "code",
   "execution_count": 15,
   "id": "085733fc",
   "metadata": {},
   "outputs": [
    {
     "data": {
      "text/plain": [
       "False"
      ]
     },
     "execution_count": 15,
     "metadata": {},
     "output_type": "execute_result"
    }
   ],
   "source": [
    "num is xx"
   ]
  },
  {
   "cell_type": "markdown",
   "id": "b7307209",
   "metadata": {},
   "source": [
    "## Shallow copy"
   ]
  },
  {
   "cell_type": "code",
   "execution_count": 16,
   "id": "8ba6ce4c",
   "metadata": {},
   "outputs": [],
   "source": [
    "# what if our list contains complex items\n",
    "\n",
    "num = [[10, 20, 30], [40, 50, 60], [70, 80, 90]]\n",
    "\n",
    "x = num.copy()"
   ]
  },
  {
   "cell_type": "code",
   "execution_count": 17,
   "id": "2a54e449",
   "metadata": {},
   "outputs": [
    {
     "data": {
      "text/plain": [
       "True"
      ]
     },
     "execution_count": 17,
     "metadata": {},
     "output_type": "execute_result"
    }
   ],
   "source": [
    "num == x"
   ]
  },
  {
   "cell_type": "code",
   "execution_count": 18,
   "id": "19b19832",
   "metadata": {},
   "outputs": [
    {
     "data": {
      "text/plain": [
       "False"
      ]
     },
     "execution_count": 18,
     "metadata": {},
     "output_type": "execute_result"
    }
   ],
   "source": [
    "num is x"
   ]
  },
  {
   "cell_type": "code",
   "execution_count": 19,
   "id": "472d0528",
   "metadata": {},
   "outputs": [
    {
     "data": {
      "text/plain": [
       "[10, 20, 30]"
      ]
     },
     "execution_count": 19,
     "metadata": {},
     "output_type": "execute_result"
    }
   ],
   "source": [
    "num[0]"
   ]
  },
  {
   "cell_type": "code",
   "execution_count": 20,
   "id": "2ab84f94",
   "metadata": {},
   "outputs": [],
   "source": [
    "num[0].append(35)"
   ]
  },
  {
   "cell_type": "code",
   "execution_count": 21,
   "id": "a1ecd945",
   "metadata": {},
   "outputs": [
    {
     "data": {
      "text/plain": [
       "[[10, 20, 30, 35], [40, 50, 60], [70, 80, 90]]"
      ]
     },
     "execution_count": 21,
     "metadata": {},
     "output_type": "execute_result"
    }
   ],
   "source": [
    "num"
   ]
  },
  {
   "cell_type": "code",
   "execution_count": 22,
   "id": "e9c864ee",
   "metadata": {},
   "outputs": [
    {
     "data": {
      "text/plain": [
       "[[10, 20, 30, 35], [40, 50, 60], [70, 80, 90]]"
      ]
     },
     "execution_count": 22,
     "metadata": {},
     "output_type": "execute_result"
    }
   ],
   "source": [
    "x"
   ]
  },
  {
   "cell_type": "markdown",
   "id": "3c45de2d",
   "metadata": {},
   "source": [
    "## Deep copy"
   ]
  },
  {
   "cell_type": "code",
   "execution_count": 23,
   "id": "461a6f1d",
   "metadata": {},
   "outputs": [],
   "source": [
    "import copy\n",
    "\n",
    "x = copy.deepcopy(num)"
   ]
  },
  {
   "cell_type": "code",
   "execution_count": 24,
   "id": "a094abc0",
   "metadata": {},
   "outputs": [
    {
     "data": {
      "text/plain": [
       "True"
      ]
     },
     "execution_count": 24,
     "metadata": {},
     "output_type": "execute_result"
    }
   ],
   "source": [
    "num == x"
   ]
  },
  {
   "cell_type": "code",
   "execution_count": 25,
   "id": "39188ca9",
   "metadata": {},
   "outputs": [
    {
     "data": {
      "text/plain": [
       "False"
      ]
     },
     "execution_count": 25,
     "metadata": {},
     "output_type": "execute_result"
    }
   ],
   "source": [
    "num is x"
   ]
  },
  {
   "cell_type": "code",
   "execution_count": 26,
   "id": "7f0dd82f",
   "metadata": {},
   "outputs": [],
   "source": [
    "num[0].append(45)"
   ]
  },
  {
   "cell_type": "code",
   "execution_count": 28,
   "id": "aaf9df66",
   "metadata": {},
   "outputs": [
    {
     "data": {
      "text/plain": [
       "[[10, 20, 30, 35, 45], [40, 50, 60], [70, 80, 90]]"
      ]
     },
     "execution_count": 28,
     "metadata": {},
     "output_type": "execute_result"
    }
   ],
   "source": [
    "num"
   ]
  },
  {
   "cell_type": "code",
   "execution_count": 29,
   "id": "d32ee55a",
   "metadata": {},
   "outputs": [
    {
     "data": {
      "text/plain": [
       "[[10, 20, 30, 35], [40, 50, 60], [70, 80, 90]]"
      ]
     },
     "execution_count": 29,
     "metadata": {},
     "output_type": "execute_result"
    }
   ],
   "source": [
    "x"
   ]
  }
 ],
 "metadata": {
  "kernelspec": {
   "display_name": "Python 3 (ipykernel)",
   "language": "python",
   "name": "python3"
  },
  "language_info": {
   "codemirror_mode": {
    "name": "ipython",
    "version": 3
   },
   "file_extension": ".py",
   "mimetype": "text/x-python",
   "name": "python",
   "nbconvert_exporter": "python",
   "pygments_lexer": "ipython3",
   "version": "3.10.4"
  }
 },
 "nbformat": 4,
 "nbformat_minor": 5
}
