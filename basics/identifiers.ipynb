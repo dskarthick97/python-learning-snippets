{
 "cells": [
  {
   "cell_type": "markdown",
   "id": "c592f6ab",
   "metadata": {},
   "source": [
    "# Identifiers\n",
    "\n",
    "- `variable` names\n",
    "\n",
    "- `function` names\n",
    "\n",
    "- `class` names\n",
    "\n",
    "Basically anything that we give name, the system doesn't come with"
   ]
  },
  {
   "cell_type": "code",
   "execution_count": 1,
   "id": "5994336d",
   "metadata": {},
   "outputs": [],
   "source": [
    "# python identifiers are case-sensitive\n",
    "\n",
    "x = 100"
   ]
  },
  {
   "cell_type": "code",
   "execution_count": 2,
   "id": "bca7b3a0",
   "metadata": {},
   "outputs": [
    {
     "name": "stdout",
     "output_type": "stream",
     "text": [
      "x = 100\n"
     ]
    }
   ],
   "source": [
    "print(f\"x = {x}\")"
   ]
  },
  {
   "cell_type": "code",
   "execution_count": 3,
   "id": "48a2cf29",
   "metadata": {},
   "outputs": [
    {
     "ename": "NameError",
     "evalue": "name 'X' is not defined",
     "output_type": "error",
     "traceback": [
      "\u001b[1;31m---------------------------------------------------------------------------\u001b[0m",
      "\u001b[1;31mNameError\u001b[0m                                 Traceback (most recent call last)",
      "Input \u001b[1;32mIn [3]\u001b[0m, in \u001b[0;36m<cell line: 1>\u001b[1;34m()\u001b[0m\n\u001b[1;32m----> 1\u001b[0m \u001b[43mX\u001b[49m \u001b[38;5;241m*\u001b[39m \u001b[38;5;241m10\u001b[39m\n",
      "\u001b[1;31mNameError\u001b[0m: name 'X' is not defined"
     ]
    }
   ],
   "source": [
    "X * 10"
   ]
  },
  {
   "cell_type": "markdown",
   "id": "1940cf24",
   "metadata": {},
   "source": [
    "## Underscore use cases"
   ]
  },
  {
   "cell_type": "markdown",
   "id": "d6656605",
   "metadata": {},
   "source": [
    "### I. multi-word identifier"
   ]
  },
  {
   "cell_type": "code",
   "execution_count": 4,
   "id": "dd3366d0",
   "metadata": {},
   "outputs": [],
   "source": [
    "# use underscore (_) for multi-word identifier\n",
    "\n",
    "first_name = \"Karthick\"\n",
    "last_name = \"Sabari\""
   ]
  },
  {
   "cell_type": "code",
   "execution_count": 5,
   "id": "8bf41dfe",
   "metadata": {},
   "outputs": [
    {
     "name": "stdout",
     "output_type": "stream",
     "text": [
      "Karthick Sabari\n"
     ]
    }
   ],
   "source": [
    "print(f\"{first_name} {last_name}\")"
   ]
  },
  {
   "cell_type": "code",
   "execution_count": 6,
   "id": "a650cdc6",
   "metadata": {},
   "outputs": [],
   "source": [
    "# snake case -- everything else\n",
    "# CamelCase -- class name"
   ]
  },
  {
   "cell_type": "code",
   "execution_count": 7,
   "id": "667dbc58",
   "metadata": {},
   "outputs": [],
   "source": [
    "class MultiNationalCorporation: # use camel case only for class names\n",
    "    pass"
   ]
  },
  {
   "cell_type": "code",
   "execution_count": 8,
   "id": "9bedc735",
   "metadata": {},
   "outputs": [
    {
     "data": {
      "text/plain": [
       "str"
      ]
     },
     "execution_count": 8,
     "metadata": {},
     "output_type": "execute_result"
    }
   ],
   "source": [
    "type(\"abcd\")"
   ]
  },
  {
   "cell_type": "code",
   "execution_count": 9,
   "id": "1f44b27c",
   "metadata": {},
   "outputs": [],
   "source": [
    "from collections import defaultdict"
   ]
  },
  {
   "cell_type": "code",
   "execution_count": 10,
   "id": "50ee3524",
   "metadata": {},
   "outputs": [
    {
     "data": {
      "text/plain": [
       "type"
      ]
     },
     "execution_count": 10,
     "metadata": {},
     "output_type": "execute_result"
    }
   ],
   "source": [
    "type(defaultdict)"
   ]
  },
  {
   "cell_type": "code",
   "execution_count": 11,
   "id": "88806cee",
   "metadata": {},
   "outputs": [],
   "source": [
    "# everything in python is public, open, readable\n",
    "\n",
    "x = 10\n",
    "y = [10, 20, 30]\n",
    "z = {\"a\": 1, \"b\":2 , \"c\": 3}"
   ]
  },
  {
   "cell_type": "markdown",
   "id": "e9b37398",
   "metadata": {},
   "source": [
    "### II. flagging an indentifier as private"
   ]
  },
  {
   "cell_type": "code",
   "execution_count": 1,
   "id": "636b9477",
   "metadata": {},
   "outputs": [],
   "source": [
    "# there is no way to stop anyone else inside the python program to see and printing the identifiers out.\n",
    "# the notion of private and protected variables doesn't exists.\n",
    "\n",
    "# then what to do if wants to have a private identifier e.g., password identifier.\n",
    "# SOLUTION: Flag the identifier with the prefix underscore. It is a convention.\n",
    "# using underscore before the identifier ensures people know that if they touch this things might break\n",
    "\n",
    "class Person:\n",
    "    def __init__(self, first_name, last_name, password):\n",
    "        self.first_name = first_name\n",
    "        self.last_name = last_name\n",
    "        \n",
    "        # both the first_name and last_name are attributes of the instance\n",
    "        # and they are public\n",
    "        self._password = password # here the password is private"
   ]
  },
  {
   "cell_type": "code",
   "execution_count": 2,
   "id": "b3873fc8",
   "metadata": {},
   "outputs": [],
   "source": [
    "class Employee(Person):\n",
    "    def __init__(self, first_name, last_name, password, employee_id):\n",
    "        super().__init__(first_name, last_name, password)\n",
    "        self.__employee_id = employee_id"
   ]
  },
  {
   "cell_type": "code",
   "execution_count": 3,
   "id": "779c2b24",
   "metadata": {},
   "outputs": [],
   "source": [
    "emp = Employee(\"karthick\", \"sabari\", \"password\", 123)"
   ]
  },
  {
   "cell_type": "code",
   "execution_count": 15,
   "id": "73da07b6",
   "metadata": {},
   "outputs": [
    {
     "data": {
      "text/plain": [
       "'karthick'"
      ]
     },
     "execution_count": 15,
     "metadata": {},
     "output_type": "execute_result"
    }
   ],
   "source": [
    "emp.first_name"
   ]
  },
  {
   "cell_type": "code",
   "execution_count": 16,
   "id": "5e514705",
   "metadata": {},
   "outputs": [
    {
     "data": {
      "text/plain": [
       "'sabari'"
      ]
     },
     "execution_count": 16,
     "metadata": {},
     "output_type": "execute_result"
    }
   ],
   "source": [
    "emp.last_name"
   ]
  },
  {
   "cell_type": "code",
   "execution_count": 17,
   "id": "02d1714b",
   "metadata": {},
   "outputs": [
    {
     "data": {
      "text/plain": [
       "'password'"
      ]
     },
     "execution_count": 17,
     "metadata": {},
     "output_type": "execute_result"
    }
   ],
   "source": [
    "emp._password"
   ]
  },
  {
   "cell_type": "markdown",
   "id": "eeeaedaa",
   "metadata": {},
   "source": [
    "### III. Name mangling"
   ]
  },
  {
   "cell_type": "code",
   "execution_count": 4,
   "id": "abfb68fe",
   "metadata": {},
   "outputs": [
    {
     "ename": "AttributeError",
     "evalue": "'Employee' object has no attribute '__employee_id'",
     "output_type": "error",
     "traceback": [
      "\u001b[1;31m---------------------------------------------------------------------------\u001b[0m",
      "\u001b[1;31mAttributeError\u001b[0m                            Traceback (most recent call last)",
      "Input \u001b[1;32mIn [4]\u001b[0m, in \u001b[0;36m<cell line: 1>\u001b[1;34m()\u001b[0m\n\u001b[1;32m----> 1\u001b[0m \u001b[43memp\u001b[49m\u001b[38;5;241;43m.\u001b[39;49m\u001b[43m__employee_id\u001b[49m\n",
      "\u001b[1;31mAttributeError\u001b[0m: 'Employee' object has no attribute '__employee_id'"
     ]
    }
   ],
   "source": [
    "emp.__employee_id"
   ]
  },
  {
   "cell_type": "code",
   "execution_count": 5,
   "id": "7fb1e648",
   "metadata": {},
   "outputs": [
    {
     "data": {
      "text/plain": [
       "{'first_name': 'karthick',\n",
       " 'last_name': 'sabari',\n",
       " '_password': 'password',\n",
       " '_Employee__employee_id': 123}"
      ]
     },
     "execution_count": 5,
     "metadata": {},
     "output_type": "execute_result"
    }
   ],
   "source": [
    "vars(emp)"
   ]
  },
  {
   "cell_type": "code",
   "execution_count": 6,
   "id": "4fdb0f3e",
   "metadata": {},
   "outputs": [
    {
     "data": {
      "text/plain": [
       "['_Employee__employee_id',\n",
       " '__class__',\n",
       " '__delattr__',\n",
       " '__dict__',\n",
       " '__dir__',\n",
       " '__doc__',\n",
       " '__eq__',\n",
       " '__format__',\n",
       " '__ge__',\n",
       " '__getattribute__',\n",
       " '__gt__',\n",
       " '__hash__',\n",
       " '__init__',\n",
       " '__init_subclass__',\n",
       " '__le__',\n",
       " '__lt__',\n",
       " '__module__',\n",
       " '__ne__',\n",
       " '__new__',\n",
       " '__reduce__',\n",
       " '__reduce_ex__',\n",
       " '__repr__',\n",
       " '__setattr__',\n",
       " '__sizeof__',\n",
       " '__str__',\n",
       " '__subclasshook__',\n",
       " '__weakref__',\n",
       " '_password',\n",
       " 'first_name',\n",
       " 'last_name']"
      ]
     },
     "execution_count": 6,
     "metadata": {},
     "output_type": "execute_result"
    }
   ],
   "source": [
    "dir(emp)"
   ]
  },
  {
   "cell_type": "markdown",
   "id": "c448a5a7",
   "metadata": {},
   "source": [
    "**NOTE**: In the above output, the `__employee_id` identifier is named as `_Employee__employee_id`. This is called **Name Mangling**. The attribute with the double underscore will bound within the class.  the class variable `__employee_id` is not accessible outside the class. It can be accessed only within the class. Any modification of the class variable can be done only inside the class"
   ]
  },
  {
   "cell_type": "code",
   "execution_count": 20,
   "id": "b508d566",
   "metadata": {},
   "outputs": [],
   "source": [
    "# name mangling -- if the identifier name starts with the double underscore(__),\n",
    "# it will be replace by _CLASS__identifier\n",
    "\n",
    "# python does this to prevent the conflict between the child and the parent classes\n",
    "# if they have the same attributes"
   ]
  },
  {
   "cell_type": "code",
   "execution_count": 22,
   "id": "2ae52a3c",
   "metadata": {},
   "outputs": [
    {
     "data": {
      "text/plain": [
       "123"
      ]
     },
     "execution_count": 22,
     "metadata": {},
     "output_type": "execute_result"
    }
   ],
   "source": [
    "emp._Employee__employee_id"
   ]
  },
  {
   "cell_type": "markdown",
   "id": "83475f4a",
   "metadata": {},
   "source": [
    "### IV. dunder methods"
   ]
  },
  {
   "cell_type": "code",
   "execution_count": 23,
   "id": "e3218494",
   "metadata": {},
   "outputs": [],
   "source": [
    "# dunder == double underscore, before and after the name\n",
    "\n",
    "# dunder init -- __init__\n",
    "# dunder str  -- __str__"
   ]
  },
  {
   "cell_type": "markdown",
   "id": "475a60b0",
   "metadata": {},
   "source": [
    "### V. using the reserved identifier name"
   ]
  },
  {
   "cell_type": "code",
   "execution_count": 26,
   "id": "b7caae86",
   "metadata": {},
   "outputs": [],
   "source": [
    "def get_class_name_str(str):\n",
    "    return str.__name__"
   ]
  },
  {
   "cell_type": "code",
   "execution_count": 28,
   "id": "77b91b4b",
   "metadata": {},
   "outputs": [
    {
     "data": {
      "text/plain": [
       "'str'"
      ]
     },
     "execution_count": 28,
     "metadata": {},
     "output_type": "execute_result"
    }
   ],
   "source": [
    "get_class_name_str(str)"
   ]
  },
  {
   "cell_type": "code",
   "execution_count": 29,
   "id": "640c4c76",
   "metadata": {},
   "outputs": [],
   "source": [
    "def get_class_name(class_):\n",
    "    return class_.__name__"
   ]
  },
  {
   "cell_type": "code",
   "execution_count": 30,
   "id": "e98d5da5",
   "metadata": {},
   "outputs": [
    {
     "data": {
      "text/plain": [
       "'int'"
      ]
     },
     "execution_count": 30,
     "metadata": {},
     "output_type": "execute_result"
    }
   ],
   "source": [
    "get_class_name(int)"
   ]
  },
  {
   "cell_type": "markdown",
   "id": "08ca4427",
   "metadata": {},
   "source": [
    "### VI. single underscore"
   ]
  },
  {
   "cell_type": "code",
   "execution_count": 31,
   "id": "19dae13e",
   "metadata": {},
   "outputs": [],
   "source": [
    "lst = [10, 20, 30]"
   ]
  },
  {
   "cell_type": "code",
   "execution_count": 32,
   "id": "46b2df68",
   "metadata": {},
   "outputs": [],
   "source": [
    "first, middle, last = lst"
   ]
  },
  {
   "cell_type": "code",
   "execution_count": 34,
   "id": "c8e451d9",
   "metadata": {},
   "outputs": [
    {
     "data": {
      "text/plain": [
       "10"
      ]
     },
     "execution_count": 34,
     "metadata": {},
     "output_type": "execute_result"
    }
   ],
   "source": [
    "first"
   ]
  },
  {
   "cell_type": "code",
   "execution_count": 35,
   "id": "6415c9e9",
   "metadata": {},
   "outputs": [
    {
     "data": {
      "text/plain": [
       "20"
      ]
     },
     "execution_count": 35,
     "metadata": {},
     "output_type": "execute_result"
    }
   ],
   "source": [
    "middle"
   ]
  },
  {
   "cell_type": "code",
   "execution_count": 36,
   "id": "b123f044",
   "metadata": {},
   "outputs": [
    {
     "data": {
      "text/plain": [
       "30"
      ]
     },
     "execution_count": 36,
     "metadata": {},
     "output_type": "execute_result"
    }
   ],
   "source": [
    "last"
   ]
  },
  {
   "cell_type": "code",
   "execution_count": 37,
   "id": "f76068e2",
   "metadata": {},
   "outputs": [],
   "source": [
    "first, _, last = lst"
   ]
  },
  {
   "cell_type": "markdown",
   "id": "6ebcc9e0",
   "metadata": {},
   "source": [
    "### VII. constants\n",
    "\n",
    "Its a convention that it shouldn't be reassigned"
   ]
  },
  {
   "cell_type": "code",
   "execution_count": 38,
   "id": "3d4e37e0",
   "metadata": {},
   "outputs": [],
   "source": [
    "MAX_VALUE = 100"
   ]
  },
  {
   "cell_type": "code",
   "execution_count": 39,
   "id": "7b9c34c8",
   "metadata": {},
   "outputs": [
    {
     "data": {
      "text/plain": [
       "100"
      ]
     },
     "execution_count": 39,
     "metadata": {},
     "output_type": "execute_result"
    }
   ],
   "source": [
    "MAX_VALUE"
   ]
  }
 ],
 "metadata": {
  "kernelspec": {
   "display_name": "Python 3 (ipykernel)",
   "language": "python",
   "name": "python3"
  },
  "language_info": {
   "codemirror_mode": {
    "name": "ipython",
    "version": 3
   },
   "file_extension": ".py",
   "mimetype": "text/x-python",
   "name": "python",
   "nbconvert_exporter": "python",
   "pygments_lexer": "ipython3",
   "version": "3.10.4"
  }
 },
 "nbformat": 4,
 "nbformat_minor": 5
}
