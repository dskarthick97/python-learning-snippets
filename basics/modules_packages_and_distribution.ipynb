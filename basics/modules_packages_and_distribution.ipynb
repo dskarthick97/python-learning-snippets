{
 "cells": [
  {
   "cell_type": "markdown",
   "id": "1191afd1",
   "metadata": {},
   "source": [
    "In python world, `library` is called as a `module`"
   ]
  },
  {
   "cell_type": "code",
   "execution_count": 1,
   "id": "197a6ac9",
   "metadata": {},
   "outputs": [
    {
     "name": "stdout",
     "output_type": "stream",
     "text": [
      "49\n"
     ]
    }
   ],
   "source": [
    "import random # here import keyword defining a variable random\n",
    "\n",
    "print(random.randint(1, 100))"
   ]
  },
  {
   "cell_type": "code",
   "execution_count": 2,
   "id": "acbbadc1",
   "metadata": {},
   "outputs": [
    {
     "data": {
      "text/plain": [
       "module"
      ]
     },
     "execution_count": 2,
     "metadata": {},
     "output_type": "execute_result"
    }
   ],
   "source": [
    "type(random)"
   ]
  },
  {
   "cell_type": "code",
   "execution_count": 3,
   "id": "2d25ee63",
   "metadata": {},
   "outputs": [
    {
     "data": {
      "text/plain": [
       "<module 'random' from 'C:\\\\Users\\\\karthick.dhilip\\\\AppData\\\\Local\\\\Programs\\\\Python\\\\Python310\\\\lib\\\\random.py'>"
      ]
     },
     "execution_count": 3,
     "metadata": {},
     "output_type": "execute_result"
    }
   ],
   "source": [
    "random"
   ]
  },
  {
   "cell_type": "code",
   "execution_count": 4,
   "id": "4640973e",
   "metadata": {},
   "outputs": [
    {
     "data": {
      "text/plain": [
       "['BPF',\n",
       " 'LOG4',\n",
       " 'NV_MAGICCONST',\n",
       " 'RECIP_BPF',\n",
       " 'Random',\n",
       " 'SG_MAGICCONST',\n",
       " 'SystemRandom',\n",
       " 'TWOPI',\n",
       " '_ONE',\n",
       " '_Sequence',\n",
       " '_Set',\n",
       " '__all__',\n",
       " '__builtins__',\n",
       " '__cached__',\n",
       " '__doc__',\n",
       " '__file__',\n",
       " '__loader__',\n",
       " '__name__',\n",
       " '__package__',\n",
       " '__spec__',\n",
       " '_accumulate',\n",
       " '_acos',\n",
       " '_bisect',\n",
       " '_ceil',\n",
       " '_cos',\n",
       " '_e',\n",
       " '_exp',\n",
       " '_floor',\n",
       " '_index',\n",
       " '_inst',\n",
       " '_isfinite',\n",
       " '_log',\n",
       " '_os',\n",
       " '_pi',\n",
       " '_random',\n",
       " '_repeat',\n",
       " '_sha512',\n",
       " '_sin',\n",
       " '_sqrt',\n",
       " '_test',\n",
       " '_test_generator',\n",
       " '_urandom',\n",
       " '_warn',\n",
       " 'betavariate',\n",
       " 'choice',\n",
       " 'choices',\n",
       " 'expovariate',\n",
       " 'gammavariate',\n",
       " 'gauss',\n",
       " 'getrandbits',\n",
       " 'getstate',\n",
       " 'lognormvariate',\n",
       " 'normalvariate',\n",
       " 'paretovariate',\n",
       " 'randbytes',\n",
       " 'randint',\n",
       " 'random',\n",
       " 'randrange',\n",
       " 'sample',\n",
       " 'seed',\n",
       " 'setstate',\n",
       " 'shuffle',\n",
       " 'triangular',\n",
       " 'uniform',\n",
       " 'vonmisesvariate',\n",
       " 'weibullvariate']"
      ]
     },
     "execution_count": 4,
     "metadata": {},
     "output_type": "execute_result"
    }
   ],
   "source": [
    "dir(random)"
   ]
  },
  {
   "cell_type": "code",
   "execution_count": 5,
   "id": "9dbdc56b",
   "metadata": {},
   "outputs": [
    {
     "data": {
      "text/plain": [
       "['D:\\\\dev\\\\selfLearning\\\\python\\\\basics',\n",
       " 'C:\\\\Users\\\\karthick.dhilip\\\\AppData\\\\Local\\\\Programs\\\\Python\\\\Python310\\\\python310.zip',\n",
       " 'C:\\\\Users\\\\karthick.dhilip\\\\AppData\\\\Local\\\\Programs\\\\Python\\\\Python310\\\\DLLs',\n",
       " 'C:\\\\Users\\\\karthick.dhilip\\\\AppData\\\\Local\\\\Programs\\\\Python\\\\Python310\\\\lib',\n",
       " 'C:\\\\Users\\\\karthick.dhilip\\\\AppData\\\\Local\\\\Programs\\\\Python\\\\Python310',\n",
       " 'D:\\\\dev\\\\selfLearning\\\\python\\\\venv',\n",
       " '',\n",
       " 'D:\\\\dev\\\\selfLearning\\\\python\\\\venv\\\\lib\\\\site-packages',\n",
       " 'D:\\\\dev\\\\selfLearning\\\\python\\\\venv\\\\lib\\\\site-packages\\\\win32',\n",
       " 'D:\\\\dev\\\\selfLearning\\\\python\\\\venv\\\\lib\\\\site-packages\\\\win32\\\\lib',\n",
       " 'D:\\\\dev\\\\selfLearning\\\\python\\\\venv\\\\lib\\\\site-packages\\\\Pythonwin']"
      ]
     },
     "execution_count": 5,
     "metadata": {},
     "output_type": "execute_result"
    }
   ],
   "source": [
    "# python finds the modules in system path\n",
    "\n",
    "import sys\n",
    "\n",
    "sys.path"
   ]
  },
  {
   "cell_type": "markdown",
   "id": "0da123f7",
   "metadata": {},
   "source": [
    "**Package** -- A directory that contains a bunch of related modules"
   ]
  },
  {
   "cell_type": "code",
   "execution_count": 6,
   "id": "26e5829d",
   "metadata": {},
   "outputs": [],
   "source": [
    "import xml"
   ]
  },
  {
   "cell_type": "code",
   "execution_count": 7,
   "id": "627ca7c2",
   "metadata": {},
   "outputs": [
    {
     "data": {
      "text/plain": [
       "module"
      ]
     },
     "execution_count": 7,
     "metadata": {},
     "output_type": "execute_result"
    }
   ],
   "source": [
    "type(xml)"
   ]
  },
  {
   "cell_type": "code",
   "execution_count": 19,
   "id": "fdcbc2c0",
   "metadata": {},
   "outputs": [
    {
     "data": {
      "text/plain": [
       "<module 'xml' from 'C:\\\\Users\\\\karthick.dhilip\\\\AppData\\\\Local\\\\Programs\\\\Python\\\\Python310\\\\lib\\\\xml\\\\__init__.py'>"
      ]
     },
     "execution_count": 19,
     "metadata": {},
     "output_type": "execute_result"
    }
   ],
   "source": [
    "xml # this says where it is loaded from"
   ]
  },
  {
   "cell_type": "code",
   "execution_count": 9,
   "id": "b5bab4ac",
   "metadata": {},
   "outputs": [
    {
     "name": "stdout",
     "output_type": "stream",
     "text": [
      " Volume in drive C has no label.\n",
      " Volume Serial Number is 10EC-B108\n",
      "\n",
      " Directory of C:\\Users\\karthick.dhilip\\AppData\\Local\\Programs\\Python\\Python310\\lib\\xml\n",
      "\n",
      "26-04-2022  14:18    <DIR>          .\n",
      "26-04-2022  14:18    <DIR>          ..\n",
      "23-03-2022  23:21               577 __init__.py\n",
      "26-04-2022  14:20    <DIR>          __pycache__\n",
      "26-04-2022  14:18    <DIR>          dom\n",
      "26-04-2022  14:18    <DIR>          etree\n",
      "26-04-2022  14:18    <DIR>          parsers\n",
      "26-04-2022  14:18    <DIR>          sax\n",
      "               1 File(s)            577 bytes\n",
      "               7 Dir(s)  161,169,477,632 bytes free\n"
     ]
    }
   ],
   "source": [
    "%ls C:\\Users\\karthick.dhilip\\AppData\\Local\\Programs\\Python\\Python310\\lib\\xml"
   ]
  },
  {
   "cell_type": "code",
   "execution_count": 10,
   "id": "f6e5a023",
   "metadata": {},
   "outputs": [
    {
     "name": "stdout",
     "output_type": "stream",
     "text": [
      " Volume in drive C has no label.\n",
      " Volume Serial Number is 10EC-B108\n",
      "\n",
      " Directory of C:\\Users\\karthick.dhilip\\AppData\\Local\\Programs\\Python\\Python310\\lib\\xml\\etree\n",
      "\n",
      "26-04-2022  14:18    <DIR>          .\n",
      "26-04-2022  14:18    <DIR>          ..\n",
      "23-03-2022  23:21             1,638 __init__.py\n",
      "26-04-2022  14:20    <DIR>          __pycache__\n",
      "23-03-2022  23:21                85 cElementTree.py\n",
      "23-03-2022  23:21             7,067 ElementInclude.py\n",
      "23-03-2022  23:21            14,429 ElementPath.py\n",
      "23-03-2022  23:21            76,102 ElementTree.py\n",
      "               5 File(s)         99,321 bytes\n",
      "               3 Dir(s)  161,169,477,632 bytes free\n"
     ]
    }
   ],
   "source": [
    "%ls C:\\Users\\karthick.dhilip\\AppData\\Local\\Programs\\Python\\Python310\\lib\\xml\\etree"
   ]
  },
  {
   "cell_type": "code",
   "execution_count": 11,
   "id": "29f1864f",
   "metadata": {},
   "outputs": [],
   "source": [
    "import xml"
   ]
  },
  {
   "cell_type": "code",
   "execution_count": 12,
   "id": "e11d1a51",
   "metadata": {},
   "outputs": [],
   "source": [
    "import xml.etree"
   ]
  },
  {
   "cell_type": "code",
   "execution_count": 13,
   "id": "8f2af49e",
   "metadata": {},
   "outputs": [],
   "source": [
    "from xml import etree"
   ]
  },
  {
   "cell_type": "code",
   "execution_count": 14,
   "id": "fe4a6e31",
   "metadata": {},
   "outputs": [],
   "source": [
    "import sys"
   ]
  }
 ],
 "metadata": {
  "kernelspec": {
   "display_name": "Python 3 (ipykernel)",
   "language": "python",
   "name": "python3"
  },
  "language_info": {
   "codemirror_mode": {
    "name": "ipython",
    "version": 3
   },
   "file_extension": ".py",
   "mimetype": "text/x-python",
   "name": "python",
   "nbconvert_exporter": "python",
   "pygments_lexer": "ipython3",
   "version": "3.10.4"
  }
 },
 "nbformat": 4,
 "nbformat_minor": 5
}
