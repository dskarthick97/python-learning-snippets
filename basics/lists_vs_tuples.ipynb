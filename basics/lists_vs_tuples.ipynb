{
 "cells": [
  {
   "cell_type": "markdown",
   "id": "b69c93cd",
   "metadata": {},
   "source": [
    "## list vs. tuples\n",
    "\n",
    "- lists are used for collections of objects of `the same types`.So: a list of strings, a list of integers, a list of lists, etc\n",
    "\n",
    "- tuples, by contrast, are used for collections of objects of `different types` (or potentially different types)"
   ]
  },
  {
   "cell_type": "code",
   "execution_count": 1,
   "id": "e9c104eb",
   "metadata": {},
   "outputs": [
    {
     "data": {
      "text/plain": [
       "list"
      ]
     },
     "execution_count": 1,
     "metadata": {},
     "output_type": "execute_result"
    }
   ],
   "source": [
    "# lists are mutable, ordered collections\n",
    "\n",
    "nums = [10, 20, 30, 40, 50]\n",
    "type(nums)"
   ]
  },
  {
   "cell_type": "code",
   "execution_count": 2,
   "id": "b89d2438",
   "metadata": {},
   "outputs": [
    {
     "data": {
      "text/plain": [
       "tuple"
      ]
     },
     "execution_count": 2,
     "metadata": {},
     "output_type": "execute_result"
    }
   ],
   "source": [
    "# tuples are immutable, ordered collections\n",
    "\n",
    "nums = (10, 20, 30, 40, 50)\n",
    "type(nums)"
   ]
  },
  {
   "cell_type": "markdown",
   "id": "526440f1",
   "metadata": {},
   "source": [
    "The technical difference between list and tuple is that tuples are immutable. But this is not the difference how we use them"
   ]
  },
  {
   "cell_type": "markdown",
   "id": "fa870aa5",
   "metadata": {},
   "source": [
    "## Uses for lists vs. tuples"
   ]
  },
  {
   "cell_type": "markdown",
   "id": "a9f7d5c3",
   "metadata": {},
   "source": [
    "- If you have a bunch of name: Use a list.\n",
    "\n",
    "- If you have a bunch of numbers: Use a list.\n",
    "\n",
    "- If you have a bunch of IP addresses: Use a list.\n",
    "\n",
    "- If you have a bunch of `Person` objects: Use a list.\n",
    "\n",
    "- If you have a person represented as (`first_name`, `last_name`, `shoesize`): then should use a tuple, because we have different types there.\n",
    "\n",
    "- If you read from database, you'll get the records in a list of tuples -- because each record is one tuple, and we have a bunch of records."
   ]
  },
  {
   "cell_type": "code",
   "execution_count": 3,
   "id": "0ffc9945",
   "metadata": {},
   "outputs": [],
   "source": [
    "# tuples are memory efficient in their memory use than lists\n",
    "# because they won't ever change!"
   ]
  }
 ],
 "metadata": {
  "kernelspec": {
   "display_name": "Python 3 (ipykernel)",
   "language": "python",
   "name": "python3"
  },
  "language_info": {
   "codemirror_mode": {
    "name": "ipython",
    "version": 3
   },
   "file_extension": ".py",
   "mimetype": "text/x-python",
   "name": "python",
   "nbconvert_exporter": "python",
   "pygments_lexer": "ipython3",
   "version": "3.10.4"
  }
 },
 "nbformat": 4,
 "nbformat_minor": 5
}
