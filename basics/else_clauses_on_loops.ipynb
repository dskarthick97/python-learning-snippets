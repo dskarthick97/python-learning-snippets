{
 "cells": [
  {
   "cell_type": "markdown",
   "id": "19da17ea",
   "metadata": {},
   "source": [
    "## Else clauses on loops"
   ]
  },
  {
   "cell_type": "markdown",
   "id": "70652f7c",
   "metadata": {},
   "source": [
    "### For loop"
   ]
  },
  {
   "cell_type": "markdown",
   "id": "00e3ecbd",
   "metadata": {},
   "source": [
    "#### Scenario 1"
   ]
  },
  {
   "cell_type": "code",
   "execution_count": 1,
   "id": "fa1352bf",
   "metadata": {},
   "outputs": [],
   "source": [
    "nums = [1, 2, 3, 4, 5]"
   ]
  },
  {
   "cell_type": "code",
   "execution_count": 2,
   "id": "5f7850e7",
   "metadata": {},
   "outputs": [
    {
     "name": "stdout",
     "output_type": "stream",
     "text": [
      "1\n",
      "2\n",
      "3\n",
      "4\n",
      "5\n",
      "Hits the for/else statement\n"
     ]
    }
   ],
   "source": [
    "for num in nums:\n",
    "    print(num)\n",
    "else:\n",
    "    print(\"Hits the for/else statement\")"
   ]
  },
  {
   "cell_type": "markdown",
   "id": "5ef6e454",
   "metadata": {},
   "source": [
    "#### Scenario 2\n",
    "\n",
    "using `break` statement inside loop"
   ]
  },
  {
   "cell_type": "code",
   "execution_count": 3,
   "id": "789d61f3",
   "metadata": {},
   "outputs": [
    {
     "name": "stdout",
     "output_type": "stream",
     "text": [
      "1\n",
      "2\n",
      "3\n"
     ]
    }
   ],
   "source": [
    "for num in nums:\n",
    "    print(num)\n",
    "    if num == 3:\n",
    "        break\n",
    "else:\n",
    "    print(\"Hits the for/else statement\")"
   ]
  },
  {
   "cell_type": "markdown",
   "id": "3821c74a",
   "metadata": {},
   "source": [
    "### While loop"
   ]
  },
  {
   "cell_type": "code",
   "execution_count": 4,
   "id": "7e89e4f9",
   "metadata": {},
   "outputs": [
    {
     "name": "stdout",
     "output_type": "stream",
     "text": [
      "1\n",
      "2\n",
      "3\n",
      "4\n",
      "5\n",
      "Hits the while/else statement\n"
     ]
    }
   ],
   "source": [
    "i = 1\n",
    "while i <= 5:\n",
    "    print(i)\n",
    "    i += 1\n",
    "else:\n",
    "    print(\"Hits the while/else statement\")"
   ]
  },
  {
   "cell_type": "code",
   "execution_count": 5,
   "id": "0e616a11",
   "metadata": {},
   "outputs": [
    {
     "name": "stdout",
     "output_type": "stream",
     "text": [
      "1\n",
      "2\n"
     ]
    }
   ],
   "source": [
    "i = 1\n",
    "while i <= 5:\n",
    "    print(i)\n",
    "    i += 1\n",
    "\n",
    "    if i == 3:\n",
    "        break\n",
    "else:\n",
    "    print(\"Hits the while/else statement\")"
   ]
  },
  {
   "cell_type": "markdown",
   "id": "6c63ca29",
   "metadata": {},
   "source": [
    "**Practical example**"
   ]
  },
  {
   "cell_type": "code",
   "execution_count": 10,
   "id": "25bb3a2b",
   "metadata": {},
   "outputs": [],
   "source": [
    "def find_index(to_search, target):\n",
    "    for index, value in enumerate(to_search):\n",
    "        if value == target:\n",
    "            break\n",
    "    else:\n",
    "        return -1\n",
    "    \n",
    "    return index"
   ]
  },
  {
   "cell_type": "code",
   "execution_count": 7,
   "id": "809cd3f6",
   "metadata": {},
   "outputs": [],
   "source": [
    "names = [\"Karthick\", \"Sabari\", \"Dhilip\", \"Sudhakar\"]"
   ]
  },
  {
   "cell_type": "code",
   "execution_count": 11,
   "id": "8758a8dd",
   "metadata": {},
   "outputs": [
    {
     "data": {
      "text/plain": [
       "2"
      ]
     },
     "execution_count": 11,
     "metadata": {},
     "output_type": "execute_result"
    }
   ],
   "source": [
    "find_index(names, \"Dhilip\")"
   ]
  },
  {
   "cell_type": "code",
   "execution_count": 12,
   "id": "a366b823",
   "metadata": {},
   "outputs": [
    {
     "data": {
      "text/plain": [
       "-1"
      ]
     },
     "execution_count": 12,
     "metadata": {},
     "output_type": "execute_result"
    }
   ],
   "source": [
    "find_index(names, \"Clarke\")"
   ]
  }
 ],
 "metadata": {
  "kernelspec": {
   "display_name": "Python 3 (ipykernel)",
   "language": "python",
   "name": "python3"
  },
  "language_info": {
   "codemirror_mode": {
    "name": "ipython",
    "version": 3
   },
   "file_extension": ".py",
   "mimetype": "text/x-python",
   "name": "python",
   "nbconvert_exporter": "python",
   "pygments_lexer": "ipython3",
   "version": "3.10.4"
  }
 },
 "nbformat": 4,
 "nbformat_minor": 5
}
