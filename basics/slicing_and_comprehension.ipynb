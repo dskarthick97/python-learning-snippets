{
 "cells": [
  {
   "cell_type": "markdown",
   "id": "74da7bea",
   "metadata": {},
   "source": [
    "# Slicing\n",
    "\n",
    "**Syntax** -- `list[start: end: step]`"
   ]
  },
  {
   "cell_type": "code",
   "execution_count": 1,
   "id": "d053ec68",
   "metadata": {},
   "outputs": [],
   "source": [
    "numbers = [0, 1, 2, 3, 4, 5, 6, 7, 8, 9]\n",
    "#          0, 1, 2, 3, 4, 5, 6, 7, 8, 9\n",
    "#         -10,-9,-8,-7,-6,-5,-4,-3,-2,-1"
   ]
  },
  {
   "cell_type": "code",
   "execution_count": 3,
   "id": "eecf306e",
   "metadata": {},
   "outputs": [
    {
     "data": {
      "text/plain": [
       "[1, 2, 3, 4, 5, 6, 7]"
      ]
     },
     "execution_count": 3,
     "metadata": {},
     "output_type": "execute_result"
    }
   ],
   "source": [
    "numbers[1:8]"
   ]
  },
  {
   "cell_type": "code",
   "execution_count": 6,
   "id": "5fff80fd",
   "metadata": {},
   "outputs": [
    {
     "data": {
      "text/plain": [
       "[9, 8, 7, 6, 5, 4, 3, 2, 1, 0]"
      ]
     },
     "execution_count": 6,
     "metadata": {},
     "output_type": "execute_result"
    }
   ],
   "source": [
    "# this reverses the list\n",
    "numbers[::-1]"
   ]
  },
  {
   "cell_type": "markdown",
   "id": "05fe4afd",
   "metadata": {},
   "source": [
    "# list comprehension\n",
    "\n",
    "**Syntax** -- `[ for item in list]`"
   ]
  },
  {
   "cell_type": "markdown",
   "id": "a06ab6c4",
   "metadata": {},
   "source": [
    "### mapping"
   ]
  },
  {
   "cell_type": "code",
   "execution_count": 7,
   "id": "ad0aa32e",
   "metadata": {},
   "outputs": [
    {
     "data": {
      "text/plain": [
       "[0, 1, 4, 9, 16, 25, 36, 49, 64, 81]"
      ]
     },
     "execution_count": 7,
     "metadata": {},
     "output_type": "execute_result"
    }
   ],
   "source": [
    "[number * number for number in numbers]"
   ]
  },
  {
   "cell_type": "markdown",
   "id": "ae7af6bc",
   "metadata": {},
   "source": [
    "There is another way to do this, `map` method"
   ]
  },
  {
   "cell_type": "code",
   "execution_count": 13,
   "id": "4b32eeda",
   "metadata": {},
   "outputs": [
    {
     "data": {
      "text/plain": [
       "<map at 0x1d240313010>"
      ]
     },
     "execution_count": 13,
     "metadata": {},
     "output_type": "execute_result"
    }
   ],
   "source": [
    "map(lambda number: number * number, numbers)"
   ]
  },
  {
   "cell_type": "markdown",
   "id": "067e426d",
   "metadata": {},
   "source": [
    "### filtering"
   ]
  },
  {
   "cell_type": "code",
   "execution_count": 14,
   "id": "0465c03a",
   "metadata": {},
   "outputs": [
    {
     "data": {
      "text/plain": [
       "[0, 2, 4, 6, 8]"
      ]
     },
     "execution_count": 14,
     "metadata": {},
     "output_type": "execute_result"
    }
   ],
   "source": [
    "[num for num in numbers if num %2 == 0]"
   ]
  },
  {
   "cell_type": "markdown",
   "id": "88fad18a",
   "metadata": {},
   "source": [
    "There is another way to do this, `filter` method"
   ]
  },
  {
   "cell_type": "code",
   "execution_count": 15,
   "id": "b0a1a6f7",
   "metadata": {},
   "outputs": [
    {
     "data": {
      "text/plain": [
       "<filter at 0x1d240312d10>"
      ]
     },
     "execution_count": 15,
     "metadata": {},
     "output_type": "execute_result"
    }
   ],
   "source": [
    "filter(lambda num: num % 2 == 0, numbers)"
   ]
  },
  {
   "cell_type": "markdown",
   "id": "3d9aa2ae",
   "metadata": {},
   "source": [
    "## list comprehension vs. for loop"
   ]
  },
  {
   "cell_type": "code",
   "execution_count": 1,
   "id": "32634638",
   "metadata": {},
   "outputs": [
    {
     "data": {
      "text/plain": [
       "[0, 1, 4, 9, 16, 25, 36, 49, 64, 81]"
      ]
     },
     "execution_count": 1,
     "metadata": {},
     "output_type": "execute_result"
    }
   ],
   "source": [
    "output = []\n",
    "for i in range(10):\n",
    "    output.append(i ** 2)\n",
    "    \n",
    "output"
   ]
  },
  {
   "cell_type": "code",
   "execution_count": 2,
   "id": "9e2b299b",
   "metadata": {},
   "outputs": [
    {
     "data": {
      "text/plain": [
       "[0, 1, 4, 9, 16, 25, 36, 49, 64, 81]"
      ]
     },
     "execution_count": 2,
     "metadata": {},
     "output_type": "execute_result"
    }
   ],
   "source": [
    "output = [i ** 2 for i in range(10)]\n",
    "output"
   ]
  },
  {
   "cell_type": "code",
   "execution_count": 4,
   "id": "0bbd6080",
   "metadata": {},
   "outputs": [],
   "source": [
    "def traditional():\n",
    "    output = []\n",
    "    for num in range(10):\n",
    "        output.append(num ** 2)\n",
    "        \n",
    "    return output\n",
    "\n",
    "\n",
    "def comprehension():\n",
    "    return [num ** 2 for num in range(10)]"
   ]
  },
  {
   "cell_type": "code",
   "execution_count": 6,
   "id": "ac44fdb6",
   "metadata": {},
   "outputs": [],
   "source": [
    "# lib to disassemble things\n",
    "import dis"
   ]
  },
  {
   "cell_type": "code",
   "execution_count": 7,
   "id": "507e5238",
   "metadata": {},
   "outputs": [
    {
     "name": "stdout",
     "output_type": "stream",
     "text": [
      "  2           0 BUILD_LIST               0\n",
      "              2 STORE_FAST               0 (output)\n",
      "\n",
      "  3           4 LOAD_GLOBAL              0 (range)\n",
      "              6 LOAD_CONST               1 (10)\n",
      "              8 CALL_FUNCTION            1\n",
      "             10 GET_ITER\n",
      "        >>   12 FOR_ITER                 9 (to 32)\n",
      "             14 STORE_FAST               1 (num)\n",
      "\n",
      "  4          16 LOAD_FAST                0 (output)\n",
      "             18 LOAD_METHOD              1 (append)\n",
      "             20 LOAD_FAST                1 (num)\n",
      "             22 LOAD_CONST               2 (2)\n",
      "             24 BINARY_POWER\n",
      "             26 CALL_METHOD              1\n",
      "             28 POP_TOP\n",
      "             30 JUMP_ABSOLUTE            6 (to 12)\n",
      "\n",
      "  6     >>   32 LOAD_FAST                0 (output)\n",
      "             34 RETURN_VALUE\n"
     ]
    }
   ],
   "source": [
    "dis.dis(traditional)"
   ]
  },
  {
   "cell_type": "code",
   "execution_count": 9,
   "id": "68e0f19c",
   "metadata": {},
   "outputs": [
    {
     "name": "stdout",
     "output_type": "stream",
     "text": [
      " 10           0 LOAD_CONST               1 (<code object <listcomp> at 0x0000018BD3FAE550, file \"C:\\Users\\karthick.dhilip\\AppData\\Local\\Temp\\ipykernel_18464\\3054793105.py\", line 10>)\n",
      "              2 LOAD_CONST               2 ('comprehension.<locals>.<listcomp>')\n",
      "              4 MAKE_FUNCTION            0\n",
      "              6 LOAD_GLOBAL              0 (range)\n",
      "              8 LOAD_CONST               3 (10)\n",
      "             10 CALL_FUNCTION            1\n",
      "             12 GET_ITER\n",
      "             14 CALL_FUNCTION            1\n",
      "             16 RETURN_VALUE\n",
      "\n",
      "Disassembly of <code object <listcomp> at 0x0000018BD3FAE550, file \"C:\\Users\\karthick.dhilip\\AppData\\Local\\Temp\\ipykernel_18464\\3054793105.py\", line 10>:\n",
      " 10           0 BUILD_LIST               0\n",
      "              2 LOAD_FAST                0 (.0)\n",
      "        >>    4 FOR_ITER                 6 (to 18)\n",
      "              6 STORE_FAST               1 (num)\n",
      "              8 LOAD_FAST                1 (num)\n",
      "             10 LOAD_CONST               0 (2)\n",
      "             12 BINARY_POWER\n",
      "             14 LIST_APPEND              2\n",
      "             16 JUMP_ABSOLUTE            2 (to 4)\n",
      "        >>   18 RETURN_VALUE\n"
     ]
    }
   ],
   "source": [
    "dis.dis(comprehension)"
   ]
  },
  {
   "cell_type": "code",
   "execution_count": 10,
   "id": "41d01ddd",
   "metadata": {},
   "outputs": [
    {
     "data": {
      "text/plain": [
       "(None,\n",
       " <code object <listcomp> at 0x0000018BD3FAE550, file \"C:\\Users\\karthick.dhilip\\AppData\\Local\\Temp\\ipykernel_18464\\3054793105.py\", line 10>,\n",
       " 'comprehension.<locals>.<listcomp>',\n",
       " 10)"
      ]
     },
     "execution_count": 10,
     "metadata": {},
     "output_type": "execute_result"
    }
   ],
   "source": [
    "comprehension.__code__.co_consts"
   ]
  },
  {
   "cell_type": "code",
   "execution_count": 11,
   "id": "6cc44cda",
   "metadata": {},
   "outputs": [
    {
     "name": "stdout",
     "output_type": "stream",
     "text": [
      "7.86 µs ± 548 ns per loop (mean ± std. dev. of 7 runs, 100,000 loops each)\n"
     ]
    }
   ],
   "source": [
    "%timeit traditional()"
   ]
  },
  {
   "cell_type": "code",
   "execution_count": 12,
   "id": "1d0e8be9",
   "metadata": {},
   "outputs": [
    {
     "name": "stdout",
     "output_type": "stream",
     "text": [
      "7.14 µs ± 1.29 µs per loop (mean ± std. dev. of 7 runs, 100,000 loops each)\n"
     ]
    }
   ],
   "source": [
    "%timeit comprehension()"
   ]
  },
  {
   "cell_type": "markdown",
   "id": "f778682d",
   "metadata": {},
   "source": [
    "# Generators"
   ]
  },
  {
   "cell_type": "code",
   "execution_count": 16,
   "id": "471bc0f2",
   "metadata": {},
   "outputs": [
    {
     "data": {
      "text/plain": [
       "<generator object <genexpr> at 0x000001D240E42110>"
      ]
     },
     "execution_count": 16,
     "metadata": {},
     "output_type": "execute_result"
    }
   ],
   "source": [
    "(num * num for num in numbers)"
   ]
  },
  {
   "cell_type": "markdown",
   "id": "a8165d27",
   "metadata": {},
   "source": [
    "### generator comprehension"
   ]
  },
  {
   "cell_type": "code",
   "execution_count": 14,
   "id": "60bf1a3f",
   "metadata": {},
   "outputs": [
    {
     "data": {
      "text/plain": [
       "<generator object <genexpr> at 0x0000018BD591E500>"
      ]
     },
     "execution_count": 14,
     "metadata": {},
     "output_type": "execute_result"
    }
   ],
   "source": [
    "output = (num ** 2 for num in range(10))\n",
    "output"
   ]
  },
  {
   "cell_type": "code",
   "execution_count": 16,
   "id": "c7102416",
   "metadata": {},
   "outputs": [],
   "source": [
    "def generator():\n",
    "    return (num ** 2 for num in range(10))"
   ]
  },
  {
   "cell_type": "code",
   "execution_count": 17,
   "id": "30bdac39",
   "metadata": {},
   "outputs": [
    {
     "name": "stdout",
     "output_type": "stream",
     "text": [
      "  2           0 LOAD_CONST               1 (<code object <genexpr> at 0x0000018BD3FAC030, file \"C:\\Users\\karthick.dhilip\\AppData\\Local\\Temp\\ipykernel_18464\\403285055.py\", line 2>)\n",
      "              2 LOAD_CONST               2 ('generator.<locals>.<genexpr>')\n",
      "              4 MAKE_FUNCTION            0\n",
      "              6 LOAD_GLOBAL              0 (range)\n",
      "              8 LOAD_CONST               3 (10)\n",
      "             10 CALL_FUNCTION            1\n",
      "             12 GET_ITER\n",
      "             14 CALL_FUNCTION            1\n",
      "             16 RETURN_VALUE\n",
      "\n",
      "Disassembly of <code object <genexpr> at 0x0000018BD3FAC030, file \"C:\\Users\\karthick.dhilip\\AppData\\Local\\Temp\\ipykernel_18464\\403285055.py\", line 2>:\n",
      "              0 GEN_START                0\n",
      "\n",
      "  2           2 LOAD_FAST                0 (.0)\n",
      "        >>    4 FOR_ITER                 7 (to 20)\n",
      "              6 STORE_FAST               1 (num)\n",
      "              8 LOAD_FAST                1 (num)\n",
      "             10 LOAD_CONST               0 (2)\n",
      "             12 BINARY_POWER\n",
      "             14 YIELD_VALUE\n",
      "             16 POP_TOP\n",
      "             18 JUMP_ABSOLUTE            2 (to 4)\n",
      "        >>   20 LOAD_CONST               1 (None)\n",
      "             22 RETURN_VALUE\n"
     ]
    }
   ],
   "source": [
    "dis.dis(generator)"
   ]
  },
  {
   "cell_type": "code",
   "execution_count": 19,
   "id": "6606e01b",
   "metadata": {},
   "outputs": [
    {
     "data": {
      "text/plain": [
       "(None,\n",
       " <code object <genexpr> at 0x0000018BD3FAC030, file \"C:\\Users\\karthick.dhilip\\AppData\\Local\\Temp\\ipykernel_18464\\403285055.py\", line 2>,\n",
       " 'generator.<locals>.<genexpr>',\n",
       " 10)"
      ]
     },
     "execution_count": 19,
     "metadata": {},
     "output_type": "execute_result"
    }
   ],
   "source": [
    "generator.__code__.co_consts # same as list comprehension"
   ]
  },
  {
   "cell_type": "code",
   "execution_count": 20,
   "id": "6345cbe0",
   "metadata": {},
   "outputs": [
    {
     "name": "stdout",
     "output_type": "stream",
     "text": [
      "1.3 µs ± 268 ns per loop (mean ± std. dev. of 7 runs, 1,000,000 loops each)\n"
     ]
    }
   ],
   "source": [
    "%timeit generator()"
   ]
  },
  {
   "cell_type": "code",
   "execution_count": 28,
   "id": "0936ce50",
   "metadata": {},
   "outputs": [],
   "source": [
    "def generator_to_list():\n",
    "    return list((num ** 2 for num in range(10)))"
   ]
  },
  {
   "cell_type": "code",
   "execution_count": 29,
   "id": "2c429be2",
   "metadata": {},
   "outputs": [
    {
     "name": "stdout",
     "output_type": "stream",
     "text": [
      "  2           0 LOAD_GLOBAL              0 (list)\n",
      "              2 LOAD_CONST               1 (<code object <genexpr> at 0x0000018BD16454D0, file \"C:\\Users\\karthick.dhilip\\AppData\\Local\\Temp\\ipykernel_18464\\2817198403.py\", line 2>)\n",
      "              4 LOAD_CONST               2 ('generator_to_list.<locals>.<genexpr>')\n",
      "              6 MAKE_FUNCTION            0\n",
      "              8 LOAD_GLOBAL              1 (range)\n",
      "             10 LOAD_CONST               3 (10)\n",
      "             12 CALL_FUNCTION            1\n",
      "             14 GET_ITER\n",
      "             16 CALL_FUNCTION            1\n",
      "             18 CALL_FUNCTION            1\n",
      "             20 RETURN_VALUE\n",
      "\n",
      "Disassembly of <code object <genexpr> at 0x0000018BD16454D0, file \"C:\\Users\\karthick.dhilip\\AppData\\Local\\Temp\\ipykernel_18464\\2817198403.py\", line 2>:\n",
      "              0 GEN_START                0\n",
      "\n",
      "  2           2 LOAD_FAST                0 (.0)\n",
      "        >>    4 FOR_ITER                 7 (to 20)\n",
      "              6 STORE_FAST               1 (num)\n",
      "              8 LOAD_FAST                1 (num)\n",
      "             10 LOAD_CONST               0 (2)\n",
      "             12 BINARY_POWER\n",
      "             14 YIELD_VALUE\n",
      "             16 POP_TOP\n",
      "             18 JUMP_ABSOLUTE            2 (to 4)\n",
      "        >>   20 LOAD_CONST               1 (None)\n",
      "             22 RETURN_VALUE\n"
     ]
    }
   ],
   "source": [
    "dis.dis(generator_to_list)"
   ]
  },
  {
   "cell_type": "code",
   "execution_count": 31,
   "id": "cd43f586",
   "metadata": {},
   "outputs": [
    {
     "name": "stdout",
     "output_type": "stream",
     "text": [
      "8.28 µs ± 998 ns per loop (mean ± std. dev. of 7 runs, 100,000 loops each)\n"
     ]
    }
   ],
   "source": [
    "%timeit generator_to_list()"
   ]
  }
 ],
 "metadata": {
  "kernelspec": {
   "display_name": "Python 3 (ipykernel)",
   "language": "python",
   "name": "python3"
  },
  "language_info": {
   "codemirror_mode": {
    "name": "ipython",
    "version": 3
   },
   "file_extension": ".py",
   "mimetype": "text/x-python",
   "name": "python",
   "nbconvert_exporter": "python",
   "pygments_lexer": "ipython3",
   "version": "3.10.4"
  }
 },
 "nbformat": 4,
 "nbformat_minor": 5
}
