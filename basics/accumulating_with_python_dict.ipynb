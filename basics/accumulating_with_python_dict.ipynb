{
 "cells": [
  {
   "cell_type": "markdown",
   "id": "6013e1b4",
   "metadata": {},
   "source": [
    "## Using dictionary to count things"
   ]
  },
  {
   "cell_type": "code",
   "execution_count": 1,
   "id": "8ae7b500",
   "metadata": {},
   "outputs": [
    {
     "name": "stdout",
     "output_type": "stream",
     "text": [
      "Enter a word: testing\n"
     ]
    },
    {
     "ename": "KeyError",
     "evalue": "'t'",
     "output_type": "error",
     "traceback": [
      "\u001b[1;31m---------------------------------------------------------------------------\u001b[0m",
      "\u001b[1;31mKeyError\u001b[0m                                  Traceback (most recent call last)",
      "Input \u001b[1;32mIn [1]\u001b[0m, in \u001b[0;36m<cell line: 5>\u001b[1;34m()\u001b[0m\n\u001b[0;32m      4\u001b[0m counts \u001b[38;5;241m=\u001b[39m {}\n\u001b[0;32m      5\u001b[0m \u001b[38;5;28;01mfor\u001b[39;00m letter \u001b[38;5;129;01min\u001b[39;00m word:\n\u001b[1;32m----> 6\u001b[0m     counts[letter] \u001b[38;5;241m+\u001b[39m\u001b[38;5;241m=\u001b[39m \u001b[38;5;241m1\u001b[39m \u001b[38;5;66;03m# counts[letter] = counts[letter] + 1\u001b[39;00m\n\u001b[0;32m      8\u001b[0m \u001b[38;5;28mprint\u001b[39m(counts)\n",
      "\u001b[1;31mKeyError\u001b[0m: 't'"
     ]
    }
   ],
   "source": [
    "word = input(\"Enter a word: \")\n",
    "\n",
    "# approach 01\n",
    "counts = {}\n",
    "for letter in word:\n",
    "    counts[letter] += 1 # counts[letter] = counts[letter] + 1\n",
    "\n",
    "print(counts)"
   ]
  },
  {
   "cell_type": "code",
   "execution_count": 2,
   "id": "8cafcad3",
   "metadata": {},
   "outputs": [
    {
     "name": "stdout",
     "output_type": "stream",
     "text": [
      "{'t': 2, 'e': 1, 's': 1, 'i': 1, 'n': 1, 'g': 1}\n"
     ]
    }
   ],
   "source": [
    "for letter in word:\n",
    "    if letter in counts:\n",
    "        counts[letter] += 1 # seen it before? increment\n",
    "    else:\n",
    "        counts[letter] = 1 # never saw it before? set it to 1\n",
    "\n",
    "print(counts)"
   ]
  },
  {
   "cell_type": "code",
   "execution_count": 3,
   "id": "78932686",
   "metadata": {},
   "outputs": [
    {
     "name": "stdout",
     "output_type": "stream",
     "text": [
      "{'t': 2, 'e': 1, 's': 1, 'i': 1, 'n': 1, 'g': 1}\n"
     ]
    }
   ],
   "source": [
    "# approach 02\n",
    "\n",
    "counts = {}\n",
    "for letter in word:\n",
    "    if letter not in counts:\n",
    "        counts[letter] = 0\n",
    "        \n",
    "    counts[letter] += 1\n",
    "\n",
    "\n",
    "print(counts)"
   ]
  },
  {
   "cell_type": "code",
   "execution_count": 5,
   "id": "a430fc53",
   "metadata": {},
   "outputs": [
    {
     "name": "stdout",
     "output_type": "stream",
     "text": [
      "{'t': 2, 'e': 1, 's': 1, 'i': 1, 'n': 1, 'g': 1}\n"
     ]
    }
   ],
   "source": [
    "# approach 03\n",
    "\n",
    "counts = {}\n",
    "for letter in word:\n",
    "    counts[letter] = counts.get(letter, 0) + 1\n",
    "\n",
    "\n",
    "print(counts)"
   ]
  },
  {
   "cell_type": "code",
   "execution_count": 4,
   "id": "c7df2bd2",
   "metadata": {},
   "outputs": [
    {
     "name": "stdout",
     "output_type": "stream",
     "text": [
      "Enter a word: testing\n",
      "defaultdict(<class 'int'>, {'t': 2, 'e': 1, 's': 1, 'i': 1, 'n': 1, 'g': 1})\n"
     ]
    }
   ],
   "source": [
    "# approach 04 -- using defaultdict\n",
    "\n",
    "from collections import defaultdict\n",
    "\n",
    "word = input(\"Enter a word: \")\n",
    "\n",
    "# counts = defaultdict(0) # this worn't work. Actually need to provide the callable\n",
    "counts = defaultdict(int)\n",
    "\n",
    "for letter in word:\n",
    "    counts[letter] += 1\n",
    "\n",
    "\n",
    "print(counts)"
   ]
  },
  {
   "cell_type": "code",
   "execution_count": 5,
   "id": "fa437df3",
   "metadata": {},
   "outputs": [
    {
     "name": "stdout",
     "output_type": "stream",
     "text": [
      "t: 2\n",
      "e: 1\n",
      "s: 1\n",
      "i: 1\n",
      "n: 1\n",
      "g: 1\n"
     ]
    }
   ],
   "source": [
    "for key, value in counts.items():\n",
    "    print(f\"{key}: {value}\")"
   ]
  },
  {
   "cell_type": "code",
   "execution_count": 14,
   "id": "09c9f03d",
   "metadata": {},
   "outputs": [
    {
     "name": "stdout",
     "output_type": "stream",
     "text": [
      "Enter a word: testing\n"
     ]
    },
    {
     "data": {
      "text/plain": [
       "Counter({'t': 2, 'e': 1, 's': 1, 'i': 1, 'n': 1, 'g': 1})"
      ]
     },
     "execution_count": 14,
     "metadata": {},
     "output_type": "execute_result"
    }
   ],
   "source": [
    "# approach 05 -- using counter\n",
    "\n",
    "from collections import Counter\n",
    "\n",
    "word = input(\"Enter a word: \")\n",
    "\n",
    "Counter(word)"
   ]
  },
  {
   "cell_type": "code",
   "execution_count": 15,
   "id": "f8b653cf",
   "metadata": {},
   "outputs": [
    {
     "data": {
      "text/plain": [
       "[('t', 2), ('e', 1), ('s', 1), ('i', 1), ('n', 1), ('g', 1)]"
      ]
     },
     "execution_count": 15,
     "metadata": {},
     "output_type": "execute_result"
    }
   ],
   "source": [
    "c = Counter(word)\n",
    "c.most_common()"
   ]
  }
 ],
 "metadata": {
  "kernelspec": {
   "display_name": "Python 3 (ipykernel)",
   "language": "python",
   "name": "python3"
  },
  "language_info": {
   "codemirror_mode": {
    "name": "ipython",
    "version": 3
   },
   "file_extension": ".py",
   "mimetype": "text/x-python",
   "name": "python",
   "nbconvert_exporter": "python",
   "pygments_lexer": "ipython3",
   "version": "3.10.4"
  }
 },
 "nbformat": 4,
 "nbformat_minor": 5
}
