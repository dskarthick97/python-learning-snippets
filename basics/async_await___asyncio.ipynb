{
 "cells": [
  {
   "cell_type": "markdown",
   "id": "f09f38e0",
   "metadata": {},
   "source": [
    "## Synchronous code?\n",
    "\n",
    "- Runs function one after another"
   ]
  },
  {
   "cell_type": "markdown",
   "id": "69dc2933",
   "metadata": {},
   "source": [
    "## Asynchronous code?\n",
    "\n",
    "- Runs multiple functions seemingly in parallel\n",
    "\n",
    "    - In a single process\n",
    "\n",
    "    - Without threads\n",
    "\n",
    "- Requires co-operative, well-behaving functions\n",
    "\n",
    "    - Functions that regularly suspended by `awaiting` something\n",
    "\n",
    "- Should not use blocking functions inside async functions!\n",
    "\n",
    "    - No `time.sleep()`\n",
    "\n",
    "    - No `socket.*`\n",
    "\n",
    "    - Etc.\n",
    "\n",
    "    - `asyncio` provides non-blocking alternatives for many of these functions"
   ]
  },
  {
   "cell_type": "markdown",
   "id": "4917497a",
   "metadata": {},
   "source": [
    "## Note on python versions\n",
    "\n",
    "- `async` and `await` keywords were introduced in Python3.5.\n",
    "\n",
    "- They are syntactic sugar over the `asyncio` module that was introduced in Python3.4.\n",
    "\n",
    "- Python3.3 and earlier version don't support.\n",
    "\n",
    "- But the generator coroutines can do some of these things."
   ]
  },
  {
   "cell_type": "code",
   "execution_count": 1,
   "id": "21bfeee2",
   "metadata": {},
   "outputs": [],
   "source": [
    "import time\n",
    "\n",
    "def highest_prime_below(number):\n",
    "    print(f\"Highest Prime below {number}\")\n",
    "    \n",
    "    for num in range(number - 1, 0 , -1):\n",
    "        if is_prime(num):\n",
    "            print(f\"Highest prime below {number} is {num}\")\n",
    "            return num\n",
    "        \n",
    "        time.sleep(0.01)\n",
    "        \n",
    "    return None"
   ]
  },
  {
   "cell_type": "code",
   "execution_count": null,
   "id": "76c6a232",
   "metadata": {},
   "outputs": [],
   "source": [
    "def main():\n",
    "    \n",
    "    highest_prime_below(100000)\n",
    "    highest_prime_below(10000)\n",
    "    highest_prime_below(1000)"
   ]
  },
  {
   "cell_type": "code",
   "execution_count": null,
   "id": "d55baf02",
   "metadata": {},
   "outputs": [],
   "source": []
  },
  {
   "cell_type": "code",
   "execution_count": null,
   "id": "ebe78596",
   "metadata": {},
   "outputs": [],
   "source": []
  },
  {
   "cell_type": "code",
   "execution_count": null,
   "id": "00a9dd88",
   "metadata": {},
   "outputs": [],
   "source": []
  },
  {
   "cell_type": "code",
   "execution_count": null,
   "id": "c5acbf5f",
   "metadata": {},
   "outputs": [],
   "source": []
  },
  {
   "cell_type": "code",
   "execution_count": null,
   "id": "26a8b821",
   "metadata": {},
   "outputs": [],
   "source": []
  },
  {
   "cell_type": "code",
   "execution_count": null,
   "id": "06249882",
   "metadata": {},
   "outputs": [],
   "source": []
  },
  {
   "cell_type": "code",
   "execution_count": null,
   "id": "95a57c1d",
   "metadata": {},
   "outputs": [],
   "source": []
  },
  {
   "cell_type": "code",
   "execution_count": null,
   "id": "7b063d8a",
   "metadata": {},
   "outputs": [],
   "source": []
  },
  {
   "cell_type": "code",
   "execution_count": null,
   "id": "db26fd0e",
   "metadata": {},
   "outputs": [],
   "source": []
  },
  {
   "cell_type": "code",
   "execution_count": null,
   "id": "a001d950",
   "metadata": {},
   "outputs": [],
   "source": []
  }
 ],
 "metadata": {
  "kernelspec": {
   "display_name": "Python 3 (ipykernel)",
   "language": "python",
   "name": "python3"
  },
  "language_info": {
   "codemirror_mode": {
    "name": "ipython",
    "version": 3
   },
   "file_extension": ".py",
   "mimetype": "text/x-python",
   "name": "python",
   "nbconvert_exporter": "python",
   "pygments_lexer": "ipython3",
   "version": "3.10.4"
  }
 },
 "nbformat": 4,
 "nbformat_minor": 5
}
