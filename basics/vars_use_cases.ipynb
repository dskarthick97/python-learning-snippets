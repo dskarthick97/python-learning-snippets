{
 "cells": [
  {
   "cell_type": "markdown",
   "id": "0cac69ad",
   "metadata": {},
   "source": [
    "# vars"
   ]
  },
  {
   "cell_type": "code",
   "execution_count": 1,
   "id": "a78b64ba",
   "metadata": {},
   "outputs": [],
   "source": [
    "# (1) getting easy access to object's attributes as a dict\n",
    "\n",
    "class Person:\n",
    "    def __init__(self, first, last):\n",
    "        self.first = first\n",
    "        self.last = last"
   ]
  },
  {
   "cell_type": "code",
   "execution_count": 2,
   "id": "dfc259a7",
   "metadata": {},
   "outputs": [],
   "source": [
    "person = Person(\"Karthick\", \"Sabari\")"
   ]
  },
  {
   "cell_type": "code",
   "execution_count": 4,
   "id": "e11f21b0",
   "metadata": {},
   "outputs": [
    {
     "data": {
      "text/plain": [
       "'Karthick'"
      ]
     },
     "execution_count": 4,
     "metadata": {},
     "output_type": "execute_result"
    }
   ],
   "source": [
    "person.first"
   ]
  },
  {
   "cell_type": "code",
   "execution_count": 5,
   "id": "ddb7191c",
   "metadata": {},
   "outputs": [
    {
     "data": {
      "text/plain": [
       "'Sabari'"
      ]
     },
     "execution_count": 5,
     "metadata": {},
     "output_type": "execute_result"
    }
   ],
   "source": [
    "person.last"
   ]
  },
  {
   "cell_type": "code",
   "execution_count": 6,
   "id": "e260e8d8",
   "metadata": {},
   "outputs": [
    {
     "data": {
      "text/plain": [
       "{'first': 'Karthick', 'last': 'Sabari'}"
      ]
     },
     "execution_count": 6,
     "metadata": {},
     "output_type": "execute_result"
    }
   ],
   "source": [
    "# what are the attributes that I've defined on person?\n",
    "\n",
    "vars(person)"
   ]
  },
  {
   "cell_type": "code",
   "execution_count": 7,
   "id": "080fdbcf",
   "metadata": {},
   "outputs": [
    {
     "data": {
      "text/plain": [
       "{'first': 'Karthick', 'last': 'Sabari'}"
      ]
     },
     "execution_count": 7,
     "metadata": {},
     "output_type": "execute_result"
    }
   ],
   "source": [
    "# another way to see the attributes on person\n",
    "# works only with the objects that has __dict__\n",
    "\n",
    "person.__dict__"
   ]
  },
  {
   "cell_type": "code",
   "execution_count": 8,
   "id": "bb32ca71",
   "metadata": {},
   "outputs": [
    {
     "data": {
      "text/plain": [
       "['__class__',\n",
       " '__delattr__',\n",
       " '__dict__',\n",
       " '__dir__',\n",
       " '__doc__',\n",
       " '__eq__',\n",
       " '__format__',\n",
       " '__ge__',\n",
       " '__getattribute__',\n",
       " '__gt__',\n",
       " '__hash__',\n",
       " '__init__',\n",
       " '__init_subclass__',\n",
       " '__le__',\n",
       " '__lt__',\n",
       " '__module__',\n",
       " '__ne__',\n",
       " '__new__',\n",
       " '__reduce__',\n",
       " '__reduce_ex__',\n",
       " '__repr__',\n",
       " '__setattr__',\n",
       " '__sizeof__',\n",
       " '__str__',\n",
       " '__subclasshook__',\n",
       " '__weakref__',\n",
       " 'first',\n",
       " 'last']"
      ]
     },
     "execution_count": 8,
     "metadata": {},
     "output_type": "execute_result"
    }
   ],
   "source": [
    "dir(person)"
   ]
  },
  {
   "cell_type": "code",
   "execution_count": 11,
   "id": "c08f82b7",
   "metadata": {},
   "outputs": [],
   "source": [
    "class Person:\n",
    "    def __init__(self, first, last):\n",
    "        self.first = first\n",
    "        self.last = last\n",
    "        \n",
    "    def __repr__(self):\n",
    "        return f\"Person, {vars(self)=}\""
   ]
  },
  {
   "cell_type": "code",
   "execution_count": 12,
   "id": "e02647c8",
   "metadata": {},
   "outputs": [],
   "source": [
    "person = Person(\"Bruce\", \"Wayne\")"
   ]
  },
  {
   "cell_type": "code",
   "execution_count": 13,
   "id": "ae575363",
   "metadata": {},
   "outputs": [
    {
     "name": "stdout",
     "output_type": "stream",
     "text": [
      "Person, vars(self)={'first': 'Bruce', 'last': 'Wayne'}\n"
     ]
    }
   ],
   "source": [
    "print(person)"
   ]
  },
  {
   "cell_type": "code",
   "execution_count": 14,
   "id": "9eaedadd",
   "metadata": {},
   "outputs": [
    {
     "data": {
      "text/plain": [
       "{'__name__': '__main__',\n",
       " '__doc__': 'Automatically created module for IPython interactive environment',\n",
       " '__package__': None,\n",
       " '__loader__': None,\n",
       " '__spec__': None,\n",
       " '__builtin__': <module 'builtins' (built-in)>,\n",
       " '__builtins__': <module 'builtins' (built-in)>,\n",
       " '_ih': ['',\n",
       "  \"# (1) getting easy access to object's attributes\\n\\nclass Person:\\n    def __init__(self, first, last):\\n        self.first = first\\n        self.last = last\",\n",
       "  'person = Person(\"Karthick\", \"Sabari\")',\n",
       "  'p.first',\n",
       "  'person.first',\n",
       "  'person.last',\n",
       "  \"# what are the attributes that I've defined on person?\\n\\nvars(person)\",\n",
       "  '# another way to see the attributes on person\\n\\nperson.__dict__',\n",
       "  'dir(person)',\n",
       "  'class Person:\\n    def __init__(self, first, last):\\n        self.first = first\\n        self.last = last\\n        \\n    def __repr__(self):\\n        return f\"Person, {vars=}\"',\n",
       "  'person = Person(\"Bruce\", \"Wayne\")',\n",
       "  'class Person:\\n    def __init__(self, first, last):\\n        self.first = first\\n        self.last = last\\n        \\n    def __repr__(self):\\n        return f\"Person, {vars(self)=}\"',\n",
       "  'person = Person(\"Bruce\", \"Wayne\")',\n",
       "  'print(person)',\n",
       "  '# (2) call vars() by itself, without an argument, I get the \\n# dict of all global variables\\n\\nvars()'],\n",
       " '_oh': {4: 'Karthick',\n",
       "  5: 'Sabari',\n",
       "  6: {'first': 'Karthick', 'last': 'Sabari'},\n",
       "  7: {'first': 'Karthick', 'last': 'Sabari'},\n",
       "  8: ['__class__',\n",
       "   '__delattr__',\n",
       "   '__dict__',\n",
       "   '__dir__',\n",
       "   '__doc__',\n",
       "   '__eq__',\n",
       "   '__format__',\n",
       "   '__ge__',\n",
       "   '__getattribute__',\n",
       "   '__gt__',\n",
       "   '__hash__',\n",
       "   '__init__',\n",
       "   '__init_subclass__',\n",
       "   '__le__',\n",
       "   '__lt__',\n",
       "   '__module__',\n",
       "   '__ne__',\n",
       "   '__new__',\n",
       "   '__reduce__',\n",
       "   '__reduce_ex__',\n",
       "   '__repr__',\n",
       "   '__setattr__',\n",
       "   '__sizeof__',\n",
       "   '__str__',\n",
       "   '__subclasshook__',\n",
       "   '__weakref__',\n",
       "   'first',\n",
       "   'last']},\n",
       " '_dh': [WindowsPath('D:/dev/selfLearning/python/basics')],\n",
       " 'In': ['',\n",
       "  \"# (1) getting easy access to object's attributes\\n\\nclass Person:\\n    def __init__(self, first, last):\\n        self.first = first\\n        self.last = last\",\n",
       "  'person = Person(\"Karthick\", \"Sabari\")',\n",
       "  'p.first',\n",
       "  'person.first',\n",
       "  'person.last',\n",
       "  \"# what are the attributes that I've defined on person?\\n\\nvars(person)\",\n",
       "  '# another way to see the attributes on person\\n\\nperson.__dict__',\n",
       "  'dir(person)',\n",
       "  'class Person:\\n    def __init__(self, first, last):\\n        self.first = first\\n        self.last = last\\n        \\n    def __repr__(self):\\n        return f\"Person, {vars=}\"',\n",
       "  'person = Person(\"Bruce\", \"Wayne\")',\n",
       "  'class Person:\\n    def __init__(self, first, last):\\n        self.first = first\\n        self.last = last\\n        \\n    def __repr__(self):\\n        return f\"Person, {vars(self)=}\"',\n",
       "  'person = Person(\"Bruce\", \"Wayne\")',\n",
       "  'print(person)',\n",
       "  '# (2) call vars() by itself, without an argument, I get the \\n# dict of all global variables\\n\\nvars()'],\n",
       " 'Out': {4: 'Karthick',\n",
       "  5: 'Sabari',\n",
       "  6: {'first': 'Karthick', 'last': 'Sabari'},\n",
       "  7: {'first': 'Karthick', 'last': 'Sabari'},\n",
       "  8: ['__class__',\n",
       "   '__delattr__',\n",
       "   '__dict__',\n",
       "   '__dir__',\n",
       "   '__doc__',\n",
       "   '__eq__',\n",
       "   '__format__',\n",
       "   '__ge__',\n",
       "   '__getattribute__',\n",
       "   '__gt__',\n",
       "   '__hash__',\n",
       "   '__init__',\n",
       "   '__init_subclass__',\n",
       "   '__le__',\n",
       "   '__lt__',\n",
       "   '__module__',\n",
       "   '__ne__',\n",
       "   '__new__',\n",
       "   '__reduce__',\n",
       "   '__reduce_ex__',\n",
       "   '__repr__',\n",
       "   '__setattr__',\n",
       "   '__sizeof__',\n",
       "   '__str__',\n",
       "   '__subclasshook__',\n",
       "   '__weakref__',\n",
       "   'first',\n",
       "   'last']},\n",
       " 'get_ipython': <bound method InteractiveShell.get_ipython of <ipykernel.zmqshell.ZMQInteractiveShell object at 0x000001EA3123C370>>,\n",
       " 'exit': <IPython.core.autocall.ZMQExitAutocall at 0x1ea3123c910>,\n",
       " 'quit': <IPython.core.autocall.ZMQExitAutocall at 0x1ea3123c910>,\n",
       " '_': ['__class__',\n",
       "  '__delattr__',\n",
       "  '__dict__',\n",
       "  '__dir__',\n",
       "  '__doc__',\n",
       "  '__eq__',\n",
       "  '__format__',\n",
       "  '__ge__',\n",
       "  '__getattribute__',\n",
       "  '__gt__',\n",
       "  '__hash__',\n",
       "  '__init__',\n",
       "  '__init_subclass__',\n",
       "  '__le__',\n",
       "  '__lt__',\n",
       "  '__module__',\n",
       "  '__ne__',\n",
       "  '__new__',\n",
       "  '__reduce__',\n",
       "  '__reduce_ex__',\n",
       "  '__repr__',\n",
       "  '__setattr__',\n",
       "  '__sizeof__',\n",
       "  '__str__',\n",
       "  '__subclasshook__',\n",
       "  '__weakref__',\n",
       "  'first',\n",
       "  'last'],\n",
       " '__': {'first': 'Karthick', 'last': 'Sabari'},\n",
       " '___': {'first': 'Karthick', 'last': 'Sabari'},\n",
       " '_i': 'print(person)',\n",
       " '_ii': 'person = Person(\"Bruce\", \"Wayne\")',\n",
       " '_iii': 'class Person:\\n    def __init__(self, first, last):\\n        self.first = first\\n        self.last = last\\n        \\n    def __repr__(self):\\n        return f\"Person, {vars(self)=}\"',\n",
       " '_i1': \"# (1) getting easy access to object's attributes\\n\\nclass Person:\\n    def __init__(self, first, last):\\n        self.first = first\\n        self.last = last\",\n",
       " 'Person': __main__.Person,\n",
       " '_i2': 'person = Person(\"Karthick\", \"Sabari\")',\n",
       " 'person': Person, vars(self)={'first': 'Bruce', 'last': 'Wayne'},\n",
       " '_i3': 'p.first',\n",
       " '_i4': 'person.first',\n",
       " '_4': 'Karthick',\n",
       " '_i5': 'person.last',\n",
       " '_5': 'Sabari',\n",
       " '_i6': \"# what are the attributes that I've defined on person?\\n\\nvars(person)\",\n",
       " '_6': {'first': 'Karthick', 'last': 'Sabari'},\n",
       " '_i7': '# another way to see the attributes on person\\n\\nperson.__dict__',\n",
       " '_7': {'first': 'Karthick', 'last': 'Sabari'},\n",
       " '_i8': 'dir(person)',\n",
       " '_8': ['__class__',\n",
       "  '__delattr__',\n",
       "  '__dict__',\n",
       "  '__dir__',\n",
       "  '__doc__',\n",
       "  '__eq__',\n",
       "  '__format__',\n",
       "  '__ge__',\n",
       "  '__getattribute__',\n",
       "  '__gt__',\n",
       "  '__hash__',\n",
       "  '__init__',\n",
       "  '__init_subclass__',\n",
       "  '__le__',\n",
       "  '__lt__',\n",
       "  '__module__',\n",
       "  '__ne__',\n",
       "  '__new__',\n",
       "  '__reduce__',\n",
       "  '__reduce_ex__',\n",
       "  '__repr__',\n",
       "  '__setattr__',\n",
       "  '__sizeof__',\n",
       "  '__str__',\n",
       "  '__subclasshook__',\n",
       "  '__weakref__',\n",
       "  'first',\n",
       "  'last'],\n",
       " '_i9': 'class Person:\\n    def __init__(self, first, last):\\n        self.first = first\\n        self.last = last\\n        \\n    def __repr__(self):\\n        return f\"Person, {vars=}\"',\n",
       " '_i10': 'person = Person(\"Bruce\", \"Wayne\")',\n",
       " '_i11': 'class Person:\\n    def __init__(self, first, last):\\n        self.first = first\\n        self.last = last\\n        \\n    def __repr__(self):\\n        return f\"Person, {vars(self)=}\"',\n",
       " '_i12': 'person = Person(\"Bruce\", \"Wayne\")',\n",
       " '_i13': 'print(person)',\n",
       " '_i14': '# (2) call vars() by itself, without an argument, I get the \\n# dict of all global variables\\n\\nvars()'}"
      ]
     },
     "execution_count": 14,
     "metadata": {},
     "output_type": "execute_result"
    }
   ],
   "source": [
    "# (2) call vars() by itself, without an argument, I get the \n",
    "# dict of all global variables\n",
    "\n",
    "vars()"
   ]
  },
  {
   "cell_type": "code",
   "execution_count": 15,
   "id": "551db873",
   "metadata": {},
   "outputs": [],
   "source": [
    "x = 100\n",
    "y = 200"
   ]
  },
  {
   "cell_type": "code",
   "execution_count": 16,
   "id": "a40b1d01",
   "metadata": {},
   "outputs": [
    {
     "data": {
      "text/plain": [
       "100"
      ]
     },
     "execution_count": 16,
     "metadata": {},
     "output_type": "execute_result"
    }
   ],
   "source": [
    "# don't do this in actual code\n",
    "\n",
    "vars()[\"x\"]"
   ]
  },
  {
   "cell_type": "code",
   "execution_count": 17,
   "id": "1f8e138e",
   "metadata": {},
   "outputs": [
    {
     "data": {
      "text/plain": [
       "200"
      ]
     },
     "execution_count": 17,
     "metadata": {},
     "output_type": "execute_result"
    }
   ],
   "source": [
    "vars()[\"y\"]"
   ]
  },
  {
   "cell_type": "code",
   "execution_count": 18,
   "id": "cac552a2",
   "metadata": {},
   "outputs": [
    {
     "data": {
      "text/plain": [
       "True"
      ]
     },
     "execution_count": 18,
     "metadata": {},
     "output_type": "execute_result"
    }
   ],
   "source": [
    "\"x\" in vars()"
   ]
  },
  {
   "cell_type": "code",
   "execution_count": 21,
   "id": "f1c1f6e6",
   "metadata": {},
   "outputs": [],
   "source": [
    "# (3) \n",
    "\n",
    "def func(a):\n",
    "    b = 100\n",
    "    c = [10, 20, 30]\n",
    "    print(vars())  # vars inside of a function returns a dict of local variables -- just like locals()"
   ]
  },
  {
   "cell_type": "code",
   "execution_count": 22,
   "id": "b2905f96",
   "metadata": {},
   "outputs": [
    {
     "name": "stdout",
     "output_type": "stream",
     "text": [
      "{'a': 'hello', 'b': 100, 'c': [10, 20, 30]}\n"
     ]
    }
   ],
   "source": [
    "func(\"hello\")"
   ]
  }
 ],
 "metadata": {
  "kernelspec": {
   "display_name": "Python 3 (ipykernel)",
   "language": "python",
   "name": "python3"
  },
  "language_info": {
   "codemirror_mode": {
    "name": "ipython",
    "version": 3
   },
   "file_extension": ".py",
   "mimetype": "text/x-python",
   "name": "python",
   "nbconvert_exporter": "python",
   "pygments_lexer": "ipython3",
   "version": "3.10.4"
  }
 },
 "nbformat": 4,
 "nbformat_minor": 5
}
