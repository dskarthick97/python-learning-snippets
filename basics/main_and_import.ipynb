{
 "cells": [
  {
   "cell_type": "markdown",
   "id": "5c37fcfd",
   "metadata": {},
   "source": [
    "## main method\n",
    "\n",
    "Whenever python tries to run a file, it sets some variables before it actually executes."
   ]
  },
  {
   "cell_type": "code",
   "execution_count": 1,
   "id": "2c869b03",
   "metadata": {},
   "outputs": [
    {
     "data": {
      "text/plain": [
       "'__main__'"
      ]
     },
     "execution_count": 1,
     "metadata": {},
     "output_type": "execute_result"
    }
   ],
   "source": [
    "__name__"
   ]
  },
  {
   "cell_type": "code",
   "execution_count": 3,
   "id": "cc3b398b",
   "metadata": {},
   "outputs": [
    {
     "name": "stdout",
     "output_type": "stream",
     "text": [
      "Name of the module: __main__\n"
     ]
    }
   ],
   "source": [
    "def main():\n",
    "    print(f\"Name of the module: {__name__}\")\n",
    "\n",
    "\n",
    "if __name__ == \"__main__\":\n",
    "    main()\n"
   ]
  },
  {
   "cell_type": "markdown",
   "id": "9adad34e",
   "metadata": {},
   "source": [
    "This behavior changes slightly when this file gets imported to another module\n",
    "\n",
    "## import system\n",
    "\n",
    "Whenever we import a file into another, two things will happen\n",
    "- `sys.path` will look for the imported file in a list of directories. The directory list can be extended by using `sys.path.append` method and `PYTHONPATH` environment variable.\n",
    "\n",
    "- Once the file is found, it executes all the code of the imported file. That's how it creates all functions and variables. If there is any code globally, for example a print statement, then it will be executed."
   ]
  },
  {
   "cell_type": "code",
   "execution_count": 8,
   "id": "ec06e89b",
   "metadata": {
    "collapsed": true
   },
   "outputs": [
    {
     "data": {
      "text/plain": [
       "['D:\\\\dev\\\\selfLearning\\\\python\\\\basics',\n",
       " 'C:\\\\Users\\\\karthick.dhilip\\\\AppData\\\\Local\\\\Programs\\\\Python\\\\Python310\\\\python310.zip',\n",
       " 'C:\\\\Users\\\\karthick.dhilip\\\\AppData\\\\Local\\\\Programs\\\\Python\\\\Python310\\\\DLLs',\n",
       " 'C:\\\\Users\\\\karthick.dhilip\\\\AppData\\\\Local\\\\Programs\\\\Python\\\\Python310\\\\lib',\n",
       " 'C:\\\\Users\\\\karthick.dhilip\\\\AppData\\\\Local\\\\Programs\\\\Python\\\\Python310',\n",
       " 'D:\\\\dev\\\\selfLearning\\\\python\\\\venv',\n",
       " '',\n",
       " 'D:\\\\dev\\\\selfLearning\\\\python\\\\venv\\\\lib\\\\site-packages',\n",
       " 'D:\\\\dev\\\\selfLearning\\\\python\\\\venv\\\\lib\\\\site-packages\\\\win32',\n",
       " 'D:\\\\dev\\\\selfLearning\\\\python\\\\venv\\\\lib\\\\site-packages\\\\win32\\\\lib',\n",
       " 'D:\\\\dev\\\\selfLearning\\\\python\\\\venv\\\\lib\\\\site-packages\\\\Pythonwin']"
      ]
     },
     "execution_count": 8,
     "metadata": {},
     "output_type": "execute_result"
    }
   ],
   "source": [
    "import sys\n",
    "\n",
    "# this is the list of directories where python will look for the imported modules\n",
    "sys.path"
   ]
  }
 ],
 "metadata": {
  "kernelspec": {
   "display_name": "Python 3 (ipykernel)",
   "language": "python",
   "name": "python3"
  },
  "language_info": {
   "codemirror_mode": {
    "name": "ipython",
    "version": 3
   },
   "file_extension": ".py",
   "mimetype": "text/x-python",
   "name": "python",
   "nbconvert_exporter": "python",
   "pygments_lexer": "ipython3",
   "version": "3.10.4"
  }
 },
 "nbformat": 4,
 "nbformat_minor": 5
}
