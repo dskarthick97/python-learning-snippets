{
 "cells": [
  {
   "cell_type": "markdown",
   "id": "53cd2146",
   "metadata": {},
   "source": [
    "# Sorting\n",
    "\n",
    "- `sorted` method won't mutate the original iterable. It returs a new sorted iterable. `sorted` works on any iterable\n",
    "- list.`sort` method mutates the original list. `sort` works only in list"
   ]
  },
  {
   "cell_type": "markdown",
   "id": "1e064615",
   "metadata": {},
   "source": [
    "## ascending order"
   ]
  },
  {
   "cell_type": "code",
   "execution_count": 1,
   "id": "b0d25685",
   "metadata": {},
   "outputs": [],
   "source": [
    "nums = [9, 1, 8, 2, 7, 3, 6, 4, 5]"
   ]
  },
  {
   "cell_type": "code",
   "execution_count": 2,
   "id": "84b262da",
   "metadata": {},
   "outputs": [
    {
     "data": {
      "text/plain": [
       "[1, 2, 3, 4, 5, 6, 7, 8, 9]"
      ]
     },
     "execution_count": 2,
     "metadata": {},
     "output_type": "execute_result"
    }
   ],
   "source": [
    "sorted(nums)"
   ]
  },
  {
   "cell_type": "code",
   "execution_count": 3,
   "id": "b12d8916",
   "metadata": {},
   "outputs": [
    {
     "data": {
      "text/plain": [
       "[9, 1, 8, 2, 7, 3, 6, 4, 5]"
      ]
     },
     "execution_count": 3,
     "metadata": {},
     "output_type": "execute_result"
    }
   ],
   "source": [
    "nums"
   ]
  },
  {
   "cell_type": "code",
   "execution_count": 4,
   "id": "82daf2f1",
   "metadata": {},
   "outputs": [],
   "source": [
    "nums.sort()"
   ]
  },
  {
   "cell_type": "code",
   "execution_count": 5,
   "id": "5aacf3cc",
   "metadata": {},
   "outputs": [
    {
     "data": {
      "text/plain": [
       "[1, 2, 3, 4, 5, 6, 7, 8, 9]"
      ]
     },
     "execution_count": 5,
     "metadata": {},
     "output_type": "execute_result"
    }
   ],
   "source": [
    "nums"
   ]
  },
  {
   "cell_type": "markdown",
   "id": "3d640647",
   "metadata": {},
   "source": [
    "## descending order"
   ]
  },
  {
   "cell_type": "code",
   "execution_count": 6,
   "id": "18964ca9",
   "metadata": {},
   "outputs": [],
   "source": [
    "nums = [9, 1, 8, 2, 7, 3, 6, 4, 5]"
   ]
  },
  {
   "cell_type": "code",
   "execution_count": 8,
   "id": "8e7a2b7a",
   "metadata": {},
   "outputs": [
    {
     "data": {
      "text/plain": [
       "[9, 8, 7, 6, 5, 4, 3, 2, 1]"
      ]
     },
     "execution_count": 8,
     "metadata": {},
     "output_type": "execute_result"
    }
   ],
   "source": [
    "sorted(nums, reverse=True)"
   ]
  },
  {
   "cell_type": "code",
   "execution_count": 9,
   "id": "0a3dbf02",
   "metadata": {},
   "outputs": [
    {
     "data": {
      "text/plain": [
       "[9, 1, 8, 2, 7, 3, 6, 4, 5]"
      ]
     },
     "execution_count": 9,
     "metadata": {},
     "output_type": "execute_result"
    }
   ],
   "source": [
    "nums"
   ]
  },
  {
   "cell_type": "code",
   "execution_count": 10,
   "id": "5025a436",
   "metadata": {},
   "outputs": [],
   "source": [
    "nums.sort(reverse=True)"
   ]
  },
  {
   "cell_type": "code",
   "execution_count": 11,
   "id": "5b238ca1",
   "metadata": {},
   "outputs": [
    {
     "data": {
      "text/plain": [
       "[9, 8, 7, 6, 5, 4, 3, 2, 1]"
      ]
     },
     "execution_count": 11,
     "metadata": {},
     "output_type": "execute_result"
    }
   ],
   "source": [
    "nums"
   ]
  },
  {
   "cell_type": "markdown",
   "id": "f889bd9a",
   "metadata": {},
   "source": [
    "### sorting tuple"
   ]
  },
  {
   "cell_type": "code",
   "execution_count": 14,
   "id": "8c590108",
   "metadata": {},
   "outputs": [],
   "source": [
    "nums = (9, 1, 8, 2, 7, 3, 6, 4, 5)"
   ]
  },
  {
   "cell_type": "code",
   "execution_count": 15,
   "id": "2605986c",
   "metadata": {},
   "outputs": [
    {
     "data": {
      "text/plain": [
       "[1, 2, 3, 4, 5, 6, 7, 8, 9]"
      ]
     },
     "execution_count": 15,
     "metadata": {},
     "output_type": "execute_result"
    }
   ],
   "source": [
    "sorted(nums)"
   ]
  },
  {
   "cell_type": "markdown",
   "id": "7d75313e",
   "metadata": {},
   "source": [
    "### sorting dictionary"
   ]
  },
  {
   "cell_type": "code",
   "execution_count": 17,
   "id": "2f056ad7",
   "metadata": {},
   "outputs": [],
   "source": [
    "batman = {\"name\": \"Bruce Wayne\", \"job\": \"vigilante\", \"age\": 31}"
   ]
  },
  {
   "cell_type": "code",
   "execution_count": 18,
   "id": "e32d4141",
   "metadata": {},
   "outputs": [
    {
     "data": {
      "text/plain": [
       "['age', 'job', 'name']"
      ]
     },
     "execution_count": 18,
     "metadata": {},
     "output_type": "execute_result"
    }
   ],
   "source": [
    "sorted(batman)"
   ]
  },
  {
   "cell_type": "code",
   "execution_count": 20,
   "id": "c11aaec4",
   "metadata": {},
   "outputs": [
    {
     "data": {
      "text/plain": [
       "['name', 'job', 'age']"
      ]
     },
     "execution_count": 20,
     "metadata": {},
     "output_type": "execute_result"
    }
   ],
   "source": [
    "sorted(batman, reverse=True)"
   ]
  },
  {
   "cell_type": "markdown",
   "id": "9471f31d",
   "metadata": {},
   "source": [
    "# sorting based on a different criteria\n",
    "\n",
    "use `key` parameter in `sorted` method"
   ]
  },
  {
   "cell_type": "code",
   "execution_count": 21,
   "id": "381375eb",
   "metadata": {},
   "outputs": [],
   "source": [
    "nums = [-6, -5, -4, 1, 2, 3]"
   ]
  },
  {
   "cell_type": "code",
   "execution_count": 22,
   "id": "8ebea7f5",
   "metadata": {},
   "outputs": [
    {
     "data": {
      "text/plain": [
       "[-6, -5, -4, 1, 2, 3]"
      ]
     },
     "execution_count": 22,
     "metadata": {},
     "output_type": "execute_result"
    }
   ],
   "source": [
    "sorted(nums)"
   ]
  },
  {
   "cell_type": "code",
   "execution_count": 23,
   "id": "b8f68eb7",
   "metadata": {},
   "outputs": [
    {
     "data": {
      "text/plain": [
       "[1, 2, 3, -4, -5, -6]"
      ]
     },
     "execution_count": 23,
     "metadata": {},
     "output_type": "execute_result"
    }
   ],
   "source": [
    "sorted(nums, key=abs)"
   ]
  },
  {
   "cell_type": "markdown",
   "id": "5b3dd54c",
   "metadata": {},
   "source": [
    "## sorting strings vs. integers"
   ]
  },
  {
   "cell_type": "code",
   "execution_count": 1,
   "id": "8cb9534a",
   "metadata": {},
   "outputs": [],
   "source": [
    "words = \"this is a bunch of brilliant words that I have spoken\".split()"
   ]
  },
  {
   "cell_type": "code",
   "execution_count": 2,
   "id": "f2226da9",
   "metadata": {},
   "outputs": [
    {
     "data": {
      "text/plain": [
       "['this',\n",
       " 'is',\n",
       " 'a',\n",
       " 'bunch',\n",
       " 'of',\n",
       " 'brilliant',\n",
       " 'words',\n",
       " 'that',\n",
       " 'I',\n",
       " 'have',\n",
       " 'spoken']"
      ]
     },
     "execution_count": 2,
     "metadata": {},
     "output_type": "execute_result"
    }
   ],
   "source": [
    "words"
   ]
  },
  {
   "cell_type": "code",
   "execution_count": 3,
   "id": "54332695",
   "metadata": {},
   "outputs": [
    {
     "data": {
      "text/plain": [
       "['I',\n",
       " 'a',\n",
       " 'brilliant',\n",
       " 'bunch',\n",
       " 'have',\n",
       " 'is',\n",
       " 'of',\n",
       " 'spoken',\n",
       " 'that',\n",
       " 'this',\n",
       " 'words']"
      ]
     },
     "execution_count": 3,
     "metadata": {},
     "output_type": "execute_result"
    }
   ],
   "source": [
    "sorted(words)"
   ]
  },
  {
   "cell_type": "code",
   "execution_count": 4,
   "id": "200bb424",
   "metadata": {},
   "outputs": [
    {
     "data": {
      "text/plain": [
       "97"
      ]
     },
     "execution_count": 4,
     "metadata": {},
     "output_type": "execute_result"
    }
   ],
   "source": [
    "ord(\"a\")"
   ]
  },
  {
   "cell_type": "code",
   "execution_count": 5,
   "id": "cf010062",
   "metadata": {},
   "outputs": [
    {
     "data": {
      "text/plain": [
       "98"
      ]
     },
     "execution_count": 5,
     "metadata": {},
     "output_type": "execute_result"
    }
   ],
   "source": [
    "ord(\"b\")"
   ]
  },
  {
   "cell_type": "code",
   "execution_count": 6,
   "id": "175a735e",
   "metadata": {},
   "outputs": [
    {
     "data": {
      "text/plain": [
       "65"
      ]
     },
     "execution_count": 6,
     "metadata": {},
     "output_type": "execute_result"
    }
   ],
   "source": [
    "ord(\"A\")"
   ]
  },
  {
   "cell_type": "code",
   "execution_count": 7,
   "id": "09b46f9d",
   "metadata": {},
   "outputs": [
    {
     "data": {
      "text/plain": [
       "['100', '20', '10', '200', '1', '2']"
      ]
     },
     "execution_count": 7,
     "metadata": {},
     "output_type": "execute_result"
    }
   ],
   "source": [
    "lst = \"100 20 10 200 1 2\".split()\n",
    "\n",
    "lst"
   ]
  },
  {
   "cell_type": "code",
   "execution_count": 8,
   "id": "93f94ec6",
   "metadata": {},
   "outputs": [
    {
     "data": {
      "text/plain": [
       "['1', '10', '100', '2', '20', '200']"
      ]
     },
     "execution_count": 8,
     "metadata": {},
     "output_type": "execute_result"
    }
   ],
   "source": [
    "sorted(lst)"
   ]
  },
  {
   "cell_type": "code",
   "execution_count": 9,
   "id": "35f34acd",
   "metadata": {},
   "outputs": [
    {
     "data": {
      "text/plain": [
       "49"
      ]
     },
     "execution_count": 9,
     "metadata": {},
     "output_type": "execute_result"
    }
   ],
   "source": [
    "ord(\"1\")"
   ]
  },
  {
   "cell_type": "code",
   "execution_count": 10,
   "id": "0028a5ae",
   "metadata": {},
   "outputs": [
    {
     "data": {
      "text/plain": [
       "50"
      ]
     },
     "execution_count": 10,
     "metadata": {},
     "output_type": "execute_result"
    }
   ],
   "source": [
    "ord(\"2\")"
   ]
  },
  {
   "cell_type": "code",
   "execution_count": 12,
   "id": "b6e649ca",
   "metadata": {},
   "outputs": [
    {
     "data": {
      "text/plain": [
       "[1, 2, 10, 20, 100, 200]"
      ]
     },
     "execution_count": 12,
     "metadata": {},
     "output_type": "execute_result"
    }
   ],
   "source": [
    "# one solution: turn them into integers!\n",
    "# list comprehension\n",
    "\n",
    "sorted([int(num) for num in lst])"
   ]
  },
  {
   "cell_type": "code",
   "execution_count": 13,
   "id": "98046021",
   "metadata": {},
   "outputs": [
    {
     "data": {
      "text/plain": [
       "['1', '2', '10', '20', '100', '200']"
      ]
     },
     "execution_count": 13,
     "metadata": {},
     "output_type": "execute_result"
    }
   ],
   "source": [
    "# another solution: pass int as an argument to sorted\n",
    "\n",
    "sorted(lst, key=int)"
   ]
  },
  {
   "cell_type": "code",
   "execution_count": null,
   "id": "80912a37",
   "metadata": {},
   "outputs": [],
   "source": []
  }
 ],
 "metadata": {
  "kernelspec": {
   "display_name": "Python 3 (ipykernel)",
   "language": "python",
   "name": "python3"
  },
  "language_info": {
   "codemirror_mode": {
    "name": "ipython",
    "version": 3
   },
   "file_extension": ".py",
   "mimetype": "text/x-python",
   "name": "python",
   "nbconvert_exporter": "python",
   "pygments_lexer": "ipython3",
   "version": "3.10.4"
  }
 },
 "nbformat": 4,
 "nbformat_minor": 5
}
