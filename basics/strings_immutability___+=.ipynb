{
 "cells": [
  {
   "cell_type": "code",
   "execution_count": 1,
   "id": "c5f9f45f",
   "metadata": {},
   "outputs": [
    {
     "data": {
      "text/plain": [
       "'a'"
      ]
     },
     "execution_count": 1,
     "metadata": {},
     "output_type": "execute_result"
    }
   ],
   "source": [
    "s = \"abcde\"\n",
    "s[0]"
   ]
  },
  {
   "cell_type": "code",
   "execution_count": 2,
   "id": "f6678dd8",
   "metadata": {},
   "outputs": [
    {
     "ename": "TypeError",
     "evalue": "'str' object does not support item assignment",
     "output_type": "error",
     "traceback": [
      "\u001b[1;31m---------------------------------------------------------------------------\u001b[0m",
      "\u001b[1;31mTypeError\u001b[0m                                 Traceback (most recent call last)",
      "Input \u001b[1;32mIn [2]\u001b[0m, in \u001b[0;36m<cell line: 1>\u001b[1;34m()\u001b[0m\n\u001b[1;32m----> 1\u001b[0m s[\u001b[38;5;241m0\u001b[39m] \u001b[38;5;241m=\u001b[39m \u001b[38;5;124m\"\u001b[39m\u001b[38;5;124m!\u001b[39m\u001b[38;5;124m\"\u001b[39m\n",
      "\u001b[1;31mTypeError\u001b[0m: 'str' object does not support item assignment"
     ]
    }
   ],
   "source": [
    "s[0] = \"!\""
   ]
  },
  {
   "cell_type": "code",
   "execution_count": 3,
   "id": "7073ac9a",
   "metadata": {},
   "outputs": [
    {
     "data": {
      "text/plain": [
       "'abcde'"
      ]
     },
     "execution_count": 3,
     "metadata": {},
     "output_type": "execute_result"
    }
   ],
   "source": [
    "s"
   ]
  },
  {
   "cell_type": "code",
   "execution_count": 4,
   "id": "5c2cfb95",
   "metadata": {},
   "outputs": [
    {
     "data": {
      "text/plain": [
       "'ab!de'"
      ]
     },
     "execution_count": 4,
     "metadata": {},
     "output_type": "execute_result"
    }
   ],
   "source": [
    "s.replace(\"c\", \"!\") # new string based on s"
   ]
  },
  {
   "cell_type": "code",
   "execution_count": 5,
   "id": "bc67014d",
   "metadata": {},
   "outputs": [
    {
     "data": {
      "text/plain": [
       "'abcde'"
      ]
     },
     "execution_count": 5,
     "metadata": {},
     "output_type": "execute_result"
    }
   ],
   "source": [
    "s"
   ]
  },
  {
   "cell_type": "code",
   "execution_count": 6,
   "id": "de9827e7",
   "metadata": {},
   "outputs": [],
   "source": [
    "# if we want to change s, we need to assign the new string back to s\n",
    "s = s.replace(\"c\", \"!\")"
   ]
  },
  {
   "cell_type": "code",
   "execution_count": 7,
   "id": "e70ef3cf",
   "metadata": {},
   "outputs": [
    {
     "data": {
      "text/plain": [
       "'ab!de'"
      ]
     },
     "execution_count": 7,
     "metadata": {},
     "output_type": "execute_result"
    }
   ],
   "source": [
    "s"
   ]
  },
  {
   "cell_type": "markdown",
   "id": "74a44149",
   "metadata": {},
   "source": [
    "**NOTE :** `immutable is not equal to constant`"
   ]
  },
  {
   "cell_type": "code",
   "execution_count": 8,
   "id": "23529b5c",
   "metadata": {},
   "outputs": [
    {
     "data": {
      "text/plain": [
       "'abcdefghij'"
      ]
     },
     "execution_count": 8,
     "metadata": {},
     "output_type": "execute_result"
    }
   ],
   "source": [
    "s = \"abcde\"\n",
    "s += \"fghij\"\n",
    "s"
   ]
  },
  {
   "cell_type": "code",
   "execution_count": 9,
   "id": "07a48509",
   "metadata": {},
   "outputs": [
    {
     "data": {
      "text/plain": [
       "1901933110448"
      ]
     },
     "execution_count": 9,
     "metadata": {},
     "output_type": "execute_result"
    }
   ],
   "source": [
    "s = \"abcde\"\n",
    "id(s) # what is the unique object ID of the item (string) that s refers to?"
   ]
  },
  {
   "cell_type": "code",
   "execution_count": 10,
   "id": "ed021f5c",
   "metadata": {},
   "outputs": [
    {
     "data": {
      "text/plain": [
       "1901961228592"
      ]
     },
     "execution_count": 10,
     "metadata": {},
     "output_type": "execute_result"
    }
   ],
   "source": [
    "s += \"fghij\" # creating a new string and assigning back to s\n",
    "id(s)"
   ]
  },
  {
   "cell_type": "code",
   "execution_count": 15,
   "id": "9b7901c2",
   "metadata": {},
   "outputs": [
    {
     "data": {
      "text/plain": [
       "'0123456789'"
      ]
     },
     "execution_count": 15,
     "metadata": {},
     "output_type": "execute_result"
    }
   ],
   "source": [
    "s = \"\"\n",
    "\n",
    "for i in range(10):\n",
    "    s += str(i) # with each iteration, I'm creating a new string and assigning it back to s\n",
    "\n",
    "s"
   ]
  },
  {
   "cell_type": "markdown",
   "id": "a92cf6cf",
   "metadata": {},
   "source": [
    "**NOTE :** The above approach uses lot of unnecessary memory space as with each iteration new string is created and old one will left out"
   ]
  },
  {
   "cell_type": "code",
   "execution_count": 13,
   "id": "da8b38e5",
   "metadata": {},
   "outputs": [
    {
     "data": {
      "text/plain": [
       "'0123456789'"
      ]
     },
     "execution_count": 13,
     "metadata": {},
     "output_type": "execute_result"
    }
   ],
   "source": [
    "# the above approach (using +=) is not recommended for medium and large size iterations\n",
    "# instead use list\n",
    "\n",
    "chars = []\n",
    "for i in range(10):\n",
    "    chars.append(str(i))\n",
    "\n",
    "\"\".join(chars) # we are creating a string only at the end"
   ]
  },
  {
   "cell_type": "markdown",
   "id": "052df908",
   "metadata": {},
   "source": [
    "The difference between using the `+=` and `list` is that list is mutable so it has smarter way of memory allocation."
   ]
  },
  {
   "cell_type": "code",
   "execution_count": 16,
   "id": "4b82a50b",
   "metadata": {},
   "outputs": [],
   "source": [
    "def using_plus_equals():\n",
    "    s = \"\"\n",
    "    \n",
    "    for i in range(10):\n",
    "        s += str(i)\n",
    "        \n",
    "    return s\n",
    "\n",
    "\n",
    "def using_list():\n",
    "    chars = []\n",
    "    \n",
    "    for i in range(10):\n",
    "        chars.append(str(i))\n",
    "        \n",
    "    return \"\".join(chars)"
   ]
  },
  {
   "cell_type": "code",
   "execution_count": 17,
   "id": "50f59117",
   "metadata": {},
   "outputs": [
    {
     "name": "stdout",
     "output_type": "stream",
     "text": [
      "1.86 µs ± 63.7 ns per loop (mean ± std. dev. of 7 runs, 1,000,000 loops each)\n"
     ]
    }
   ],
   "source": [
    "%timeit using_plus_equals()"
   ]
  },
  {
   "cell_type": "code",
   "execution_count": 18,
   "id": "3aab910a",
   "metadata": {},
   "outputs": [
    {
     "name": "stdout",
     "output_type": "stream",
     "text": [
      "2.02 µs ± 54.7 ns per loop (mean ± std. dev. of 7 runs, 1,000,000 loops each)\n"
     ]
    }
   ],
   "source": [
    "%timeit using_list()"
   ]
  },
  {
   "cell_type": "code",
   "execution_count": null,
   "id": "d300601e",
   "metadata": {},
   "outputs": [],
   "source": []
  }
 ],
 "metadata": {
  "kernelspec": {
   "display_name": "Python 3 (ipykernel)",
   "language": "python",
   "name": "python3"
  },
  "language_info": {
   "codemirror_mode": {
    "name": "ipython",
    "version": 3
   },
   "file_extension": ".py",
   "mimetype": "text/x-python",
   "name": "python",
   "nbconvert_exporter": "python",
   "pygments_lexer": "ipython3",
   "version": "3.10.4"
  }
 },
 "nbformat": 4,
 "nbformat_minor": 5
}
