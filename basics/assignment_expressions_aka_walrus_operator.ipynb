{
 "cells": [
  {
   "cell_type": "markdown",
   "id": "b5c198ad",
   "metadata": {},
   "source": [
    "# Python's assigment expressions (aka 'the walrus')"
   ]
  },
  {
   "cell_type": "code",
   "execution_count": 1,
   "id": "a23b2c2e",
   "metadata": {},
   "outputs": [
    {
     "name": "stdout",
     "output_type": "stream",
     "text": [
      "Enter your name: karthick\n",
      "Hello, karthick!\n",
      "Enter your name: world\n",
      "Hello, world!\n",
      "Enter your name: out there\n",
      "Hello, out there!\n",
      "Enter your name: \n"
     ]
    }
   ],
   "source": [
    "while True:\n",
    "    name = input(\"Enter your name: \").strip()\n",
    "    \n",
    "    if not name: # if name is the empty string, then ...\n",
    "        break    # ... exit from the loop\n",
    "        \n",
    "    print(f\"Hello, {name}!\")"
   ]
  },
  {
   "cell_type": "code",
   "execution_count": 2,
   "id": "010fbec3",
   "metadata": {},
   "outputs": [
    {
     "ename": "SyntaxError",
     "evalue": "invalid syntax. Maybe you meant '==' or ':=' instead of '='? (3873467751.py, line 3)",
     "output_type": "error",
     "traceback": [
      "\u001b[1;36m  Input \u001b[1;32mIn [2]\u001b[1;36m\u001b[0m\n\u001b[1;33m    while name = input(\"Enter your name: \").strip():\u001b[0m\n\u001b[1;37m          ^\u001b[0m\n\u001b[1;31mSyntaxError\u001b[0m\u001b[1;31m:\u001b[0m invalid syntax. Maybe you meant '==' or ':=' instead of '='?\n"
     ]
    }
   ],
   "source": [
    "# much cleaner and understandable, but ...\n",
    "\n",
    "while name = input(\"Enter your name: \").strip():\n",
    "    \n",
    "    print(f\"Hello, {name}!\")"
   ]
  },
  {
   "cell_type": "code",
   "execution_count": 3,
   "id": "1412a964",
   "metadata": {},
   "outputs": [
    {
     "name": "stdout",
     "output_type": "stream",
     "text": [
      "Enter your name: sabari\n",
      "Hello, sabari\n",
      "Enter your name: hello\n",
      "Hello, hello\n",
      "Enter your name: \n"
     ]
    }
   ],
   "source": [
    "# while loop should have expression, not assignment\n",
    "# PEP added the \"assignment expression\" operator, aka := aka \"the walrus\"\n",
    "\n",
    "while name := input(\"Enter your name: \").strip():\n",
    "    \n",
    "    print(f\"Hello, {name}\")"
   ]
  },
  {
   "cell_type": "code",
   "execution_count": 4,
   "id": "329c3099",
   "metadata": {},
   "outputs": [
    {
     "ename": "SyntaxError",
     "evalue": "invalid syntax (4101523498.py, line 1)",
     "output_type": "error",
     "traceback": [
      "\u001b[1;36m  Input \u001b[1;32mIn [4]\u001b[1;36m\u001b[0m\n\u001b[1;33m    x := 5\u001b[0m\n\u001b[1;37m      ^\u001b[0m\n\u001b[1;31mSyntaxError\u001b[0m\u001b[1;31m:\u001b[0m invalid syntax\n"
     ]
    }
   ],
   "source": [
    "x := 5"
   ]
  },
  {
   "cell_type": "code",
   "execution_count": 5,
   "id": "5e9a18d2",
   "metadata": {},
   "outputs": [],
   "source": [
    "# anywhere we use the regular assignment, we cannot use the walrus\n",
    "# only in the places where python is expecting to get an expression, then only can then use the walrus operator"
   ]
  },
  {
   "cell_type": "code",
   "execution_count": 8,
   "id": "5acd6394",
   "metadata": {},
   "outputs": [
    {
     "data": {
      "text/plain": [
       "{'a': 0, 'b': 1, 'c': 2, 'd': 3, 'e': 4}"
      ]
     },
     "execution_count": 8,
     "metadata": {},
     "output_type": "execute_result"
    }
   ],
   "source": [
    "# creating a dict with dict comprehension\n",
    "\n",
    "{ key: value for value, key in enumerate(\"abcde\") }"
   ]
  }
 ],
 "metadata": {
  "kernelspec": {
   "display_name": "Python 3 (ipykernel)",
   "language": "python",
   "name": "python3"
  },
  "language_info": {
   "codemirror_mode": {
    "name": "ipython",
    "version": 3
   },
   "file_extension": ".py",
   "mimetype": "text/x-python",
   "name": "python",
   "nbconvert_exporter": "python",
   "pygments_lexer": "ipython3",
   "version": "3.10.4"
  }
 },
 "nbformat": 4,
 "nbformat_minor": 5
}
