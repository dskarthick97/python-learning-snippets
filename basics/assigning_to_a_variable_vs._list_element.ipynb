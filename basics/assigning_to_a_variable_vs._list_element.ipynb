{
 "cells": [
  {
   "cell_type": "code",
   "execution_count": 1,
   "id": "c27109c5",
   "metadata": {},
   "outputs": [
    {
     "name": "stdout",
     "output_type": "stream",
     "text": [
      "[10, 20, 30]\n"
     ]
    }
   ],
   "source": [
    "nums = [10, 20, 30]\n",
    "\n",
    "def func(x):\n",
    "    x = [100, 200, 300]\n",
    "    \n",
    "func(nums)\n",
    "print(nums)"
   ]
  },
  {
   "cell_type": "code",
   "execution_count": 2,
   "id": "570c6629",
   "metadata": {},
   "outputs": [],
   "source": [
    "# global variable nums -- refers to [10, 20, 30]\n",
    "# local variable x -- refers to [10, 20, 30] (while passing as an argument),\n",
    "# then while at ln 4 x refers to [100, 200, 300]"
   ]
  },
  {
   "cell_type": "code",
   "execution_count": 3,
   "id": "83e76c81",
   "metadata": {},
   "outputs": [
    {
     "name": "stdout",
     "output_type": "stream",
     "text": [
      "[10, '!!!', 30]\n"
     ]
    }
   ],
   "source": [
    "nums = [10, 20, 30]\n",
    "\n",
    "def func(x):\n",
    "    x[1] = \"!!!\"\n",
    "    \n",
    "func(nums)\n",
    "print(nums)"
   ]
  },
  {
   "cell_type": "code",
   "execution_count": 4,
   "id": "9fd1caee",
   "metadata": {},
   "outputs": [],
   "source": [
    "# nums refers to [10, 20, 30]\n",
    "# x refers to [10, 20, 30]\n",
    "\n",
    "# x and nums refers to exactly the same list\n",
    "# therefore, modifying x means that we're modifying nums"
   ]
  },
  {
   "cell_type": "code",
   "execution_count": 5,
   "id": "f0ced0fa",
   "metadata": {},
   "outputs": [
    {
     "name": "stdout",
     "output_type": "stream",
     "text": [
      "999\n"
     ]
    }
   ],
   "source": [
    "# in immutables\n",
    "\n",
    "x = 999\n",
    "\n",
    "def func(x):\n",
    "    x = 1234\n",
    "\n",
    "\n",
    "func(x)\n",
    "print(x)"
   ]
  }
 ],
 "metadata": {
  "kernelspec": {
   "display_name": "Python 3 (ipykernel)",
   "language": "python",
   "name": "python3"
  },
  "language_info": {
   "codemirror_mode": {
    "name": "ipython",
    "version": 3
   },
   "file_extension": ".py",
   "mimetype": "text/x-python",
   "name": "python",
   "nbconvert_exporter": "python",
   "pygments_lexer": "ipython3",
   "version": "3.10.4"
  }
 },
 "nbformat": 4,
 "nbformat_minor": 5
}
