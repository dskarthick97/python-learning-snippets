{
 "cells": [
  {
   "cell_type": "markdown",
   "id": "528ba79c",
   "metadata": {},
   "source": [
    "## Rules that applied consistently across the language"
   ]
  },
  {
   "cell_type": "markdown",
   "id": "bb05ee31",
   "metadata": {},
   "source": [
    "- `Truth`\n",
    "\n",
    "\n",
    "- `Identifiers` / `variables: LEGB`\n",
    "\n",
    "\n",
    "- `Callables` and `parentheses`\n",
    "\n",
    "\n",
    "- `Methods' return values`\n",
    "\n",
    "\n",
    "- `Attributes` and `ICPO`"
   ]
  },
  {
   "cell_type": "markdown",
   "id": "66f00251",
   "metadata": {},
   "source": [
    "### I. Truth"
   ]
  },
  {
   "cell_type": "code",
   "execution_count": 2,
   "id": "17ac136d",
   "metadata": {},
   "outputs": [
    {
     "name": "stdout",
     "output_type": "stream",
     "text": [
      "Yes, it's what i wanted!\n"
     ]
    }
   ],
   "source": [
    "# Truth -- boolean context\n",
    "\n",
    "x = \"abcd\"\n",
    "if x == \"abcd\":\n",
    "    print(\"Yes, it's what i wanted!\")"
   ]
  },
  {
   "cell_type": "code",
   "execution_count": 5,
   "id": "f3a71720",
   "metadata": {},
   "outputs": [
    {
     "name": "stdout",
     "output_type": "stream",
     "text": [
      "Yes, it's what i wanted!\n"
     ]
    }
   ],
   "source": [
    "x = \"\"\n",
    "if x == \"\":\n",
    "    print(\"Yes, it's what i wanted!\")"
   ]
  },
  {
   "cell_type": "markdown",
   "id": "97d6d3b1",
   "metadata": {},
   "source": [
    "**NOTE** : *Every single object can be turned into a boolean value (True/False)*"
   ]
  },
  {
   "cell_type": "markdown",
   "id": "a186acc1",
   "metadata": {},
   "source": [
    "Every object in python, in a boolean context (if statement) is true except for:\n",
    "- 0\n",
    "\n",
    "- False\n",
    "\n",
    "- None\n",
    "\n",
    "- anything empty"
   ]
  },
  {
   "cell_type": "code",
   "execution_count": 6,
   "id": "1792048e",
   "metadata": {},
   "outputs": [
    {
     "name": "stdout",
     "output_type": "stream",
     "text": [
      "An empty string\n"
     ]
    }
   ],
   "source": [
    "if x:\n",
    "    print(\"Not an empty string\")\n",
    "else:\n",
    "    print(\"An empty string\")"
   ]
  },
  {
   "cell_type": "code",
   "execution_count": 8,
   "id": "6268fa9d",
   "metadata": {},
   "outputs": [
    {
     "name": "stdout",
     "output_type": "stream",
     "text": [
      "Enter your name: Karthick\n",
      "Hello, Karthick\n"
     ]
    }
   ],
   "source": [
    "name = input(\"Enter your name: \")\n",
    "\n",
    "if name:\n",
    "    print(f\"Hello, {name}\")\n",
    "else:\n",
    "    print(\"Hey! You didn't enter your name!\")"
   ]
  },
  {
   "cell_type": "markdown",
   "id": "5e0f2467",
   "metadata": {},
   "source": [
    "**NOTE** : set the `__bool__` method in the class, and the objects can also respond as `True` or `False` in an `if` statement"
   ]
  },
  {
   "cell_type": "code",
   "execution_count": 16,
   "id": "1e8359ce",
   "metadata": {},
   "outputs": [],
   "source": [
    "class Person:\n",
    "    def __init__(self, name):\n",
    "        self.name = name"
   ]
  },
  {
   "cell_type": "code",
   "execution_count": 17,
   "id": "ce7f0712",
   "metadata": {},
   "outputs": [
    {
     "name": "stdout",
     "output_type": "stream",
     "text": [
      "Hello, Karthick\n"
     ]
    }
   ],
   "source": [
    "person = Person(\"Karthick\")\n",
    "\n",
    "if person: # if the person object is True...\n",
    "    print(f\"Hello, {person.name}\")\n",
    "else:\n",
    "    print(\"Hey! You don't have a name\")"
   ]
  },
  {
   "cell_type": "code",
   "execution_count": 18,
   "id": "be6408cf",
   "metadata": {},
   "outputs": [
    {
     "name": "stdout",
     "output_type": "stream",
     "text": [
      "Hello, \n"
     ]
    }
   ],
   "source": [
    "# this works because __bool__ is not defined\n",
    "\n",
    "person = Person(\"\")\n",
    "\n",
    "if person: # if the person object is True...\n",
    "    print(f\"Hello, {person.name}\")\n",
    "else:\n",
    "    print(\"Hey! You don't have a name\")"
   ]
  },
  {
   "cell_type": "code",
   "execution_count": 21,
   "id": "3d4d928f",
   "metadata": {},
   "outputs": [],
   "source": [
    "class Person:\n",
    "    def __init__(self, name):\n",
    "        self.name = name\n",
    "        \n",
    "    def __bool__(self):\n",
    "        return bool(self.name)"
   ]
  },
  {
   "cell_type": "code",
   "execution_count": 24,
   "id": "f17859ff",
   "metadata": {},
   "outputs": [
    {
     "name": "stdout",
     "output_type": "stream",
     "text": [
      "Hey! You don't have a name\n"
     ]
    }
   ],
   "source": [
    "person = Person(\"\")\n",
    "\n",
    "if person: # if the person object is True...\n",
    "    print(f\"Hello, {person.name}\")\n",
    "else:\n",
    "    print(\"Hey! You don't have a name\")"
   ]
  },
  {
   "cell_type": "markdown",
   "id": "1e5b883b",
   "metadata": {},
   "source": [
    "### II. Identifiers / variables: LEGB"
   ]
  },
  {
   "cell_type": "code",
   "execution_count": 27,
   "id": "f4264444",
   "metadata": {},
   "outputs": [
    {
     "name": "stdout",
     "output_type": "stream",
     "text": [
      "x: 100\n"
     ]
    }
   ],
   "source": [
    "x = 100\n",
    "print(f\"x: {x}\")"
   ]
  },
  {
   "cell_type": "markdown",
   "id": "0dbb4d2a",
   "metadata": {},
   "source": [
    "If it's in a function body, starts here\n",
    "\n",
    "**L** -- `Local`\n",
    "\n",
    "**E** -- `Enclosing function`\n",
    "\n",
    "Outside of a function body, starts here\n",
    "\n",
    "**G** -- `Global`\n",
    "\n",
    "**B** -- `Built-ins`"
   ]
  },
  {
   "cell_type": "markdown",
   "id": "328a180a",
   "metadata": {},
   "source": [
    "### III. Callables and parentheses\n",
    "\n",
    "`functions`, `methods` and `class`es are *callable* in python"
   ]
  },
  {
   "cell_type": "code",
   "execution_count": 30,
   "id": "ce5a7842",
   "metadata": {},
   "outputs": [],
   "source": [
    "d = {\"a\": 1, \"b\": 2, \"c\": 3}"
   ]
  },
  {
   "cell_type": "code",
   "execution_count": 31,
   "id": "52f6fa06",
   "metadata": {},
   "outputs": [
    {
     "name": "stdout",
     "output_type": "stream",
     "text": [
      "a: 1\n",
      "b: 2\n",
      "c: 3\n"
     ]
    }
   ],
   "source": [
    "for key, value in d.items():\n",
    "    print(f\"{key}: {value}\")"
   ]
  },
  {
   "cell_type": "code",
   "execution_count": 33,
   "id": "3da39208",
   "metadata": {},
   "outputs": [
    {
     "ename": "TypeError",
     "evalue": "'builtin_function_or_method' object is not iterable",
     "output_type": "error",
     "traceback": [
      "\u001b[1;31m---------------------------------------------------------------------------\u001b[0m",
      "\u001b[1;31mTypeError\u001b[0m                                 Traceback (most recent call last)",
      "Input \u001b[1;32mIn [33]\u001b[0m, in \u001b[0;36m<cell line: 3>\u001b[1;34m()\u001b[0m\n\u001b[0;32m      1\u001b[0m \u001b[38;5;66;03m# the mistake would be\u001b[39;00m\n\u001b[1;32m----> 3\u001b[0m \u001b[38;5;28;01mfor\u001b[39;00m key, value \u001b[38;5;129;01min\u001b[39;00m d\u001b[38;5;241m.\u001b[39mitems:\n\u001b[0;32m      4\u001b[0m     \u001b[38;5;28mprint\u001b[39m(\u001b[38;5;124mf\u001b[39m\u001b[38;5;124m\"\u001b[39m\u001b[38;5;132;01m{\u001b[39;00mkey\u001b[38;5;132;01m}\u001b[39;00m\u001b[38;5;124m: \u001b[39m\u001b[38;5;132;01m{\u001b[39;00mvalue\u001b[38;5;132;01m}\u001b[39;00m\u001b[38;5;124m\"\u001b[39m)\n",
      "\u001b[1;31mTypeError\u001b[0m: 'builtin_function_or_method' object is not iterable"
     ]
    }
   ],
   "source": [
    "# the mistake would be\n",
    "\n",
    "for key, value in d.items:\n",
    "    print(f\"{key}: {value}\")"
   ]
  },
  {
   "cell_type": "code",
   "execution_count": 2,
   "id": "b205531e",
   "metadata": {},
   "outputs": [
    {
     "data": {
      "text/plain": [
       "'KARTHICK'"
      ]
     },
     "execution_count": 2,
     "metadata": {},
     "output_type": "execute_result"
    }
   ],
   "source": [
    "name = \"karthick\"\n",
    "first_name = name.upper()\n",
    "\n",
    "first_name"
   ]
  },
  {
   "cell_type": "code",
   "execution_count": 36,
   "id": "aed05750",
   "metadata": {},
   "outputs": [
    {
     "data": {
      "text/plain": [
       "<function str.upper()>"
      ]
     },
     "execution_count": 36,
     "metadata": {},
     "output_type": "execute_result"
    }
   ],
   "source": [
    "first_name = name.upper\n",
    "\n",
    "first_name # now an alias to name.upper"
   ]
  },
  {
   "cell_type": "code",
   "execution_count": 37,
   "id": "d0d98dfb",
   "metadata": {},
   "outputs": [
    {
     "data": {
      "text/plain": [
       "'KARTHICK'"
      ]
     },
     "execution_count": 37,
     "metadata": {},
     "output_type": "execute_result"
    }
   ],
   "source": [
    "first_name()"
   ]
  },
  {
   "cell_type": "markdown",
   "id": "3c03ff66",
   "metadata": {},
   "source": [
    "### IV. Methods return values\n",
    "\n",
    "**NOTE** -- If the data is mutable, and if the method modifies the data, it returns `None` back"
   ]
  },
  {
   "cell_type": "code",
   "execution_count": 4,
   "id": "f1699418",
   "metadata": {},
   "outputs": [
    {
     "data": {
      "text/plain": [
       "'KARTHICK'"
      ]
     },
     "execution_count": 4,
     "metadata": {},
     "output_type": "execute_result"
    }
   ],
   "source": [
    "name.upper()"
   ]
  },
  {
   "cell_type": "code",
   "execution_count": 5,
   "id": "b2b2e36f",
   "metadata": {},
   "outputs": [],
   "source": [
    "numbers = [10, 20, 30, 40, 50]"
   ]
  },
  {
   "cell_type": "code",
   "execution_count": 8,
   "id": "95a35605",
   "metadata": {},
   "outputs": [],
   "source": [
    "numbers.append(60) # this returns None!"
   ]
  },
  {
   "cell_type": "code",
   "execution_count": 9,
   "id": "178b9710",
   "metadata": {},
   "outputs": [
    {
     "data": {
      "text/plain": [
       "[10, 20, 30, 40, 50, 60, 60, 60]"
      ]
     },
     "execution_count": 9,
     "metadata": {},
     "output_type": "execute_result"
    }
   ],
   "source": [
    "numbers"
   ]
  },
  {
   "cell_type": "markdown",
   "id": "afbced57",
   "metadata": {},
   "source": [
    "### V. Attributes and ICPO"
   ]
  },
  {
   "cell_type": "code",
   "execution_count": 12,
   "id": "4f0bcdd4",
   "metadata": {},
   "outputs": [],
   "source": [
    "#a.b # here a is a variable/identifier (LEGB)... b is an ATTRIBUTE"
   ]
  },
  {
   "cell_type": "code",
   "execution_count": 13,
   "id": "9e726235",
   "metadata": {},
   "outputs": [],
   "source": [
    "# where does Python search for attributes?\n",
    "\n",
    "# attribute search is done via ICPO\n",
    "# I -- instance \n",
    "# C -- the class of the instance\n",
    "# P -- parent(s) of the class (inheritance)\n",
    "# O -- object, the head of the pyramid"
   ]
  },
  {
   "cell_type": "code",
   "execution_count": 14,
   "id": "ca827ce9",
   "metadata": {},
   "outputs": [
    {
     "data": {
      "text/plain": [
       "(object,)"
      ]
     },
     "execution_count": 14,
     "metadata": {},
     "output_type": "execute_result"
    }
   ],
   "source": [
    "str.__bases__"
   ]
  },
  {
   "cell_type": "code",
   "execution_count": 15,
   "id": "f695ddb8",
   "metadata": {},
   "outputs": [
    {
     "data": {
      "text/plain": [
       "(object,)"
      ]
     },
     "execution_count": 15,
     "metadata": {},
     "output_type": "execute_result"
    }
   ],
   "source": [
    "int.__bases__"
   ]
  },
  {
   "cell_type": "code",
   "execution_count": 1,
   "id": "3045db5f",
   "metadata": {},
   "outputs": [],
   "source": [
    "class Person:\n",
    "    def __init__(self, name):\n",
    "        self.name = name\n",
    "        \n",
    "    def greet(self):\n",
    "        return f\"Hello, {self.name}\""
   ]
  },
  {
   "cell_type": "code",
   "execution_count": 17,
   "id": "3cc2a8dd",
   "metadata": {},
   "outputs": [],
   "source": [
    "person = Person(\"Karthick\")"
   ]
  },
  {
   "cell_type": "code",
   "execution_count": 18,
   "id": "31affc3f",
   "metadata": {},
   "outputs": [
    {
     "data": {
      "text/plain": [
       "'Hello, Karthick'"
      ]
     },
     "execution_count": 18,
     "metadata": {},
     "output_type": "execute_result"
    }
   ],
   "source": [
    "person.greet()"
   ]
  },
  {
   "cell_type": "code",
   "execution_count": 2,
   "id": "bd01f074",
   "metadata": {},
   "outputs": [],
   "source": [
    "class Employee(Person):\n",
    "    def __init__(self, name):\n",
    "        super().__init__(name)"
   ]
  },
  {
   "cell_type": "code",
   "execution_count": 3,
   "id": "5dae8dd1",
   "metadata": {},
   "outputs": [
    {
     "data": {
      "text/plain": [
       "(__main__.Person,)"
      ]
     },
     "execution_count": 3,
     "metadata": {},
     "output_type": "execute_result"
    }
   ],
   "source": [
    "Employee.__bases__"
   ]
  },
  {
   "cell_type": "code",
   "execution_count": 23,
   "id": "9aeb5b99",
   "metadata": {},
   "outputs": [
    {
     "data": {
      "text/plain": [
       "'Hello, Sabari'"
      ]
     },
     "execution_count": 23,
     "metadata": {},
     "output_type": "execute_result"
    }
   ],
   "source": [
    "employee = Employee(\"Sabari\")\n",
    "employee.greet() # ICPO -- instance? no.  class? no.  parent? YES!"
   ]
  },
  {
   "cell_type": "code",
   "execution_count": 24,
   "id": "dad212a7",
   "metadata": {},
   "outputs": [
    {
     "name": "stdout",
     "output_type": "stream",
     "text": [
      "<__main__.Person object at 0x00000164DA4B6FE0>\n"
     ]
    }
   ],
   "source": [
    "print(person) # .__str__ method is taken from the object"
   ]
  }
 ],
 "metadata": {
  "kernelspec": {
   "display_name": "Python 3 (ipykernel)",
   "language": "python",
   "name": "python3"
  },
  "language_info": {
   "codemirror_mode": {
    "name": "ipython",
    "version": 3
   },
   "file_extension": ".py",
   "mimetype": "text/x-python",
   "name": "python",
   "nbconvert_exporter": "python",
   "pygments_lexer": "ipython3",
   "version": "3.10.4"
  }
 },
 "nbformat": 4,
 "nbformat_minor": 5
}
