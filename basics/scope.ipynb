{
 "cells": [
  {
   "cell_type": "markdown",
   "id": "47b01afc",
   "metadata": {},
   "source": [
    "# Variable Scope\n",
    "\n",
    "Scope determines from where the variables can be accessed from within the program and what values those variables hold in different contexts."
   ]
  },
  {
   "cell_type": "markdown",
   "id": "f3a98b3c",
   "metadata": {},
   "source": [
    "Common abbreviation for understanding the scoping rule within Python\n",
    "\n",
    "> **LEGB** - `Local`, `Enclosing`, `Global`, `Built-in`\n",
    "\n",
    "This is the order that python will look for the variable"
   ]
  },
  {
   "cell_type": "markdown",
   "id": "3dcf6519",
   "metadata": {},
   "source": [
    "### Global & Local scope"
   ]
  },
  {
   "cell_type": "code",
   "execution_count": 1,
   "id": "d385c166",
   "metadata": {},
   "outputs": [],
   "source": [
    "x = \"global x\""
   ]
  },
  {
   "cell_type": "code",
   "execution_count": 2,
   "id": "35551214",
   "metadata": {},
   "outputs": [],
   "source": [
    "def test():\n",
    "    y = \"local y\"\n",
    "    print(y)\n",
    "    # print(x)\n",
    "    \n",
    "    x = \"local x\"\n",
    "    print(x)"
   ]
  },
  {
   "cell_type": "code",
   "execution_count": 3,
   "id": "5c80c8ce",
   "metadata": {},
   "outputs": [
    {
     "name": "stdout",
     "output_type": "stream",
     "text": [
      "local y\n",
      "local x\n",
      "global x\n"
     ]
    }
   ],
   "source": [
    "test()\n",
    "print(x)"
   ]
  },
  {
   "cell_type": "markdown",
   "id": "35abdd94",
   "metadata": {},
   "source": [
    "`global` keyword -- Explicitly telling python to change the variable which is in the global scope"
   ]
  },
  {
   "cell_type": "code",
   "execution_count": 4,
   "id": "72e8172e",
   "metadata": {},
   "outputs": [],
   "source": [
    "def test():\n",
    "    global x\n",
    "    x = \"local x\"\n",
    "    print(x)"
   ]
  },
  {
   "cell_type": "code",
   "execution_count": 5,
   "id": "52847b1c",
   "metadata": {},
   "outputs": [
    {
     "name": "stdout",
     "output_type": "stream",
     "text": [
      "local x\n",
      "local x\n"
     ]
    }
   ],
   "source": [
    "test()\n",
    "print(x)"
   ]
  },
  {
   "cell_type": "markdown",
   "id": "ce785115",
   "metadata": {},
   "source": [
    "### Built-in scope"
   ]
  },
  {
   "cell_type": "code",
   "execution_count": null,
   "id": "01d0127e",
   "metadata": {},
   "outputs": [],
   "source": [
    "import builtins\n",
    "\n",
    "dir(builtins)"
   ]
  },
  {
   "cell_type": "markdown",
   "id": "fc4653e6",
   "metadata": {},
   "source": [
    "### Enclosing scope"
   ]
  },
  {
   "cell_type": "code",
   "execution_count": 10,
   "id": "527bdae9",
   "metadata": {},
   "outputs": [],
   "source": [
    "def outer():\n",
    "    x = \"outer x\"\n",
    "    \n",
    "    def inner():\n",
    "        # x = \"inner x\"\n",
    "        print(x)\n",
    "        \n",
    "    inner()\n",
    "    print(x)"
   ]
  },
  {
   "cell_type": "code",
   "execution_count": 11,
   "id": "c324d94a",
   "metadata": {},
   "outputs": [
    {
     "name": "stdout",
     "output_type": "stream",
     "text": [
      "outer x\n",
      "outer x\n"
     ]
    }
   ],
   "source": [
    "outer()"
   ]
  },
  {
   "cell_type": "markdown",
   "id": "33baa72c",
   "metadata": {},
   "source": [
    "`nonlocal` keyword -- Explicitly telling python to change the variable which is in the enclosing scope"
   ]
  },
  {
   "cell_type": "code",
   "execution_count": 12,
   "id": "2c967b23",
   "metadata": {},
   "outputs": [],
   "source": [
    "def outer():\n",
    "    x = \"outer x\"\n",
    "    \n",
    "    def inner():\n",
    "        nonlocal x\n",
    "        x = \"inner x\"\n",
    "        print(x)\n",
    "        \n",
    "    inner()\n",
    "    print(x)"
   ]
  },
  {
   "cell_type": "code",
   "execution_count": 13,
   "id": "67e54c31",
   "metadata": {},
   "outputs": [
    {
     "name": "stdout",
     "output_type": "stream",
     "text": [
      "inner x\n",
      "inner x\n"
     ]
    }
   ],
   "source": [
    "outer()"
   ]
  }
 ],
 "metadata": {
  "kernelspec": {
   "display_name": "Python 3 (ipykernel)",
   "language": "python",
   "name": "python3"
  },
  "language_info": {
   "codemirror_mode": {
    "name": "ipython",
    "version": 3
   },
   "file_extension": ".py",
   "mimetype": "text/x-python",
   "name": "python",
   "nbconvert_exporter": "python",
   "pygments_lexer": "ipython3",
   "version": "3.10.4"
  }
 },
 "nbformat": 4,
 "nbformat_minor": 5
}
