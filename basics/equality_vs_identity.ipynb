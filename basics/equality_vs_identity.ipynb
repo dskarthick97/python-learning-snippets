{
 "cells": [
  {
   "cell_type": "markdown",
   "id": "48696ff4",
   "metadata": {},
   "source": [
    "## Difference between Equality and Identity\n",
    "\n",
    "`==` (`Equality`) -- Checks if the values are equal.\n",
    "\n",
    "`is` (`Identity`) -- Checks if they are of same object in memory."
   ]
  },
  {
   "cell_type": "code",
   "execution_count": 1,
   "id": "b180a93b",
   "metadata": {},
   "outputs": [],
   "source": [
    "lst_1 = [1, 2, 3, 4, 5]\n",
    "lst_2 = [1, 2, 4, 5]"
   ]
  },
  {
   "cell_type": "code",
   "execution_count": 2,
   "id": "6d5a2c33",
   "metadata": {},
   "outputs": [
    {
     "data": {
      "text/plain": [
       "False"
      ]
     },
     "execution_count": 2,
     "metadata": {},
     "output_type": "execute_result"
    }
   ],
   "source": [
    "lst_1 == lst_2"
   ]
  },
  {
   "cell_type": "code",
   "execution_count": 3,
   "id": "2d90d10e",
   "metadata": {},
   "outputs": [],
   "source": [
    "lst_2 = [1, 2, 3, 4, 5]"
   ]
  },
  {
   "cell_type": "code",
   "execution_count": 4,
   "id": "c4796960",
   "metadata": {},
   "outputs": [
    {
     "data": {
      "text/plain": [
       "True"
      ]
     },
     "execution_count": 4,
     "metadata": {},
     "output_type": "execute_result"
    }
   ],
   "source": [
    "lst_1 == lst_2"
   ]
  },
  {
   "cell_type": "code",
   "execution_count": 7,
   "id": "ccab1a46",
   "metadata": {},
   "outputs": [
    {
     "data": {
      "text/plain": [
       "False"
      ]
     },
     "execution_count": 7,
     "metadata": {},
     "output_type": "execute_result"
    }
   ],
   "source": [
    "lst_1 is lst_2"
   ]
  },
  {
   "cell_type": "code",
   "execution_count": 8,
   "id": "64f9cce6",
   "metadata": {},
   "outputs": [],
   "source": [
    "lst_2 = lst_1"
   ]
  },
  {
   "cell_type": "code",
   "execution_count": 11,
   "id": "9cc34179",
   "metadata": {},
   "outputs": [
    {
     "data": {
      "text/plain": [
       "True"
      ]
     },
     "execution_count": 11,
     "metadata": {},
     "output_type": "execute_result"
    }
   ],
   "source": [
    "lst_1 is lst_2"
   ]
  }
 ],
 "metadata": {
  "kernelspec": {
   "display_name": "Python 3 (ipykernel)",
   "language": "python",
   "name": "python3"
  },
  "language_info": {
   "codemirror_mode": {
    "name": "ipython",
    "version": 3
   },
   "file_extension": ".py",
   "mimetype": "text/x-python",
   "name": "python",
   "nbconvert_exporter": "python",
   "pygments_lexer": "ipython3",
   "version": "3.10.4"
  }
 },
 "nbformat": 4,
 "nbformat_minor": 5
}
