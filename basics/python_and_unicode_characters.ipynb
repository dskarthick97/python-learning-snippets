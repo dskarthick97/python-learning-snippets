{
 "cells": [
  {
   "cell_type": "markdown",
   "id": "75380557",
   "metadata": {},
   "source": [
    "# Unicode characters in python"
   ]
  },
  {
   "cell_type": "code",
   "execution_count": 1,
   "id": "661c6224",
   "metadata": {},
   "outputs": [],
   "source": [
    "s = \"abcde\""
   ]
  },
  {
   "cell_type": "code",
   "execution_count": 2,
   "id": "5850b328",
   "metadata": {},
   "outputs": [
    {
     "name": "stdout",
     "output_type": "stream",
     "text": [
      "97\n",
      "98\n",
      "99\n",
      "100\n",
      "101\n"
     ]
    }
   ],
   "source": [
    "# I want to know the unicode numbers for the characters in s\n",
    "\n",
    "for letter in s:\n",
    "    print(ord(letter))"
   ]
  },
  {
   "cell_type": "code",
   "execution_count": 3,
   "id": "42fe5b7e",
   "metadata": {},
   "outputs": [
    {
     "data": {
      "text/plain": [
       "36"
      ]
     },
     "execution_count": 3,
     "metadata": {},
     "output_type": "execute_result"
    }
   ],
   "source": [
    "ord(\"$\")"
   ]
  },
  {
   "cell_type": "code",
   "execution_count": 4,
   "id": "2d128976",
   "metadata": {},
   "outputs": [
    {
     "data": {
      "text/plain": [
       "123"
      ]
     },
     "execution_count": 4,
     "metadata": {},
     "output_type": "execute_result"
    }
   ],
   "source": [
    "ord(\"{\")"
   ]
  },
  {
   "cell_type": "code",
   "execution_count": 5,
   "id": "bbbaef78",
   "metadata": {},
   "outputs": [
    {
     "data": {
      "text/plain": [
       "40"
      ]
     },
     "execution_count": 5,
     "metadata": {},
     "output_type": "execute_result"
    }
   ],
   "source": [
    "ord(\"(\")"
   ]
  },
  {
   "cell_type": "code",
   "execution_count": 6,
   "id": "c0792827",
   "metadata": {},
   "outputs": [
    {
     "data": {
      "text/plain": [
       "90"
      ]
     },
     "execution_count": 6,
     "metadata": {},
     "output_type": "execute_result"
    }
   ],
   "source": [
    "ord(\"Z\")"
   ]
  },
  {
   "cell_type": "markdown",
   "id": "2c8f8a50",
   "metadata": {},
   "source": [
    "## Inserting unicode character into a string"
   ]
  },
  {
   "cell_type": "markdown",
   "id": "53c8659d",
   "metadata": {},
   "source": [
    "### I. char method"
   ]
  },
  {
   "cell_type": "code",
   "execution_count": 7,
   "id": "e9b57f70",
   "metadata": {},
   "outputs": [
    {
     "data": {
      "text/plain": [
       "'a'"
      ]
     },
     "execution_count": 7,
     "metadata": {},
     "output_type": "execute_result"
    }
   ],
   "source": [
    "# how can I insert the characters of other lang into my string?\n",
    "\n",
    "# (1) -- using chr\n",
    "chr(97)"
   ]
  },
  {
   "cell_type": "code",
   "execution_count": 9,
   "id": "55a337d5",
   "metadata": {},
   "outputs": [
    {
     "data": {
      "text/plain": [
       "'中'"
      ]
     },
     "execution_count": 9,
     "metadata": {},
     "output_type": "execute_result"
    }
   ],
   "source": [
    "chr(20013)  # chinese character"
   ]
  },
  {
   "cell_type": "code",
   "execution_count": 10,
   "id": "30864367",
   "metadata": {},
   "outputs": [
    {
     "data": {
      "text/plain": [
       "'ש'"
      ]
     },
     "execution_count": 10,
     "metadata": {},
     "output_type": "execute_result"
    }
   ],
   "source": [
    "chr(1513)  # hebrew character"
   ]
  },
  {
   "cell_type": "code",
   "execution_count": 11,
   "id": "c6f0de05",
   "metadata": {},
   "outputs": [
    {
     "data": {
      "text/plain": [
       "'שϫום'"
      ]
     },
     "execution_count": 11,
     "metadata": {},
     "output_type": "execute_result"
    }
   ],
   "source": [
    "s = f\"{chr(1513)}{chr(1003)}{chr(1493)}{chr(1501)}\"\n",
    "\n",
    "s"
   ]
  },
  {
   "cell_type": "code",
   "execution_count": 14,
   "id": "1bdcf6b3",
   "metadata": {},
   "outputs": [
    {
     "name": "stdout",
     "output_type": "stream",
     "text": [
      "0x61\n",
      "0x62\n",
      "0x63\n",
      "0x64\n",
      "0x65\n"
     ]
    }
   ],
   "source": [
    "# a better and nicer ways to do it. But we have to use hexa-decimals\n",
    "# hexadecimal numbers use digits 0-9, a-f\n",
    "\n",
    "s = \"abcde\"\n",
    "\n",
    "for letter in s:\n",
    "    print(hex(ord(letter)))"
   ]
  },
  {
   "cell_type": "markdown",
   "id": "f4b1b48f",
   "metadata": {},
   "source": [
    "### II. \\x"
   ]
  },
  {
   "cell_type": "code",
   "execution_count": 15,
   "id": "da1658d5",
   "metadata": {},
   "outputs": [
    {
     "name": "stdout",
     "output_type": "stream",
     "text": [
      "a\n"
     ]
    }
   ],
   "source": [
    "print(\"\\x61\")"
   ]
  },
  {
   "cell_type": "code",
   "execution_count": 17,
   "id": "ae7ddc1e",
   "metadata": {},
   "outputs": [
    {
     "name": "stdout",
     "output_type": "stream",
     "text": [
      "abcde\n"
     ]
    }
   ],
   "source": [
    "# \\xHH == a Unicode character with two hex digits\n",
    "\n",
    "print(\"\\x61\\x62\\x63\\x64\\x65\")"
   ]
  },
  {
   "cell_type": "code",
   "execution_count": 18,
   "id": "dbcdba2a",
   "metadata": {},
   "outputs": [
    {
     "name": "stdout",
     "output_type": "stream",
     "text": [
      "0x5e9\n",
      "0x3eb\n",
      "0x5d5\n",
      "0x5dd\n"
     ]
    }
   ],
   "source": [
    "s = \"שϫום\"\n",
    "\n",
    "for letter in s:\n",
    "    print(hex(ord(letter)))"
   ]
  },
  {
   "cell_type": "code",
   "execution_count": 19,
   "id": "74693e35",
   "metadata": {},
   "outputs": [
    {
     "name": "stdout",
     "output_type": "stream",
     "text": [
      "^9>b]5]d\n"
     ]
    }
   ],
   "source": [
    "# but I print the hex digits\n",
    "\n",
    "print(\"\\x5e9\\x3eb\\x5d5\\x5dd\")"
   ]
  },
  {
   "cell_type": "markdown",
   "id": "a24fbc67",
   "metadata": {},
   "source": [
    "### III. \\u"
   ]
  },
  {
   "cell_type": "code",
   "execution_count": 21,
   "id": "34459b21",
   "metadata": {},
   "outputs": [
    {
     "name": "stdout",
     "output_type": "stream",
     "text": [
      "שϫום\n"
     ]
    }
   ],
   "source": [
    "# \\x only works if the character has 2 digits, if the characters\n",
    "# will fit into 4 hex digits, use \\u\n",
    "\n",
    "print(\"\\u05e9\\u03eb\\u05d5\\u05dd\")"
   ]
  },
  {
   "cell_type": "code",
   "execution_count": 23,
   "id": "f555e438",
   "metadata": {},
   "outputs": [
    {
     "name": "stdout",
     "output_type": "stream",
     "text": [
      "abcde\n"
     ]
    }
   ],
   "source": [
    "# can I use \\u with two-digit hex codes? YES!, put two leading zeros\n",
    "\n",
    "print(\"\\u0061\\u0062\\u0063\\u0064\\u0065\")"
   ]
  },
  {
   "cell_type": "code",
   "execution_count": 24,
   "id": "d43bd9d8",
   "metadata": {},
   "outputs": [
    {
     "data": {
      "text/plain": [
       "128293"
      ]
     },
     "execution_count": 24,
     "metadata": {},
     "output_type": "execute_result"
    }
   ],
   "source": [
    "s = \"🔥\"\n",
    "ord(s)"
   ]
  },
  {
   "cell_type": "code",
   "execution_count": 25,
   "id": "b33be1b9",
   "metadata": {},
   "outputs": [
    {
     "data": {
      "text/plain": [
       "'0x1f525'"
      ]
     },
     "execution_count": 25,
     "metadata": {},
     "output_type": "execute_result"
    }
   ],
   "source": [
    "hex(ord(s))"
   ]
  },
  {
   "cell_type": "markdown",
   "id": "36cc119c",
   "metadata": {},
   "source": [
    "### IV. \\U"
   ]
  },
  {
   "cell_type": "code",
   "execution_count": 26,
   "id": "e204548c",
   "metadata": {},
   "outputs": [
    {
     "name": "stdout",
     "output_type": "stream",
     "text": [
      "I am on 🔥\n"
     ]
    }
   ],
   "source": [
    "# if there is more than 4 hex digits, use \\U with 8 hex-digits\n",
    "\n",
    "print(\"I am on \\U0001f525\")"
   ]
  },
  {
   "cell_type": "markdown",
   "id": "9e64a474",
   "metadata": {},
   "source": [
    "### V. unicode names"
   ]
  },
  {
   "cell_type": "code",
   "execution_count": 27,
   "id": "f87ff507",
   "metadata": {},
   "outputs": [
    {
     "name": "stdout",
     "output_type": "stream",
     "text": [
      "LATIN SMALL LETTER A\n",
      "LATIN SMALL LETTER B\n",
      "LATIN SMALL LETTER C\n",
      "LATIN SMALL LETTER D\n",
      "LATIN SMALL LETTER E\n"
     ]
    }
   ],
   "source": [
    "# can use name instead of \\x, \\u and \\U.\n",
    "# Every unicode character has a name\n",
    "\n",
    "import unicodedata\n",
    "\n",
    "s = \"abcde\"\n",
    "\n",
    "for letter in s:\n",
    "    print(unicodedata.name(letter))"
   ]
  },
  {
   "cell_type": "code",
   "execution_count": 28,
   "id": "f2fd78bb",
   "metadata": {},
   "outputs": [
    {
     "name": "stdout",
     "output_type": "stream",
     "text": [
      "a\n"
     ]
    }
   ],
   "source": [
    "print(\"\\N{LATIN SMALL LETTER A}\")"
   ]
  },
  {
   "cell_type": "code",
   "execution_count": 29,
   "id": "15a3a9f2",
   "metadata": {},
   "outputs": [
    {
     "name": "stdout",
     "output_type": "stream",
     "text": [
      "HEBREW LETTER SHIN\n",
      "COPTIC SMALL LETTER GANGIA\n",
      "HEBREW LETTER VAV\n",
      "HEBREW LETTER FINAL MEM\n"
     ]
    }
   ],
   "source": [
    "s = \"שϫום\"\n",
    "\n",
    "for letter in s:\n",
    "    print(unicodedata.name(letter))"
   ]
  },
  {
   "cell_type": "code",
   "execution_count": 30,
   "id": "1f2df185",
   "metadata": {},
   "outputs": [
    {
     "name": "stdout",
     "output_type": "stream",
     "text": [
      "ש\n"
     ]
    }
   ],
   "source": [
    "print(\"\\N{HEBREW LETTER SHIN}\")"
   ]
  },
  {
   "cell_type": "code",
   "execution_count": 31,
   "id": "0d4f3d4c",
   "metadata": {},
   "outputs": [
    {
     "name": "stdout",
     "output_type": "stream",
     "text": [
      "中\n"
     ]
    }
   ],
   "source": [
    "# chinese character\n",
    "\n",
    "print(\"\\N{CJK UNIFIED IDEOGRAPH-4E2D}\")"
   ]
  },
  {
   "cell_type": "code",
   "execution_count": 32,
   "id": "acef1093",
   "metadata": {},
   "outputs": [
    {
     "name": "stdout",
     "output_type": "stream",
     "text": [
      "I am on 🔥!\n"
     ]
    }
   ],
   "source": [
    "print(\"I am on \\N{FIRE}!\")"
   ]
  }
 ],
 "metadata": {
  "kernelspec": {
   "display_name": "Python 3 (ipykernel)",
   "language": "python",
   "name": "python3"
  },
  "language_info": {
   "codemirror_mode": {
    "name": "ipython",
    "version": 3
   },
   "file_extension": ".py",
   "mimetype": "text/x-python",
   "name": "python",
   "nbconvert_exporter": "python",
   "pygments_lexer": "ipython3",
   "version": "3.10.4"
  }
 },
 "nbformat": 4,
 "nbformat_minor": 5
}
