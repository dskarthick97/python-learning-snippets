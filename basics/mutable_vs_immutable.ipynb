{
 "cells": [
  {
   "cell_type": "markdown",
   "id": "9de87f21",
   "metadata": {},
   "source": [
    "# Mutable vs. Immutable\n",
    "\n",
    "`mutable` -- object whose state can be modified after its created.\n",
    "\n",
    "`immutable` -- object whose state cannot be modified after its created."
   ]
  },
  {
   "cell_type": "markdown",
   "id": "294d93f9",
   "metadata": {},
   "source": [
    "# immutable\n",
    "`None`\n",
    "\n",
    "`bool`\n",
    "\n",
    "`int`\n",
    "\n",
    "`float`\n",
    "\n",
    "`str`\n",
    "\n",
    "`tuple`\n",
    "\n",
    "# mutable\n",
    "`list`\n",
    "\n",
    "`dict`\n",
    "\n",
    "`set`\n",
    "\n",
    "`class` -- by default"
   ]
  }
 ],
 "metadata": {
  "kernelspec": {
   "display_name": "Python 3 (ipykernel)",
   "language": "python",
   "name": "python3"
  },
  "language_info": {
   "codemirror_mode": {
    "name": "ipython",
    "version": 3
   },
   "file_extension": ".py",
   "mimetype": "text/x-python",
   "name": "python",
   "nbconvert_exporter": "python",
   "pygments_lexer": "ipython3",
   "version": "3.10.4"
  }
 },
 "nbformat": 4,
 "nbformat_minor": 5
}
