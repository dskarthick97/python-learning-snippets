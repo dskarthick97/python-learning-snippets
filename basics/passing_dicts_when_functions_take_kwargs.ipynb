{
 "cells": [
  {
   "cell_type": "code",
   "execution_count": 1,
   "id": "b3ea1de4",
   "metadata": {},
   "outputs": [],
   "source": [
    "# style 01 -- passing dict as argument\n",
    "\n",
    "def write_config(filename, d):\n",
    "    with open(filename, \"w\") as file:\n",
    "        for key, value in d.items():\n",
    "            file.write(f\"{key}={value}\\n\")\n",
    "\n"
   ]
  },
  {
   "cell_type": "code",
   "execution_count": 2,
   "id": "7aa62649",
   "metadata": {},
   "outputs": [],
   "source": [
    "config = {\"a\": 1, \"b\": 2}\n",
    "\n",
    "write_config(\"config.txt\", config)"
   ]
  },
  {
   "cell_type": "code",
   "execution_count": 3,
   "id": "48958491",
   "metadata": {},
   "outputs": [
    {
     "name": "stdout",
     "output_type": "stream",
     "text": [
      " Volume in drive D is DATA\n",
      " Volume Serial Number is 225A-6A59\n",
      "\n",
      " Directory of D:\\dev\\selfLearning\\python\\basics\n",
      "\n",
      "09-05-2022  16:26    <DIR>          .\n",
      "09-05-2022  16:26    <DIR>          ..\n",
      "09-05-2022  16:22    <DIR>          .ipynb_checkpoints\n",
      "05-05-2022  14:17             5,748 accumulating_with_python_dict.ipynb\n",
      "09-05-2022  15:05             2,316 assigning_to_a_variable_vs._list_element.ipynb\n",
      "09-05-2022  16:21             4,074 assignment_expressions_aka_walrus_operator.ipynb\n",
      "02-05-2022  22:12            19,947 bytes_and_encoding.ipynb\n",
      "09-05-2022  15:44             3,185 comparing_different_types.ipynb\n",
      "09-05-2022  16:26                10 config.txt\n",
      "04-05-2022  12:23            14,315 consistency_in_python.ipynb\n",
      "02-05-2022  15:39             4,469 else_clauses_on_loops.ipynb\n",
      "30-04-2022  21:50             2,580 equality_vs_identity.ipynb\n",
      "09-05-2022  12:30            16,053 generator_internals.ipynb\n",
      "09-05-2022  13:24            14,813 identifiers.ipynb\n",
      "03-05-2022  19:49           169,567 import_vs_from_import.ipynb\n",
      "03-05-2022  20:06            26,219 list_vs_array.ipynb\n",
      "04-05-2022  13:22             2,978 lists_vs_tuples.ipynb\n",
      "04-05-2022  12:29             3,629 main_and_import.ipynb\n",
      "05-05-2022  12:13             9,012 modules_packages_and_distribution.ipynb\n",
      "02-05-2022  22:22             1,156 mutable_vs_immutable.ipynb\n",
      "09-05-2022  16:26             1,152 passing_dicts_when_functions_take_kwargs.ipynb\n",
      "05-05-2022  17:51             2,161 python_exit_codes.ipynb\n",
      "30-04-2022  18:42             4,600 scope.ipynb\n",
      "03-05-2022  19:16            15,956 slicing_and_comprehension.ipynb\n",
      "30-04-2022  21:22             6,527 sorting_list_tuples_and_objects.ipynb\n",
      "              22 File(s)        330,467 bytes\n",
      "               3 Dir(s)  294,857,093,120 bytes free\n"
     ]
    }
   ],
   "source": [
    "%ls "
   ]
  },
  {
   "cell_type": "code",
   "execution_count": 5,
   "id": "c1fc55cc",
   "metadata": {},
   "outputs": [],
   "source": [
    "# style 02 -- passing keyword arguments instead of passing dict\n",
    "\n",
    "def write_config(filename, **kwargs):\n",
    "    with open(filename, \"w\") as file:\n",
    "        for key, value in kwargs.items():\n",
    "            file.write(f\"{key}={value}\\n\")\n",
    "\n",
    "\n",
    "write_config(\"config.txt\", x=100, y=200, z=300)"
   ]
  },
  {
   "cell_type": "code",
   "execution_count": 7,
   "id": "3ed2cac1",
   "metadata": {},
   "outputs": [
    {
     "ename": "TypeError",
     "evalue": "write_config() takes 1 positional argument but 2 were given",
     "output_type": "error",
     "traceback": [
      "\u001b[1;31m---------------------------------------------------------------------------\u001b[0m",
      "\u001b[1;31mTypeError\u001b[0m                                 Traceback (most recent call last)",
      "Input \u001b[1;32mIn [7]\u001b[0m, in \u001b[0;36m<cell line: 3>\u001b[1;34m()\u001b[0m\n\u001b[0;32m      1\u001b[0m \u001b[38;5;66;03m# problem -- what if I wanted to pass the dict instead of as kwargs\u001b[39;00m\n\u001b[1;32m----> 3\u001b[0m \u001b[43mwrite_config\u001b[49m\u001b[43m(\u001b[49m\u001b[38;5;124;43m\"\u001b[39;49m\u001b[38;5;124;43mconfig.txt\u001b[39;49m\u001b[38;5;124;43m\"\u001b[39;49m\u001b[43m,\u001b[49m\u001b[43m \u001b[49m\u001b[43mconfig\u001b[49m\u001b[43m)\u001b[49m\n",
      "\u001b[1;31mTypeError\u001b[0m: write_config() takes 1 positional argument but 2 were given"
     ]
    }
   ],
   "source": [
    "# problem -- what if I wanted to pass the dict instead of as kwargs\n",
    "\n",
    "write_config(\"config.txt\", config)"
   ]
  },
  {
   "cell_type": "code",
   "execution_count": 8,
   "id": "2947857e",
   "metadata": {},
   "outputs": [],
   "source": [
    "# solution\n",
    "\n",
    "write_config(\"config.txt\", **config)"
   ]
  }
 ],
 "metadata": {
  "kernelspec": {
   "display_name": "Python 3 (ipykernel)",
   "language": "python",
   "name": "python3"
  },
  "language_info": {
   "codemirror_mode": {
    "name": "ipython",
    "version": 3
   },
   "file_extension": ".py",
   "mimetype": "text/x-python",
   "name": "python",
   "nbconvert_exporter": "python",
   "pygments_lexer": "ipython3",
   "version": "3.10.4"
  }
 },
 "nbformat": 4,
 "nbformat_minor": 5
}
