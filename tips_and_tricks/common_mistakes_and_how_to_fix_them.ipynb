{
 "cells": [
  {
   "cell_type": "markdown",
   "id": "54ee8d8d",
   "metadata": {},
   "source": [
    "## Indentation & Spaces"
   ]
  },
  {
   "cell_type": "code",
   "execution_count": 1,
   "id": "31954a2a",
   "metadata": {},
   "outputs": [],
   "source": [
    "nums = [11, 30, 44, 54]"
   ]
  },
  {
   "cell_type": "code",
   "execution_count": 2,
   "id": "5554221d",
   "metadata": {},
   "outputs": [
    {
     "name": "stdout",
     "output_type": "stream",
     "text": [
      "121\n",
      "900\n",
      "1936\n",
      "2916\n"
     ]
    }
   ],
   "source": [
    "for num in nums:\n",
    "    square = num * num\n",
    "    print(square)"
   ]
  },
  {
   "cell_type": "markdown",
   "id": "1073867c",
   "metadata": {},
   "source": [
    "## Naming conflicts\n",
    "\n",
    " custom module takes precendence over module built-in"
   ]
  },
  {
   "cell_type": "markdown",
   "id": "6ace6ce6",
   "metadata": {},
   "source": [
    "## Mutable default arguments"
   ]
  },
  {
   "cell_type": "markdown",
   "id": "a2ba4bcd",
   "metadata": {},
   "source": [
    "#### Example 1"
   ]
  },
  {
   "cell_type": "code",
   "execution_count": 3,
   "id": "fe3cba66",
   "metadata": {},
   "outputs": [],
   "source": [
    "# here the method adds new employee to the list that is passed as argument.\n",
    "# If the list is not passed, then it should create a new list as we have a default argument.\n",
    "\n",
    "def add_employee(emp, emp_lst = []):\n",
    "    emp_lst.append(emp)\n",
    "    print(emp_lst)"
   ]
  },
  {
   "cell_type": "code",
   "execution_count": 4,
   "id": "b831ff9c",
   "metadata": {},
   "outputs": [],
   "source": [
    "emps = [\"Jane\", \"Thor\"]"
   ]
  },
  {
   "cell_type": "code",
   "execution_count": 5,
   "id": "b5478b7f",
   "metadata": {},
   "outputs": [
    {
     "name": "stdout",
     "output_type": "stream",
     "text": [
      "['Jane', 'Thor', 'Taika']\n"
     ]
    }
   ],
   "source": [
    "add_employee(\"Taika\", emps)"
   ]
  },
  {
   "cell_type": "code",
   "execution_count": 6,
   "id": "51d7eb06",
   "metadata": {},
   "outputs": [
    {
     "name": "stdout",
     "output_type": "stream",
     "text": [
      "['Gohr']\n"
     ]
    }
   ],
   "source": [
    "# adding a new employee without provinding the list\n",
    "\n",
    "add_employee(\"Gohr\")"
   ]
  },
  {
   "cell_type": "code",
   "execution_count": 7,
   "id": "bc221cfe",
   "metadata": {},
   "outputs": [
    {
     "name": "stdout",
     "output_type": "stream",
     "text": [
      "['Gohr', 'Zeus']\n"
     ]
    }
   ],
   "source": [
    "add_employee(\"Zeus\") # here the ans should be [\"Zeus\"]"
   ]
  },
  {
   "cell_type": "markdown",
   "id": "157c18bb",
   "metadata": {},
   "source": [
    "> `NOTE` : In python, default arguments are evaluated once at the time it creates a function. So its not creating a \n",
    "new empty list each time we run the function. This behavior won't be noticed while using immutable type default argument."
   ]
  },
  {
   "cell_type": "code",
   "execution_count": 11,
   "id": "862074c9",
   "metadata": {},
   "outputs": [],
   "source": [
    "# solution\n",
    "\n",
    "def add_employee(emp, emp_lst = None):\n",
    "    if emp_lst is None:\n",
    "        emp_lst = []\n",
    "        \n",
    "    emp_lst.append(emp)\n",
    "    print(emp_lst)"
   ]
  },
  {
   "cell_type": "code",
   "execution_count": 12,
   "id": "bcd4dbd0",
   "metadata": {},
   "outputs": [
    {
     "name": "stdout",
     "output_type": "stream",
     "text": [
      "['ToothSmasher']\n"
     ]
    }
   ],
   "source": [
    "add_employee(\"ToothSmasher\")"
   ]
  },
  {
   "cell_type": "code",
   "execution_count": 13,
   "id": "c9884bed",
   "metadata": {},
   "outputs": [
    {
     "name": "stdout",
     "output_type": "stream",
     "text": [
      "['ToothGrinder']\n"
     ]
    }
   ],
   "source": [
    "add_employee(\"ToothGrinder\")"
   ]
  },
  {
   "cell_type": "markdown",
   "id": "0f344815",
   "metadata": {},
   "source": [
    "#### Example 2"
   ]
  },
  {
   "cell_type": "code",
   "execution_count": 14,
   "id": "c7a8ee6f",
   "metadata": {},
   "outputs": [],
   "source": [
    "import time\n",
    "from datetime import datetime\n",
    "\n",
    "def display_time(time=datetime.now()):\n",
    "    print(time.strftime(\"%B %d, %Y %H:%M:%S\"))"
   ]
  },
  {
   "cell_type": "code",
   "execution_count": 15,
   "id": "ad14b544",
   "metadata": {},
   "outputs": [
    {
     "name": "stdout",
     "output_type": "stream",
     "text": [
      "May 02, 2022 14:36:02\n",
      "May 02, 2022 14:36:02\n",
      "May 02, 2022 14:36:02\n"
     ]
    }
   ],
   "source": [
    "# the expected behavior of the function is everytime we run the function, it gives the current time if we don't provide\n",
    "# the time\n",
    "\n",
    "display_time()\n",
    "time.sleep(1)\n",
    "display_time()\n",
    "time.sleep(1)\n",
    "display_time()"
   ]
  },
  {
   "cell_type": "code",
   "execution_count": 16,
   "id": "04a38600",
   "metadata": {},
   "outputs": [],
   "source": [
    "def display_time(time = None):\n",
    "    if time is None:\n",
    "        time = datetime.now()\n",
    "    print(time.strftime(\"%B %d, %Y %H:%M:%S\"))"
   ]
  },
  {
   "cell_type": "code",
   "execution_count": 17,
   "id": "b3abc379",
   "metadata": {},
   "outputs": [
    {
     "name": "stdout",
     "output_type": "stream",
     "text": [
      "May 02, 2022 14:45:07\n",
      "May 02, 2022 14:45:08\n",
      "May 02, 2022 14:45:09\n"
     ]
    }
   ],
   "source": [
    "display_time()\n",
    "time.sleep(1)\n",
    "display_time()\n",
    "time.sleep(1)\n",
    "display_time()"
   ]
  },
  {
   "cell_type": "markdown",
   "id": "e79e2949",
   "metadata": {},
   "source": [
    "## Exhausting iterators\n",
    "\n",
    "`generators` are `exhaustive` i.e., it can be used / looped only once, whereas\n",
    "\n",
    "`iterators` are `non-exhaustive` i.e., it can be used / looped multiple times."
   ]
  },
  {
   "cell_type": "code",
   "execution_count": 18,
   "id": "42a0a480",
   "metadata": {},
   "outputs": [],
   "source": [
    "names = [\"Bruce\", \"Natasha\", \"Tony\", \"Logan\", \"Peggy\"]\n",
    "super_heroes = [\"Batman\", \"BlackWidow\", \"Ironman\", \"Wolverine\", \"Captain Carter\"]"
   ]
  },
  {
   "cell_type": "code",
   "execution_count": 22,
   "id": "4af9ceed",
   "metadata": {},
   "outputs": [],
   "source": [
    "identities = zip(names, super_heroes) # returns a generator"
   ]
  },
  {
   "cell_type": "code",
   "execution_count": 27,
   "id": "4f9d2524",
   "metadata": {},
   "outputs": [
    {
     "data": {
      "text/plain": [
       "<zip at 0x1e1e2f5f280>"
      ]
     },
     "execution_count": 27,
     "metadata": {},
     "output_type": "execute_result"
    }
   ],
   "source": [
    "identities # zip object - a generator"
   ]
  },
  {
   "cell_type": "code",
   "execution_count": 29,
   "id": "77eac2e8",
   "metadata": {},
   "outputs": [],
   "source": [
    "for name, super_hero in identities:\n",
    "    print(name, super_hero, sep=\" - \")"
   ]
  }
 ],
 "metadata": {
  "kernelspec": {
   "display_name": "Python 3 (ipykernel)",
   "language": "python",
   "name": "python3"
  },
  "language_info": {
   "codemirror_mode": {
    "name": "ipython",
    "version": 3
   },
   "file_extension": ".py",
   "mimetype": "text/x-python",
   "name": "python",
   "nbconvert_exporter": "python",
   "pygments_lexer": "ipython3",
   "version": "3.10.4"
  }
 },
 "nbformat": 4,
 "nbformat_minor": 5
}
