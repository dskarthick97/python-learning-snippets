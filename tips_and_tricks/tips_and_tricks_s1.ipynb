{
 "cells": [
  {
   "cell_type": "markdown",
   "id": "b46ddfa7",
   "metadata": {},
   "source": [
    "## Ternary Operators / Conditionals"
   ]
  },
  {
   "cell_type": "code",
   "execution_count": 1,
   "id": "eb60cc53",
   "metadata": {},
   "outputs": [
    {
     "name": "stdout",
     "output_type": "stream",
     "text": [
      "1\n"
     ]
    }
   ],
   "source": [
    "# normal if else condition\n",
    "\n",
    "condition = True\n",
    "\n",
    "if condition:\n",
    "    x = 1\n",
    "else:\n",
    "    x = 0\n",
    "    \n",
    "print(x)"
   ]
  },
  {
   "cell_type": "code",
   "execution_count": 2,
   "id": "69da2307",
   "metadata": {},
   "outputs": [
    {
     "name": "stdout",
     "output_type": "stream",
     "text": [
      "1\n"
     ]
    }
   ],
   "source": [
    "# using ternary expression\n",
    "\n",
    "y = 1 if condition else 0\n",
    "print(y)"
   ]
  },
  {
   "cell_type": "markdown",
   "id": "0437c915",
   "metadata": {},
   "source": [
    "## Underscore placeholders\n",
    "\n",
    "increases readabilitiy of large numbers"
   ]
  },
  {
   "cell_type": "code",
   "execution_count": 7,
   "id": "87736ba8",
   "metadata": {},
   "outputs": [],
   "source": [
    "# without underscore placeholders\n",
    "\n",
    "num_1 = 1000000000\n",
    "num_2 = 1000000"
   ]
  },
  {
   "cell_type": "code",
   "execution_count": 8,
   "id": "19fcd1b7",
   "metadata": {},
   "outputs": [],
   "source": [
    "# without underscore placeholders\n",
    "\n",
    "num_1 = 10_000_000_000\n",
    "num_2 = 1_000_000"
   ]
  },
  {
   "cell_type": "code",
   "execution_count": 9,
   "id": "443c900a",
   "metadata": {},
   "outputs": [
    {
     "data": {
      "text/plain": [
       "10001000000"
      ]
     },
     "execution_count": 9,
     "metadata": {},
     "output_type": "execute_result"
    }
   ],
   "source": [
    "num_1 + num_2"
   ]
  },
  {
   "cell_type": "code",
   "execution_count": 10,
   "id": "7fdb323e",
   "metadata": {},
   "outputs": [
    {
     "data": {
      "text/plain": [
       "'10,001,000,000'"
      ]
     },
     "execution_count": 10,
     "metadata": {},
     "output_type": "execute_result"
    }
   ],
   "source": [
    "# to include placeholders in the output as well\n",
    "\n",
    "f\"{num_1 + num_2:,}\""
   ]
  },
  {
   "cell_type": "markdown",
   "id": "671395f9",
   "metadata": {},
   "source": [
    "## Enumerate"
   ]
  },
  {
   "cell_type": "code",
   "execution_count": 7,
   "id": "5de0c026",
   "metadata": {},
   "outputs": [],
   "source": [
    "names = [\"Bruce\", \"Natasha\", \"Tony\", \"Logan\", \"Peggy\"]"
   ]
  },
  {
   "cell_type": "code",
   "execution_count": 8,
   "id": "a1292a1b",
   "metadata": {},
   "outputs": [
    {
     "name": "stdout",
     "output_type": "stream",
     "text": [
      "0 Bruce\n",
      "1 Natasha\n",
      "2 Tony\n",
      "3 Logan\n",
      "4 Peggy\n"
     ]
    }
   ],
   "source": [
    "# normal code to access index while looping\n",
    "\n",
    "index = 0\n",
    "for name in names:\n",
    "    print(index, name)\n",
    "    index += 1"
   ]
  },
  {
   "cell_type": "code",
   "execution_count": 9,
   "id": "5bf37bdd",
   "metadata": {},
   "outputs": [
    {
     "name": "stdout",
     "output_type": "stream",
     "text": [
      "0 Bruce\n",
      "1 Natasha\n",
      "2 Tony\n",
      "3 Logan\n",
      "4 Peggy\n"
     ]
    }
   ],
   "source": [
    "# there is a better way to do this\n",
    "\n",
    "for index, name in enumerate(names): # enumerate(iterable, start)\n",
    "    print(index, name)"
   ]
  },
  {
   "cell_type": "markdown",
   "id": "05e9b784",
   "metadata": {},
   "source": [
    "## zip"
   ]
  },
  {
   "cell_type": "code",
   "execution_count": 10,
   "id": "8da3ab17",
   "metadata": {},
   "outputs": [],
   "source": [
    "super_heroes = [\"Batman\", \"BlackWidow\", \"Ironman\", \"Wolverine\", \"Captain Carter\"]"
   ]
  },
  {
   "cell_type": "code",
   "execution_count": 12,
   "id": "9a039d3e",
   "metadata": {},
   "outputs": [
    {
     "name": "stdout",
     "output_type": "stream",
     "text": [
      "Bruce is actually Batman\n",
      "Natasha is actually BlackWidow\n",
      "Tony is actually Ironman\n",
      "Logan is actually Wolverine\n",
      "Peggy is actually Captain Carter\n"
     ]
    }
   ],
   "source": [
    "# normal way of looping two lists at once\n",
    "\n",
    "for index, name in enumerate(names):\n",
    "    hero = super_heroes[index]\n",
    "    print(f\"{name} is actually {hero}\")"
   ]
  },
  {
   "cell_type": "code",
   "execution_count": 15,
   "id": "abb05294",
   "metadata": {},
   "outputs": [
    {
     "name": "stdout",
     "output_type": "stream",
     "text": [
      "Bruce is actually Batman\n",
      "Natasha is actually BlackWidow\n",
      "Tony is actually Ironman\n",
      "Logan is actually Wolverine\n",
      "Peggy is actually Captain Carter\n"
     ]
    }
   ],
   "source": [
    "# there is a better way to do this usins zip function\n",
    "\n",
    "# list(zip(names, super_heroes))\n",
    "for name, super_hero in zip(names, super_heroes):\n",
    "    print(f\"{name} is actually {super_hero}\")"
   ]
  },
  {
   "cell_type": "markdown",
   "id": "3e48c85e",
   "metadata": {},
   "source": [
    "## unpacking"
   ]
  },
  {
   "cell_type": "code",
   "execution_count": 17,
   "id": "29c0eeca",
   "metadata": {},
   "outputs": [
    {
     "data": {
      "text/plain": [
       "(1, 2)"
      ]
     },
     "execution_count": 17,
     "metadata": {},
     "output_type": "execute_result"
    }
   ],
   "source": [
    "items = (1, 2)\n",
    "\n",
    "a, b = items"
   ]
  },
  {
   "cell_type": "markdown",
   "id": "d20901e0",
   "metadata": {},
   "source": [
    "anytime wants to ignore the variable, the convention is `_`"
   ]
  },
  {
   "cell_type": "code",
   "execution_count": 18,
   "id": "d80196f6",
   "metadata": {},
   "outputs": [],
   "source": [
    "a, _ = items"
   ]
  },
  {
   "cell_type": "code",
   "execution_count": 21,
   "id": "ae87ccd7",
   "metadata": {},
   "outputs": [
    {
     "data": {
      "text/plain": [
       "[3, 4, 5]"
      ]
     },
     "execution_count": 21,
     "metadata": {},
     "output_type": "execute_result"
    }
   ],
   "source": [
    "# * - rest operator\n",
    "\n",
    "a, b, *c = (1, 2, 3, 4, 5)\n",
    "c"
   ]
  },
  {
   "cell_type": "code",
   "execution_count": 24,
   "id": "1b87977b",
   "metadata": {},
   "outputs": [
    {
     "name": "stdout",
     "output_type": "stream",
     "text": [
      "[3, 4] - 5\n"
     ]
    }
   ],
   "source": [
    "a, b, *c, d = (1, 2, 3, 4, 5)\n",
    "print(c, d, sep=\" - \")"
   ]
  },
  {
   "cell_type": "markdown",
   "id": "c0cb207c",
   "metadata": {},
   "source": [
    "## setattr & getattr"
   ]
  },
  {
   "cell_type": "code",
   "execution_count": 25,
   "id": "b3b507d4",
   "metadata": {},
   "outputs": [],
   "source": [
    "class Person:\n",
    "    pass"
   ]
  },
  {
   "cell_type": "code",
   "execution_count": 27,
   "id": "02be969d",
   "metadata": {},
   "outputs": [],
   "source": [
    "person = Person()"
   ]
  },
  {
   "cell_type": "code",
   "execution_count": 28,
   "id": "9bca1ce5",
   "metadata": {},
   "outputs": [],
   "source": [
    "# dynamically adding attributes and values to the objects\n",
    "\n",
    "person.first_name = \"Bruce\"\n",
    "person.last_name = \"Wayne\""
   ]
  },
  {
   "cell_type": "code",
   "execution_count": 29,
   "id": "e88d1f5c",
   "metadata": {},
   "outputs": [
    {
     "data": {
      "text/plain": [
       "'Bruce'"
      ]
     },
     "execution_count": 29,
     "metadata": {},
     "output_type": "execute_result"
    }
   ],
   "source": [
    "person.first_name"
   ]
  },
  {
   "cell_type": "code",
   "execution_count": 30,
   "id": "7b3ad1e9",
   "metadata": {},
   "outputs": [
    {
     "data": {
      "text/plain": [
       "'Wayne'"
      ]
     },
     "execution_count": 30,
     "metadata": {},
     "output_type": "execute_result"
    }
   ],
   "source": [
    "person.last_name"
   ]
  },
  {
   "cell_type": "code",
   "execution_count": 31,
   "id": "2dc11184",
   "metadata": {},
   "outputs": [],
   "source": [
    "first_key = \"first_name\"\n",
    "first_val = \"Bruce\""
   ]
  },
  {
   "cell_type": "code",
   "execution_count": 34,
   "id": "0e65aa90",
   "metadata": {},
   "outputs": [
    {
     "data": {
      "text/plain": [
       "<__main__.Person at 0x26ee5ecd870>"
      ]
     },
     "execution_count": 34,
     "metadata": {},
     "output_type": "execute_result"
    }
   ],
   "source": [
    "# what if we wants to use / set the value of a variable as attribute\n",
    "# eg., {first_key: first_val} this should become {\"first_name\": \"Bruce\"}\n",
    "\n",
    "# if we set the attribute like this\n",
    "person.first_key = first_val # this will set the attribute name literally as first_key\n",
    "person"
   ]
  },
  {
   "cell_type": "code",
   "execution_count": 37,
   "id": "a36e0aa5",
   "metadata": {},
   "outputs": [
    {
     "data": {
      "text/plain": [
       "'Bruce'"
      ]
     },
     "execution_count": 37,
     "metadata": {},
     "output_type": "execute_result"
    }
   ],
   "source": [
    "# in order to set so\n",
    "\n",
    "setattr(person, first_key, first_val)\n",
    "person.first_key"
   ]
  },
  {
   "cell_type": "code",
   "execution_count": 38,
   "id": "66dead5a",
   "metadata": {},
   "outputs": [
    {
     "data": {
      "text/plain": [
       "'Bruce'"
      ]
     },
     "execution_count": 38,
     "metadata": {},
     "output_type": "execute_result"
    }
   ],
   "source": [
    "# to get a value\n",
    "\n",
    "getattr(person, first_key)"
   ]
  },
  {
   "cell_type": "code",
   "execution_count": 43,
   "id": "0b4e6abd",
   "metadata": {},
   "outputs": [],
   "source": [
    "# actual use case of setattr & getattr\n",
    "\n",
    "person_info = {\"first_name\": \"Peggy\", \"last_name\": \"Carter\"}"
   ]
  },
  {
   "cell_type": "code",
   "execution_count": 45,
   "id": "2a1aff9f",
   "metadata": {},
   "outputs": [],
   "source": [
    "for key, value in person_info.items():\n",
    "    setattr(person, key, value)"
   ]
  },
  {
   "cell_type": "code",
   "execution_count": 46,
   "id": "8d930895",
   "metadata": {},
   "outputs": [],
   "source": [
    "for key in person_info.keys():\n",
    "    getattr(person, key)"
   ]
  },
  {
   "cell_type": "markdown",
   "id": "ce659796",
   "metadata": {},
   "source": [
    "## getpass\n",
    "\n",
    "inputting secret information"
   ]
  },
  {
   "cell_type": "markdown",
   "id": "a049977a",
   "metadata": {},
   "source": [
    "## help & dir"
   ]
  },
  {
   "cell_type": "code",
   "execution_count": 47,
   "id": "11a528ab",
   "metadata": {},
   "outputs": [
    {
     "name": "stderr",
     "output_type": "stream",
     "text": [
      "C:\\Users\\karthick.dhilip\\AppData\\Local\\Temp\\ipykernel_10484\\1412247374.py:1: DeprecationWarning: The smtpd module is deprecated and unmaintained and will be removed in Python 3.12.  Please see aiosmtpd (https://aiosmtpd.readthedocs.io/) for the recommended replacement.\n",
      "  import smtpd\n"
     ]
    }
   ],
   "source": [
    "import smtpd"
   ]
  },
  {
   "cell_type": "code",
   "execution_count": null,
   "id": "5b1934e8",
   "metadata": {},
   "outputs": [],
   "source": [
    "help(smtpd)"
   ]
  },
  {
   "cell_type": "code",
   "execution_count": 50,
   "id": "be2a4b3e",
   "metadata": {},
   "outputs": [],
   "source": [
    "from datetime import datetime"
   ]
  },
  {
   "cell_type": "code",
   "execution_count": 51,
   "id": "cc1d0037",
   "metadata": {},
   "outputs": [
    {
     "data": {
      "text/plain": [
       "['__add__',\n",
       " '__class__',\n",
       " '__delattr__',\n",
       " '__dir__',\n",
       " '__doc__',\n",
       " '__eq__',\n",
       " '__format__',\n",
       " '__ge__',\n",
       " '__getattribute__',\n",
       " '__gt__',\n",
       " '__hash__',\n",
       " '__init__',\n",
       " '__init_subclass__',\n",
       " '__le__',\n",
       " '__lt__',\n",
       " '__ne__',\n",
       " '__new__',\n",
       " '__radd__',\n",
       " '__reduce__',\n",
       " '__reduce_ex__',\n",
       " '__repr__',\n",
       " '__rsub__',\n",
       " '__setattr__',\n",
       " '__sizeof__',\n",
       " '__str__',\n",
       " '__sub__',\n",
       " '__subclasshook__',\n",
       " 'astimezone',\n",
       " 'combine',\n",
       " 'ctime',\n",
       " 'date',\n",
       " 'day',\n",
       " 'dst',\n",
       " 'fold',\n",
       " 'fromisocalendar',\n",
       " 'fromisoformat',\n",
       " 'fromordinal',\n",
       " 'fromtimestamp',\n",
       " 'hour',\n",
       " 'isocalendar',\n",
       " 'isoformat',\n",
       " 'isoweekday',\n",
       " 'max',\n",
       " 'microsecond',\n",
       " 'min',\n",
       " 'minute',\n",
       " 'month',\n",
       " 'now',\n",
       " 'replace',\n",
       " 'resolution',\n",
       " 'second',\n",
       " 'strftime',\n",
       " 'strptime',\n",
       " 'time',\n",
       " 'timestamp',\n",
       " 'timetuple',\n",
       " 'timetz',\n",
       " 'today',\n",
       " 'toordinal',\n",
       " 'tzinfo',\n",
       " 'tzname',\n",
       " 'utcfromtimestamp',\n",
       " 'utcnow',\n",
       " 'utcoffset',\n",
       " 'utctimetuple',\n",
       " 'weekday',\n",
       " 'year']"
      ]
     },
     "execution_count": 51,
     "metadata": {},
     "output_type": "execute_result"
    }
   ],
   "source": [
    "dir(datetime)"
   ]
  }
 ],
 "metadata": {
  "kernelspec": {
   "display_name": "Python 3 (ipykernel)",
   "language": "python",
   "name": "python3"
  },
  "language_info": {
   "codemirror_mode": {
    "name": "ipython",
    "version": 3
   },
   "file_extension": ".py",
   "mimetype": "text/x-python",
   "name": "python",
   "nbconvert_exporter": "python",
   "pygments_lexer": "ipython3",
   "version": "3.10.4"
  }
 },
 "nbformat": 4,
 "nbformat_minor": 5
}
