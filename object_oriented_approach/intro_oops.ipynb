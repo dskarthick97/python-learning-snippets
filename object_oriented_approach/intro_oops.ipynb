{
 "cells": [
  {
   "cell_type": "markdown",
   "id": "23454eda",
   "metadata": {},
   "source": [
    "# OOPS"
   ]
  },
  {
   "cell_type": "markdown",
   "id": "22317608",
   "metadata": {},
   "source": [
    "## I. without oops"
   ]
  },
  {
   "cell_type": "code",
   "execution_count": 7,
   "id": "54a76e87",
   "metadata": {},
   "outputs": [],
   "source": [
    "# keeping track of people\n",
    "\n",
    "# each person tuple contains:\n",
    "# 0: first name\n",
    "# 1: last name\n",
    "# 2: age\n",
    "# 3: gender\n",
    "\n",
    "person = (\"Karthick\", \"Sabari\", 24, \"male\")"
   ]
  },
  {
   "cell_type": "code",
   "execution_count": 2,
   "id": "b05f074d",
   "metadata": {},
   "outputs": [
    {
     "data": {
      "text/plain": [
       "'Karthick'"
      ]
     },
     "execution_count": 2,
     "metadata": {},
     "output_type": "execute_result"
    }
   ],
   "source": [
    "# retrieving data\n",
    "person[0]"
   ]
  },
  {
   "cell_type": "code",
   "execution_count": 3,
   "id": "1c53ab06",
   "metadata": {},
   "outputs": [
    {
     "data": {
      "text/plain": [
       "'Sabari'"
      ]
     },
     "execution_count": 3,
     "metadata": {},
     "output_type": "execute_result"
    }
   ],
   "source": [
    "person[1]"
   ]
  },
  {
   "cell_type": "code",
   "execution_count": 4,
   "id": "7baeddea",
   "metadata": {},
   "outputs": [],
   "source": [
    "def get_first_name(person):\n",
    "    return person[0]\n",
    "\n",
    "\n",
    "def get_last_name(person):\n",
    "    return person[1]\n",
    "\n",
    "\n",
    "def get_age(person):\n",
    "    return person[2]\n",
    "\n",
    "\n",
    "def get_gender(person):\n",
    "    return person[3]\n",
    "\n",
    "\n",
    "def get_full_name(person):\n",
    "    return f\"{person[0]} {person[1]}\""
   ]
  },
  {
   "cell_type": "code",
   "execution_count": 5,
   "id": "49bd25cb",
   "metadata": {},
   "outputs": [
    {
     "data": {
      "text/plain": [
       "'Karthick Sabari'"
      ]
     },
     "execution_count": 5,
     "metadata": {},
     "output_type": "execute_result"
    }
   ],
   "source": [
    "get_full_name(person)"
   ]
  },
  {
   "cell_type": "code",
   "execution_count": 6,
   "id": "06915161",
   "metadata": {},
   "outputs": [
    {
     "data": {
      "text/plain": [
       "24"
      ]
     },
     "execution_count": 6,
     "metadata": {},
     "output_type": "execute_result"
    }
   ],
   "source": [
    "get_age(person)"
   ]
  },
  {
   "cell_type": "code",
   "execution_count": 8,
   "id": "45fd6ae7",
   "metadata": {},
   "outputs": [],
   "source": [
    "# here the data is on the one side and the functions\n",
    "# are on the other side. There is no relation between them\n",
    "\n",
    "# each person tuple contains:\n",
    "# 0: first name\n",
    "# 1: last name\n",
    "# 2: age\n",
    "# 3: gender\n",
    "# 4: country\n",
    "\n",
    "person = (\"Karthick\", \"Sabari\", 24, \"male\", \"India\")\n",
    "\n",
    "def get_first_name(person):\n",
    "    return person[0]\n",
    "\n",
    "\n",
    "def get_last_name(person):\n",
    "    return person[1]\n",
    "\n",
    "\n",
    "def get_age(person):\n",
    "    return person[2]\n",
    "\n",
    "\n",
    "def get_gender(person):\n",
    "    return person[3]\n",
    "\n",
    "\n",
    "def get_full_name(person):\n",
    "    return f\"{person[0]} {person[1]}\"\n",
    "\n",
    "\n",
    "def get_country(person):\n",
    "    return person[4]"
   ]
  },
  {
   "cell_type": "code",
   "execution_count": 15,
   "id": "f750899b",
   "metadata": {},
   "outputs": [],
   "source": [
    "# a class defines a new type of data in Python\n",
    "\n",
    "class Person:\n",
    "    # dunder init -- \"double underscore before and after the word, init\"\n",
    "    # any dunder method in Python is special -- we normally don't invoke it ourselves,\n",
    "    # but we let Python invoke it on our behalf at particular points in time.\n",
    "    \n",
    "    # this method is invoked immediately after a new Person object is created, but before it\n",
    "    # is returned to the user\n",
    "    \n",
    "    # the role of __init__ is to add new attributes (after a dot) to the newly created object\n",
    "    # the first parameter for any method is called \"self\"\n",
    "    # any attribute we assign to self will be added to the new object\n",
    "    def __init__(self, first_name, last_name):\n",
    "        self.first_name = first_name\n",
    "        self.last_name = last_name\n",
    "        \n",
    "    def full_name(self):\n",
    "        return f\"{self.first_name} {self.last_name}\""
   ]
  },
  {
   "cell_type": "code",
   "execution_count": 17,
   "id": "6158b994",
   "metadata": {},
   "outputs": [],
   "source": [
    "# I call the Person class and get back a new object of type Person\n",
    "\n",
    "person = Person(\"Tony\", \"Stark\")"
   ]
  },
  {
   "cell_type": "code",
   "execution_count": 18,
   "id": "4c85012b",
   "metadata": {},
   "outputs": [
    {
     "data": {
      "text/plain": [
       "'Tony'"
      ]
     },
     "execution_count": 18,
     "metadata": {},
     "output_type": "execute_result"
    }
   ],
   "source": [
    "person.first_name"
   ]
  },
  {
   "cell_type": "code",
   "execution_count": 19,
   "id": "f95c8694",
   "metadata": {},
   "outputs": [
    {
     "data": {
      "text/plain": [
       "'Stark'"
      ]
     },
     "execution_count": 19,
     "metadata": {},
     "output_type": "execute_result"
    }
   ],
   "source": [
    "person.last_name"
   ]
  },
  {
   "cell_type": "code",
   "execution_count": 20,
   "id": "37550bbc",
   "metadata": {},
   "outputs": [
    {
     "data": {
      "text/plain": [
       "{'first_name': 'Tony', 'last_name': 'Stark'}"
      ]
     },
     "execution_count": 20,
     "metadata": {},
     "output_type": "execute_result"
    }
   ],
   "source": [
    "vars(person)"
   ]
  },
  {
   "cell_type": "code",
   "execution_count": 21,
   "id": "b42c6014",
   "metadata": {},
   "outputs": [
    {
     "data": {
      "text/plain": [
       "{'first_name': 'Elon', 'last_name': 'Musk'}"
      ]
     },
     "execution_count": 21,
     "metadata": {},
     "output_type": "execute_result"
    }
   ],
   "source": [
    "another_person = Person(\"Elon\", \"Musk\")\n",
    "\n",
    "vars(another_person)"
   ]
  },
  {
   "cell_type": "code",
   "execution_count": 22,
   "id": "ede67ab9",
   "metadata": {},
   "outputs": [
    {
     "data": {
      "text/plain": [
       "'Elon Musk'"
      ]
     },
     "execution_count": 22,
     "metadata": {},
     "output_type": "execute_result"
    }
   ],
   "source": [
    "another_person.full_name()"
   ]
  },
  {
   "cell_type": "code",
   "execution_count": 23,
   "id": "88478190",
   "metadata": {},
   "outputs": [
    {
     "data": {
      "text/plain": [
       "'Tony Stark'"
      ]
     },
     "execution_count": 23,
     "metadata": {},
     "output_type": "execute_result"
    }
   ],
   "source": [
    "person.full_name()"
   ]
  }
 ],
 "metadata": {
  "kernelspec": {
   "display_name": "Python 3 (ipykernel)",
   "language": "python",
   "name": "python3"
  },
  "language_info": {
   "codemirror_mode": {
    "name": "ipython",
    "version": 3
   },
   "file_extension": ".py",
   "mimetype": "text/x-python",
   "name": "python",
   "nbconvert_exporter": "python",
   "pygments_lexer": "ipython3",
   "version": "3.10.4"
  }
 },
 "nbformat": 4,
 "nbformat_minor": 5
}
