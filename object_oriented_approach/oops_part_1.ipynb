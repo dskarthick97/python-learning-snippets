{
 "cells": [
  {
   "cell_type": "markdown",
   "id": "33cb4d89",
   "metadata": {},
   "source": [
    "# Class\n",
    "\n",
    "- abstract concept\n",
    "\n",
    "# Object\n",
    "\n",
    "- concrete instance of a class. There can be multiple objects of the same class."
   ]
  },
  {
   "cell_type": "code",
   "execution_count": 3,
   "id": "ecbd20da",
   "metadata": {},
   "outputs": [
    {
     "data": {
      "text/plain": [
       "True"
      ]
     },
     "execution_count": 3,
     "metadata": {},
     "output_type": "execute_result"
    }
   ],
   "source": [
    "import sys\n",
    "import statistics\n",
    "\n",
    "\"statistics\" in sys.modules"
   ]
  },
  {
   "cell_type": "code",
   "execution_count": 9,
   "id": "92044eae",
   "metadata": {},
   "outputs": [],
   "source": [
    "# creating a class\n",
    "\n",
    "class NumberList:\n",
    "    \n",
    "    def __init__(self, *numbers):\n",
    "        self._data = numbers\n",
    "        \n",
    "        # self.length = len(numbers)\n",
    "        \n",
    "    @property\n",
    "    def length(self):\n",
    "        return len(self._data)\n",
    "        \n",
    "    def mean(self):\n",
    "        return statistics.mean(self._data)"
   ]
  },
  {
   "cell_type": "code",
   "execution_count": 10,
   "id": "d4ff677e",
   "metadata": {},
   "outputs": [],
   "source": [
    "fibo = NumberList(1, 1, 2, 3, 5)"
   ]
  },
  {
   "cell_type": "code",
   "execution_count": 11,
   "id": "dd913177",
   "metadata": {},
   "outputs": [
    {
     "data": {
      "text/plain": [
       "2.4"
      ]
     },
     "execution_count": 11,
     "metadata": {},
     "output_type": "execute_result"
    }
   ],
   "source": [
    "fibo.mean()"
   ]
  },
  {
   "cell_type": "code",
   "execution_count": 12,
   "id": "34b62fbb",
   "metadata": {},
   "outputs": [
    {
     "data": {
      "text/plain": [
       "5"
      ]
     },
     "execution_count": 12,
     "metadata": {},
     "output_type": "execute_result"
    }
   ],
   "source": [
    "fibo.length  # here the length is calculated on the fly when called."
   ]
  },
  {
   "cell_type": "code",
   "execution_count": 13,
   "id": "227069e6",
   "metadata": {},
   "outputs": [
    {
     "data": {
      "text/plain": [
       "<__main__.NumberList at 0x18f0f360820>"
      ]
     },
     "execution_count": 13,
     "metadata": {},
     "output_type": "execute_result"
    }
   ],
   "source": [
    "fibo"
   ]
  },
  {
   "cell_type": "code",
   "execution_count": 14,
   "id": "3df38a2d",
   "metadata": {},
   "outputs": [
    {
     "ename": "TypeError",
     "evalue": "'NumberList' object is not iterable",
     "output_type": "error",
     "traceback": [
      "\u001b[1;31m---------------------------------------------------------------------------\u001b[0m",
      "\u001b[1;31mTypeError\u001b[0m                                 Traceback (most recent call last)",
      "Input \u001b[1;32mIn [14]\u001b[0m, in \u001b[0;36m<cell line: 1>\u001b[1;34m()\u001b[0m\n\u001b[1;32m----> 1\u001b[0m \u001b[38;5;28;01mfor\u001b[39;00m number \u001b[38;5;129;01min\u001b[39;00m fibo:\n\u001b[0;32m      2\u001b[0m     \u001b[38;5;28mprint\u001b[39m(number)\n",
      "\u001b[1;31mTypeError\u001b[0m: 'NumberList' object is not iterable"
     ]
    }
   ],
   "source": [
    "# here the NumberList object doesn't have the functionality that allows\n",
    "# the python interpreter to loop through the object\n",
    "\n",
    "for number in fibo:\n",
    "    print(number)"
   ]
  },
  {
   "cell_type": "markdown",
   "id": "f98d3285",
   "metadata": {},
   "source": [
    "## Inheritance"
   ]
  },
  {
   "cell_type": "code",
   "execution_count": 26,
   "id": "d33ee4cd",
   "metadata": {},
   "outputs": [],
   "source": [
    "# we can implement the iterable functionality in two ways.\n",
    "# (1) -- Inheritance\n",
    "# (2) -- explicit implementation\n",
    "\n",
    "# inheritance\n",
    "class NumberList(list):\n",
    "    \n",
    "    def __init__(self, *numbers):\n",
    "        for number in numbers:\n",
    "            if not isinstance(number, (int, float)):\n",
    "                raise TypeError(\"Expecting numbers...\")\n",
    "\n",
    "        super().__init__(numbers)\n",
    "        \n",
    "    @property\n",
    "    def length(self):\n",
    "        return len(self)\n",
    "    \n",
    "    def mean(self):\n",
    "        return statistics.mean(self)"
   ]
  },
  {
   "cell_type": "code",
   "execution_count": 27,
   "id": "33ee922b",
   "metadata": {},
   "outputs": [],
   "source": [
    "inheritance_fibo = NumberList(1, 1, 2, 3, 5)"
   ]
  },
  {
   "cell_type": "code",
   "execution_count": 28,
   "id": "37bf75b7",
   "metadata": {},
   "outputs": [
    {
     "data": {
      "text/plain": [
       "[1, 1, 2, 3, 5]"
      ]
     },
     "execution_count": 28,
     "metadata": {},
     "output_type": "execute_result"
    }
   ],
   "source": [
    "inheritance_fibo"
   ]
  },
  {
   "cell_type": "code",
   "execution_count": 29,
   "id": "2e1cb253",
   "metadata": {},
   "outputs": [
    {
     "data": {
      "text/plain": [
       "5"
      ]
     },
     "execution_count": 29,
     "metadata": {},
     "output_type": "execute_result"
    }
   ],
   "source": [
    "inheritance_fibo.length"
   ]
  },
  {
   "cell_type": "code",
   "execution_count": 30,
   "id": "be220379",
   "metadata": {},
   "outputs": [
    {
     "name": "stdout",
     "output_type": "stream",
     "text": [
      "1\n",
      "1\n",
      "2\n",
      "3\n",
      "5\n"
     ]
    }
   ],
   "source": [
    "for num in inheritance_fibo:\n",
    "    print(num)"
   ]
  },
  {
   "cell_type": "code",
   "execution_count": 31,
   "id": "2a53e9b7",
   "metadata": {},
   "outputs": [
    {
     "ename": "TypeError",
     "evalue": "Expecting numbers...",
     "output_type": "error",
     "traceback": [
      "\u001b[1;31m---------------------------------------------------------------------------\u001b[0m",
      "\u001b[1;31mTypeError\u001b[0m                                 Traceback (most recent call last)",
      "Input \u001b[1;32mIn [31]\u001b[0m, in \u001b[0;36m<cell line: 1>\u001b[1;34m()\u001b[0m\n\u001b[1;32m----> 1\u001b[0m error_fibo \u001b[38;5;241m=\u001b[39m \u001b[43mNumberList\u001b[49m\u001b[43m(\u001b[49m\u001b[38;5;241;43m1\u001b[39;49m\u001b[43m,\u001b[49m\u001b[43m \u001b[49m\u001b[38;5;241;43m1\u001b[39;49m\u001b[43m,\u001b[49m\u001b[43m \u001b[49m\u001b[38;5;241;43m2\u001b[39;49m\u001b[43m,\u001b[49m\u001b[43m \u001b[49m\u001b[38;5;241;43m3\u001b[39;49m\u001b[43m,\u001b[49m\u001b[43m \u001b[49m\u001b[38;5;241;43m5\u001b[39;49m\u001b[43m,\u001b[49m\u001b[43m \u001b[49m\u001b[38;5;124;43m\"\u001b[39;49m\u001b[38;5;124;43ma\u001b[39;49m\u001b[38;5;124;43m\"\u001b[39;49m\u001b[43m)\u001b[49m\n",
      "Input \u001b[1;32mIn [26]\u001b[0m, in \u001b[0;36mNumberList.__init__\u001b[1;34m(self, *numbers)\u001b[0m\n\u001b[0;32m      9\u001b[0m \u001b[38;5;28;01mfor\u001b[39;00m number \u001b[38;5;129;01min\u001b[39;00m numbers:\n\u001b[0;32m     10\u001b[0m     \u001b[38;5;28;01mif\u001b[39;00m \u001b[38;5;129;01mnot\u001b[39;00m \u001b[38;5;28misinstance\u001b[39m(number, (\u001b[38;5;28mint\u001b[39m, \u001b[38;5;28mfloat\u001b[39m)):\n\u001b[1;32m---> 11\u001b[0m         \u001b[38;5;28;01mraise\u001b[39;00m \u001b[38;5;167;01mTypeError\u001b[39;00m(\u001b[38;5;124m\"\u001b[39m\u001b[38;5;124mExpecting numbers...\u001b[39m\u001b[38;5;124m\"\u001b[39m)\n\u001b[0;32m     13\u001b[0m \u001b[38;5;28msuper\u001b[39m()\u001b[38;5;241m.\u001b[39m\u001b[38;5;21m__init__\u001b[39m(numbers)\n",
      "\u001b[1;31mTypeError\u001b[0m: Expecting numbers..."
     ]
    }
   ],
   "source": [
    "error_fibo = NumberList(1, 1, 2, 3, 5, \"a\")"
   ]
  },
  {
   "cell_type": "markdown",
   "id": "598cfe45",
   "metadata": {},
   "source": [
    "## super()"
   ]
  },
  {
   "cell_type": "code",
   "execution_count": 33,
   "id": "bd72e66b",
   "metadata": {},
   "outputs": [],
   "source": [
    "class MusicBand:\n",
    "    \n",
    "    def __init__(self):\n",
    "        print(\"MusicBand\")"
   ]
  },
  {
   "cell_type": "code",
   "execution_count": 36,
   "id": "c64cba33",
   "metadata": {},
   "outputs": [],
   "source": [
    "class OneRepublic(MusicBand):\n",
    "    \n",
    "    def __init__(self):\n",
    "        print(\"OneRepublic\")\n",
    "        \n",
    "        super().__init__()  # MusicBand.__init__(self)\n",
    "        # super(MusicBand, self).__init__()  # old way of using super"
   ]
  },
  {
   "cell_type": "code",
   "execution_count": 37,
   "id": "c74e3e5e",
   "metadata": {},
   "outputs": [
    {
     "name": "stdout",
     "output_type": "stream",
     "text": [
      "OneRepublic\n",
      "MusicBand\n"
     ]
    }
   ],
   "source": [
    "one_republic = OneRepublic()"
   ]
  },
  {
   "cell_type": "markdown",
   "id": "f33b46fc",
   "metadata": {},
   "source": [
    "Syntactically there is no difference between using `BaseClass.__init__(self)` and `super().__init__()`. But there is a slight difference between them functionally"
   ]
  },
  {
   "cell_type": "code",
   "execution_count": 38,
   "id": "957856ba",
   "metadata": {},
   "outputs": [],
   "source": [
    "class OneRepublic(MusicBand):\n",
    "    \n",
    "    def __init__(self):\n",
    "        print(\"OneRepublic\")\n",
    "        \n",
    "        MusicBand.__init__(self)"
   ]
  },
  {
   "cell_type": "code",
   "execution_count": 39,
   "id": "cf7e9d80",
   "metadata": {},
   "outputs": [],
   "source": [
    "class ImagineDragons(MusicBand):\n",
    "    \n",
    "    def __init__(self):\n",
    "        print(\"ImagineDragons\")\n",
    "        \n",
    "        MusicBand.__init__(self)"
   ]
  },
  {
   "cell_type": "markdown",
   "id": "0f7cae2d",
   "metadata": {},
   "source": [
    "Here we have two classes, `OneRepublic` and `ImagineDragons`, inherited from `MusicBand`. Sort of triangular hierarchy."
   ]
  },
  {
   "cell_type": "code",
   "execution_count": 40,
   "id": "ae28c5c3",
   "metadata": {},
   "outputs": [],
   "source": [
    "# Now we are going to do Muliple inheritance, sort of diamond hierarchy\n",
    "\n",
    "class ImagineRepublic(ImagineDragons, OneRepublic):\n",
    "    \n",
    "    def __init__(self):\n",
    "        print(\"ImagineRepublic\")\n",
    "        \n",
    "        ImagineDragons.__init__(self)\n",
    "        OneRepublic.__init__(self)"
   ]
  },
  {
   "cell_type": "code",
   "execution_count": 41,
   "id": "12308768",
   "metadata": {},
   "outputs": [
    {
     "name": "stdout",
     "output_type": "stream",
     "text": [
      "ImagineRepublic\n",
      "ImagineDragons\n",
      "MusicBand\n",
      "OneRepublic\n",
      "MusicBand\n"
     ]
    }
   ],
   "source": [
    "imagine_republic = ImagineRepublic()"
   ]
  },
  {
   "cell_type": "markdown",
   "id": "38e06c67",
   "metadata": {},
   "source": [
    "Here the `MusicBand` baseclass is initialized twice because of that `diamond heirarchy` (multiple inheritance)."
   ]
  },
  {
   "cell_type": "code",
   "execution_count": 42,
   "id": "f0bdbf9d",
   "metadata": {},
   "outputs": [],
   "source": [
    "# the above issue can be solved using super()\n",
    "\n",
    "class OneRepublic(MusicBand):\n",
    "    \n",
    "    def __init__(self):\n",
    "        print(\"OneRepublic\")\n",
    "        \n",
    "        super().__init__()\n",
    "\n",
    "\n",
    "class ImagineDragons(MusicBand):\n",
    "    \n",
    "    def __init__(self):\n",
    "        print(\"ImagineDragons\")\n",
    "        \n",
    "        super().__init__()\n",
    "\n",
    "\n",
    "class ImagineRepublic(ImagineDragons, OneRepublic):\n",
    "    \n",
    "    def __init__(self):\n",
    "        print(\"ImagineRepublic\")\n",
    "        \n",
    "        super().__init__()"
   ]
  },
  {
   "cell_type": "code",
   "execution_count": 44,
   "id": "c18217ac",
   "metadata": {},
   "outputs": [
    {
     "name": "stdout",
     "output_type": "stream",
     "text": [
      "ImagineRepublic\n",
      "ImagineDragons\n",
      "OneRepublic\n",
      "MusicBand\n"
     ]
    }
   ],
   "source": [
    "imagine_republic = ImagineRepublic()"
   ]
  },
  {
   "cell_type": "markdown",
   "id": "a935a614",
   "metadata": {},
   "source": [
    "Here the issue is solved as the `super()` function figures out the best way to do. It usually uses `Method Resolution Order` `(mro)`"
   ]
  },
  {
   "cell_type": "markdown",
   "id": "19d0516f",
   "metadata": {},
   "source": [
    "## Classmethods, staticmethods and properties"
   ]
  },
  {
   "cell_type": "markdown",
   "id": "f984af93",
   "metadata": {},
   "source": [
    "- Object getter and setter properties (the `@property` decorator)\n",
    "\n",
    "\n",
    "- Static methods (the `@staticmethod` decorator)\n",
    "\n",
    "\n",
    "- Class methods (the `@classmethod` decorator)"
   ]
  },
  {
   "cell_type": "markdown",
   "id": "58bec8d3",
   "metadata": {},
   "source": [
    "**NOTE:** Decorators are used to change the behavior of the methods or functions in a class definition."
   ]
  },
  {
   "cell_type": "code",
   "execution_count": 45,
   "id": "5da65caf",
   "metadata": {},
   "outputs": [],
   "source": [
    "class Person:\n",
    "    \n",
    "    def __init__(self, name):\n",
    "        self._name = name\n",
    "        \n",
    "    def name(self):\n",
    "        return self._name"
   ]
  },
  {
   "cell_type": "code",
   "execution_count": 46,
   "id": "365291ed",
   "metadata": {},
   "outputs": [
    {
     "data": {
      "text/plain": [
       "'Karthick'"
      ]
     },
     "execution_count": 46,
     "metadata": {},
     "output_type": "execute_result"
    }
   ],
   "source": [
    "person = Person(\"Karthick\")\n",
    "\n",
    "person.name()"
   ]
  },
  {
   "cell_type": "markdown",
   "id": "89f64bec",
   "metadata": {},
   "source": [
    "### I. property"
   ]
  },
  {
   "cell_type": "code",
   "execution_count": 53,
   "id": "b65469a5",
   "metadata": {},
   "outputs": [],
   "source": [
    "class Person:\n",
    "    \n",
    "    def __init__(self, name):\n",
    "        self._name = name\n",
    "        \n",
    "    # getter property\n",
    "    @property\n",
    "    def name(self):\n",
    "        return self._name\n",
    "    \n",
    "    # setter property\n",
    "    @name.setter\n",
    "    def name(self, name):\n",
    "        self._name = name"
   ]
  },
  {
   "cell_type": "code",
   "execution_count": 54,
   "id": "b31a5eb7",
   "metadata": {},
   "outputs": [
    {
     "data": {
      "text/plain": [
       "'Sabari'"
      ]
     },
     "execution_count": 54,
     "metadata": {},
     "output_type": "execute_result"
    }
   ],
   "source": [
    "person = Person(\"Sabari\")\n",
    "\n",
    "person.name"
   ]
  },
  {
   "cell_type": "code",
   "execution_count": 55,
   "id": "22bb84f0",
   "metadata": {},
   "outputs": [
    {
     "ename": "TypeError",
     "evalue": "'str' object is not callable",
     "output_type": "error",
     "traceback": [
      "\u001b[1;31m---------------------------------------------------------------------------\u001b[0m",
      "\u001b[1;31mTypeError\u001b[0m                                 Traceback (most recent call last)",
      "Input \u001b[1;32mIn [55]\u001b[0m, in \u001b[0;36m<cell line: 1>\u001b[1;34m()\u001b[0m\n\u001b[1;32m----> 1\u001b[0m \u001b[43mperson\u001b[49m\u001b[38;5;241;43m.\u001b[39;49m\u001b[43mname\u001b[49m\u001b[43m(\u001b[49m\u001b[43m)\u001b[49m\n",
      "\u001b[1;31mTypeError\u001b[0m: 'str' object is not callable"
     ]
    }
   ],
   "source": [
    "person.name()"
   ]
  },
  {
   "cell_type": "code",
   "execution_count": 56,
   "id": "c5faca6f",
   "metadata": {},
   "outputs": [],
   "source": [
    "# setting / changing name\n",
    "\n",
    "person.name = \"Bruce\""
   ]
  },
  {
   "cell_type": "code",
   "execution_count": 57,
   "id": "7bc113e0",
   "metadata": {},
   "outputs": [
    {
     "data": {
      "text/plain": [
       "'Bruce'"
      ]
     },
     "execution_count": 57,
     "metadata": {},
     "output_type": "execute_result"
    }
   ],
   "source": [
    "person.name"
   ]
  },
  {
   "cell_type": "code",
   "execution_count": 63,
   "id": "ebcb0426",
   "metadata": {},
   "outputs": [],
   "source": [
    "# one major use case of @property is validation\n",
    "\n",
    "EMPLOYEES = [\n",
    "    \"Karthick\",\n",
    "    \"Sabari\",\n",
    "    \"Bruce\",\n",
    "    \"Wayne\"\n",
    "]\n",
    "\n",
    "\n",
    "class Employee:\n",
    "    \n",
    "    def __init__(self, name):\n",
    "        self._name = name\n",
    "        \n",
    "    # getter property\n",
    "    @property\n",
    "    def name(self):\n",
    "        return self._name\n",
    "    \n",
    "    # setter property\n",
    "    @name.setter\n",
    "    def name(self, name):\n",
    "        if name not in EMPLOYEES:\n",
    "            raise ValueError(f\"{name} is not an employee\")\n",
    "\n",
    "        self._name = name"
   ]
  },
  {
   "cell_type": "code",
   "execution_count": 64,
   "id": "8a8b4537",
   "metadata": {},
   "outputs": [],
   "source": [
    "employee = Employee(\"Karthik\")"
   ]
  },
  {
   "cell_type": "code",
   "execution_count": 65,
   "id": "81720a08",
   "metadata": {},
   "outputs": [],
   "source": [
    "employee = Employee(\"Karthick\")"
   ]
  },
  {
   "cell_type": "code",
   "execution_count": 66,
   "id": "48c8e6c3",
   "metadata": {},
   "outputs": [
    {
     "data": {
      "text/plain": [
       "'Karthick'"
      ]
     },
     "execution_count": 66,
     "metadata": {},
     "output_type": "execute_result"
    }
   ],
   "source": [
    "employee.name"
   ]
  },
  {
   "cell_type": "code",
   "execution_count": 67,
   "id": "d25908fd",
   "metadata": {},
   "outputs": [
    {
     "ename": "ValueError",
     "evalue": "Karthik is not an employee",
     "output_type": "error",
     "traceback": [
      "\u001b[1;31m---------------------------------------------------------------------------\u001b[0m",
      "\u001b[1;31mValueError\u001b[0m                                Traceback (most recent call last)",
      "Input \u001b[1;32mIn [67]\u001b[0m, in \u001b[0;36m<cell line: 1>\u001b[1;34m()\u001b[0m\n\u001b[1;32m----> 1\u001b[0m employee\u001b[38;5;241m.\u001b[39mname \u001b[38;5;241m=\u001b[39m \u001b[38;5;124m\"\u001b[39m\u001b[38;5;124mKarthik\u001b[39m\u001b[38;5;124m\"\u001b[39m\n",
      "Input \u001b[1;32mIn [63]\u001b[0m, in \u001b[0;36mEmployee.name\u001b[1;34m(self, name)\u001b[0m\n\u001b[0;32m     22\u001b[0m \u001b[38;5;129m@name\u001b[39m\u001b[38;5;241m.\u001b[39msetter\n\u001b[0;32m     23\u001b[0m \u001b[38;5;28;01mdef\u001b[39;00m \u001b[38;5;21mname\u001b[39m(\u001b[38;5;28mself\u001b[39m, name):\n\u001b[0;32m     24\u001b[0m     \u001b[38;5;28;01mif\u001b[39;00m name \u001b[38;5;129;01mnot\u001b[39;00m \u001b[38;5;129;01min\u001b[39;00m EMPLOYEES:\n\u001b[1;32m---> 25\u001b[0m         \u001b[38;5;28;01mraise\u001b[39;00m \u001b[38;5;167;01mValueError\u001b[39;00m(\u001b[38;5;124mf\u001b[39m\u001b[38;5;124m\"\u001b[39m\u001b[38;5;132;01m{\u001b[39;00mname\u001b[38;5;132;01m}\u001b[39;00m\u001b[38;5;124m is not an employee\u001b[39m\u001b[38;5;124m\"\u001b[39m)\n\u001b[0;32m     27\u001b[0m     \u001b[38;5;28mself\u001b[39m\u001b[38;5;241m.\u001b[39m_name \u001b[38;5;241m=\u001b[39m name\n",
      "\u001b[1;31mValueError\u001b[0m: Karthik is not an employee"
     ]
    }
   ],
   "source": [
    "employee.name = \"Karthik\""
   ]
  },
  {
   "cell_type": "markdown",
   "id": "ce3b548a",
   "metadata": {},
   "source": [
    "### II. staticmethod\n",
    "\n",
    "`@staticmethod` is often used to create / implement `factory functions`. Factory functions are functions that generate the instance of that class."
   ]
  },
  {
   "cell_type": "code",
   "execution_count": 2,
   "id": "ceeb158b",
   "metadata": {},
   "outputs": [],
   "source": [
    "import random\n",
    "\n",
    "EMPLOYEES = [\n",
    "    \"Karthick\",\n",
    "    \"Sabari\",\n",
    "    \"Bruce\",\n",
    "    \"Wayne\"\n",
    "]\n",
    "\n",
    "\n",
    "class Employee:\n",
    "    \n",
    "    def __init__(self, name):\n",
    "        self._name = name\n",
    "        \n",
    "    # getter property\n",
    "    @property\n",
    "    def name(self):\n",
    "        return self._name\n",
    "    \n",
    "    # setter property\n",
    "    @name.setter\n",
    "    def name(self, name):\n",
    "        if name not in EMPLOYEES:\n",
    "            raise ValueError(f\"{name} is not an employee\")\n",
    "\n",
    "        self._name = name\n",
    "    \n",
    "    @staticmethod\n",
    "    def random_employee():\n",
    "        return Employee(random.choice(EMPLOYEES))"
   ]
  },
  {
   "cell_type": "code",
   "execution_count": 13,
   "id": "7337a604",
   "metadata": {},
   "outputs": [
    {
     "data": {
      "text/plain": [
       "'Sabari'"
      ]
     },
     "execution_count": 13,
     "metadata": {},
     "output_type": "execute_result"
    }
   ],
   "source": [
    "rand_emp = Employee.random_employee()\n",
    "\n",
    "rand_emp.name"
   ]
  },
  {
   "cell_type": "markdown",
   "id": "bacd38bc",
   "metadata": {},
   "source": [
    "### III. classmethod"
   ]
  },
  {
   "cell_type": "code",
   "execution_count": 14,
   "id": "280f2d61",
   "metadata": {},
   "outputs": [],
   "source": [
    "import random\n",
    "\n",
    "EMPLOYEES = [\n",
    "    \"Karthick\",\n",
    "    \"Sabari\",\n",
    "    \"Bruce\",\n",
    "    \"Wayne\"\n",
    "]\n",
    "\n",
    "\n",
    "class Employee:\n",
    "    \n",
    "    _hits = [\n",
    "        \"Connection\",\n",
    "        \"Counting Stars\",\n",
    "        \"Believer\",\n",
    "        \"Dancing with your ghost\"\n",
    "    ]\n",
    "    \n",
    "    def __init__(self, name):\n",
    "        self._name = name\n",
    "        \n",
    "    # getter property\n",
    "    @property\n",
    "    def name(self):\n",
    "        return self._name\n",
    "    \n",
    "    # setter property\n",
    "    @name.setter\n",
    "    def name(self, name):\n",
    "        if name not in EMPLOYEES:\n",
    "            raise ValueError(f\"{name} is not an employee\")\n",
    "\n",
    "        self._name = name\n",
    "    \n",
    "    @staticmethod\n",
    "    def random_employee():\n",
    "        return Employee(random.choice(EMPLOYEES))\n",
    "    \n",
    "    @classmethod\n",
    "    def hits(cls):  # cls refers to the class\n",
    "        return cls._hits"
   ]
  },
  {
   "cell_type": "code",
   "execution_count": 15,
   "id": "03349385",
   "metadata": {},
   "outputs": [
    {
     "data": {
      "text/plain": [
       "['Connection', 'Counting Stars', 'Believer', 'Dancing with your ghost']"
      ]
     },
     "execution_count": 15,
     "metadata": {},
     "output_type": "execute_result"
    }
   ],
   "source": [
    "Employee.hits()"
   ]
  },
  {
   "cell_type": "code",
   "execution_count": 16,
   "id": "616e64a6",
   "metadata": {},
   "outputs": [
    {
     "data": {
      "text/plain": [
       "['Connection', 'Counting Stars', 'Believer', 'Dancing with your ghost']"
      ]
     },
     "execution_count": 16,
     "metadata": {},
     "output_type": "execute_result"
    }
   ],
   "source": [
    "employee = Employee(\"Shiva\")\n",
    "\n",
    "employee.hits()"
   ]
  },
  {
   "cell_type": "code",
   "execution_count": 18,
   "id": "99c3cc7e",
   "metadata": {},
   "outputs": [
    {
     "data": {
      "text/plain": [
       "['Connection', 'Counting Stars', 'Believer', 'Dancing with your ghost']"
      ]
     },
     "execution_count": 18,
     "metadata": {},
     "output_type": "execute_result"
    }
   ],
   "source": [
    "# providing _hits for an instance\n",
    "another_employee = Employee(\"Tony\")\n",
    "another_employee._hits = [\"Castle on the hill\", \"Beautiful people\"]\n",
    "\n",
    "another_employee.hits()"
   ]
  },
  {
   "cell_type": "markdown",
   "id": "e6085a13",
   "metadata": {},
   "source": [
    "Above, we changed the `_hits` property of an instance, but we get the attribute value of the class. Coz the `hits` method is of classmethod and its refers to the class attribute `(cls)`"
   ]
  },
  {
   "cell_type": "code",
   "execution_count": 20,
   "id": "ecdd78e6",
   "metadata": {},
   "outputs": [
    {
     "data": {
      "text/plain": [
       "['Castle on the hill', 'Beautiful people']"
      ]
     },
     "execution_count": 20,
     "metadata": {},
     "output_type": "execute_result"
    }
   ],
   "source": [
    "# we shouldn't do this\n",
    "# this changes the actual class attribute\n",
    "\n",
    "another_employee.__class__._hits = [\"Castle on the hill\", \"Beautiful people\"]\n",
    "\n",
    "another_employee.hits()"
   ]
  }
 ],
 "metadata": {
  "kernelspec": {
   "display_name": "Python 3 (ipykernel)",
   "language": "python",
   "name": "python3"
  },
  "language_info": {
   "codemirror_mode": {
    "name": "ipython",
    "version": 3
   },
   "file_extension": ".py",
   "mimetype": "text/x-python",
   "name": "python",
   "nbconvert_exporter": "python",
   "pygments_lexer": "ipython3",
   "version": "3.10.4"
  }
 },
 "nbformat": 4,
 "nbformat_minor": 5
}
