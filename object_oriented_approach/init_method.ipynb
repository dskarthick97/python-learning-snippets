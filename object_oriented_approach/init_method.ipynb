{
 "cells": [
  {
   "cell_type": "markdown",
   "id": "90c92d2a",
   "metadata": {},
   "source": [
    "## init method"
   ]
  },
  {
   "cell_type": "code",
   "execution_count": 1,
   "id": "b1e13dd6",
   "metadata": {},
   "outputs": [],
   "source": [
    "class Person:\n",
    "    pass"
   ]
  },
  {
   "cell_type": "code",
   "execution_count": 2,
   "id": "728df0a8",
   "metadata": {},
   "outputs": [],
   "source": [
    "o1 = Person()\n",
    "o2 = Person()"
   ]
  },
  {
   "cell_type": "code",
   "execution_count": 3,
   "id": "64000e9b",
   "metadata": {},
   "outputs": [
    {
     "data": {
      "text/plain": [
       "__main__.Person"
      ]
     },
     "execution_count": 3,
     "metadata": {},
     "output_type": "execute_result"
    }
   ],
   "source": [
    "type(o1)"
   ]
  },
  {
   "cell_type": "code",
   "execution_count": 4,
   "id": "58282c07",
   "metadata": {},
   "outputs": [
    {
     "data": {
      "text/plain": [
       "__main__.Person"
      ]
     },
     "execution_count": 4,
     "metadata": {},
     "output_type": "execute_result"
    }
   ],
   "source": [
    "type(o2)"
   ]
  },
  {
   "cell_type": "markdown",
   "id": "7d2cbb15",
   "metadata": {},
   "source": [
    "In python, anyone can at anytime can add any field to the object. But in some statically typed language, the fields have to be defined way earlier"
   ]
  },
  {
   "cell_type": "code",
   "execution_count": 5,
   "id": "f0794c3c",
   "metadata": {},
   "outputs": [],
   "source": [
    "# adding fields to an object\n",
    "\n",
    "o1.x = 10\n",
    "o1.y = [10, 20, 30]"
   ]
  },
  {
   "cell_type": "code",
   "execution_count": 6,
   "id": "2e681f46",
   "metadata": {},
   "outputs": [
    {
     "data": {
      "text/plain": [
       "{'x': 10, 'y': [10, 20, 30]}"
      ]
     },
     "execution_count": 6,
     "metadata": {},
     "output_type": "execute_result"
    }
   ],
   "source": [
    "# vars -- returns a dictionary containing attributes of an object\n",
    "\n",
    "vars(o1)"
   ]
  },
  {
   "cell_type": "code",
   "execution_count": 7,
   "id": "a9f9169d",
   "metadata": {},
   "outputs": [
    {
     "data": {
      "text/plain": [
       "{}"
      ]
     },
     "execution_count": 7,
     "metadata": {},
     "output_type": "execute_result"
    }
   ],
   "source": [
    "vars(o2)"
   ]
  },
  {
   "cell_type": "code",
   "execution_count": 8,
   "id": "db065bf6",
   "metadata": {},
   "outputs": [],
   "source": [
    "o2.a = {1, 2, 3, 4, 5}\n",
    "o2.b = {\"a\": 1, \"b\": 2, \"c\": 3}"
   ]
  },
  {
   "cell_type": "code",
   "execution_count": 9,
   "id": "1a4a5f90",
   "metadata": {},
   "outputs": [
    {
     "data": {
      "text/plain": [
       "{'a': {1, 2, 3, 4, 5}, 'b': {'a': 1, 'b': 2, 'c': 3}}"
      ]
     },
     "execution_count": 9,
     "metadata": {},
     "output_type": "execute_result"
    }
   ],
   "source": [
    "vars(o2)"
   ]
  },
  {
   "cell_type": "markdown",
   "id": "78a62f79",
   "metadata": {},
   "source": [
    "**NOTE** : Here the object o1 and o2 have different names, attributes though they are the instances of same class"
   ]
  },
  {
   "cell_type": "code",
   "execution_count": 15,
   "id": "5addeeed",
   "metadata": {},
   "outputs": [],
   "source": [
    "# dunder init method helps enforcing consistency of the instances.\n",
    "# it automatically gets executed before the object is created for the class\n",
    "\n",
    "class Person:\n",
    "    def __init__(self, x, y):\n",
    "        print(f\"Now running class Person.__init__, with {x=} and {y=}\") # Python 3.8 syntax\n",
    "        self.x = x\n",
    "        self.y = y"
   ]
  },
  {
   "cell_type": "code",
   "execution_count": 11,
   "id": "d4b3e0c8",
   "metadata": {},
   "outputs": [
    {
     "name": "stdout",
     "output_type": "stream",
     "text": [
      "Now running class Person.__init__, with x=10 and y=20\n"
     ]
    }
   ],
   "source": [
    "o1 = Person(10, 20)"
   ]
  },
  {
   "cell_type": "code",
   "execution_count": 12,
   "id": "bba12480",
   "metadata": {},
   "outputs": [
    {
     "data": {
      "text/plain": [
       "{'x': 10, 'y': 20}"
      ]
     },
     "execution_count": 12,
     "metadata": {},
     "output_type": "execute_result"
    }
   ],
   "source": [
    "vars(o1)"
   ]
  },
  {
   "cell_type": "code",
   "execution_count": 13,
   "id": "631cf044",
   "metadata": {},
   "outputs": [
    {
     "name": "stdout",
     "output_type": "stream",
     "text": [
      "Now running class Person.__init__, with x={1, 2, 3, 4, 5} and y={'a': 1, 'b': 2}\n"
     ]
    }
   ],
   "source": [
    "o2 = Person({1, 2, 3, 4, 5}, {\"a\": 1, \"b\": 2})"
   ]
  },
  {
   "cell_type": "code",
   "execution_count": 14,
   "id": "caf4277b",
   "metadata": {},
   "outputs": [
    {
     "data": {
      "text/plain": [
       "{'x': {1, 2, 3, 4, 5}, 'y': {'a': 1, 'b': 2}}"
      ]
     },
     "execution_count": 14,
     "metadata": {},
     "output_type": "execute_result"
    }
   ],
   "source": [
    "vars(o2)"
   ]
  },
  {
   "cell_type": "code",
   "execution_count": null,
   "id": "10392636",
   "metadata": {},
   "outputs": [],
   "source": []
  }
 ],
 "metadata": {
  "kernelspec": {
   "display_name": "Python 3 (ipykernel)",
   "language": "python",
   "name": "python3"
  },
  "language_info": {
   "codemirror_mode": {
    "name": "ipython",
    "version": 3
   },
   "file_extension": ".py",
   "mimetype": "text/x-python",
   "name": "python",
   "nbconvert_exporter": "python",
   "pygments_lexer": "ipython3",
   "version": "3.10.4"
  }
 },
 "nbformat": 4,
 "nbformat_minor": 5
}
