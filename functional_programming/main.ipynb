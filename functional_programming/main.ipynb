{
 "cells": [
  {
   "cell_type": "markdown",
   "id": "f41f9df7",
   "metadata": {},
   "source": [
    "# lambda function\n",
    "\n",
    "`Syntax`: lambda arguments: expression."
   ]
  },
  {
   "cell_type": "code",
   "execution_count": 1,
   "id": "141f592b",
   "metadata": {},
   "outputs": [],
   "source": [
    "# normal way or writing a function\n",
    "def power(a, b):\n",
    "    return a**b\n",
    "\n",
    "\n",
    "lambda_power = lambda a, b: a**b"
   ]
  },
  {
   "cell_type": "code",
   "execution_count": 2,
   "id": "7d56f138",
   "metadata": {},
   "outputs": [
    {
     "data": {
      "text/plain": [
       "8"
      ]
     },
     "execution_count": 2,
     "metadata": {},
     "output_type": "execute_result"
    }
   ],
   "source": [
    "lambda_power(2, 3)"
   ]
  },
  {
   "cell_type": "code",
   "execution_count": 3,
   "id": "7ce88afe",
   "metadata": {},
   "outputs": [],
   "source": [
    "nums = [1, 2, 3, 4, 5]"
   ]
  },
  {
   "cell_type": "code",
   "execution_count": 4,
   "id": "b8ceb3a6",
   "metadata": {},
   "outputs": [],
   "source": [
    "avg = lambda L: sum(L) / len(L)"
   ]
  },
  {
   "cell_type": "code",
   "execution_count": 5,
   "id": "c18d8ecf",
   "metadata": {},
   "outputs": [
    {
     "data": {
      "text/plain": [
       "3.0"
      ]
     },
     "execution_count": 5,
     "metadata": {},
     "output_type": "execute_result"
    }
   ],
   "source": [
    "avg(nums)"
   ]
  },
  {
   "cell_type": "markdown",
   "id": "f7b92e71",
   "metadata": {},
   "source": [
    "# map\n",
    "\n",
    "Used to map every element of a sequence object with a given function."
   ]
  },
  {
   "cell_type": "code",
   "execution_count": 7,
   "id": "8ce6f2cb",
   "metadata": {},
   "outputs": [],
   "source": [
    "float_nums = map(float, nums)"
   ]
  },
  {
   "cell_type": "code",
   "execution_count": 9,
   "id": "635da7c7",
   "metadata": {},
   "outputs": [
    {
     "data": {
      "text/plain": [
       "[1.0, 2.0, 3.0, 4.0, 5.0]"
      ]
     },
     "execution_count": 9,
     "metadata": {},
     "output_type": "execute_result"
    }
   ],
   "source": [
    "list(float_nums)"
   ]
  },
  {
   "cell_type": "code",
   "execution_count": 10,
   "id": "c829a8b0",
   "metadata": {},
   "outputs": [
    {
     "data": {
      "text/plain": [
       "[1, 4, 9, 16, 25]"
      ]
     },
     "execution_count": 10,
     "metadata": {},
     "output_type": "execute_result"
    }
   ],
   "source": [
    "list(map(lambda x: x**2, nums))"
   ]
  },
  {
   "cell_type": "markdown",
   "id": "03817137",
   "metadata": {},
   "source": [
    "# filter\n",
    "\n",
    "Used to filter some elements out of a sequence object based on a testing condition."
   ]
  },
  {
   "cell_type": "code",
   "execution_count": 13,
   "id": "ec513308",
   "metadata": {},
   "outputs": [],
   "source": [
    "odd_el = filter(lambda x: x%2, nums)"
   ]
  },
  {
   "cell_type": "code",
   "execution_count": 14,
   "id": "da4b757b",
   "metadata": {},
   "outputs": [
    {
     "data": {
      "text/plain": [
       "[1, 3, 5]"
      ]
     },
     "execution_count": 14,
     "metadata": {},
     "output_type": "execute_result"
    }
   ],
   "source": [
    "list(odd_el)"
   ]
  },
  {
   "cell_type": "markdown",
   "id": "e62b354f",
   "metadata": {},
   "source": [
    "# reduce\n",
    "\n",
    "Used to perform some computation on a sequence object."
   ]
  },
  {
   "cell_type": "code",
   "execution_count": 20,
   "id": "c9895422",
   "metadata": {},
   "outputs": [
    {
     "data": {
      "text/plain": [
       "120"
      ]
     },
     "execution_count": 20,
     "metadata": {},
     "output_type": "execute_result"
    }
   ],
   "source": [
    "from functools import reduce\n",
    "\n",
    "reduce(lambda x, y: x*y, nums)"
   ]
  },
  {
   "cell_type": "code",
   "execution_count": 23,
   "id": "f5c9ef9b",
   "metadata": {},
   "outputs": [
    {
     "data": {
      "text/plain": [
       "5"
      ]
     },
     "execution_count": 23,
     "metadata": {},
     "output_type": "execute_result"
    }
   ],
   "source": [
    "# finding the largest number in a sequence\n",
    "\n",
    "reduce(lambda x, y: y if y>x else x, nums)"
   ]
  }
 ],
 "metadata": {
  "kernelspec": {
   "display_name": "Python 3 (ipykernel)",
   "language": "python",
   "name": "python3"
  },
  "language_info": {
   "codemirror_mode": {
    "name": "ipython",
    "version": 3
   },
   "file_extension": ".py",
   "mimetype": "text/x-python",
   "name": "python",
   "nbconvert_exporter": "python",
   "pygments_lexer": "ipython3",
   "version": "3.10.4"
  }
 },
 "nbformat": 4,
 "nbformat_minor": 5
}
